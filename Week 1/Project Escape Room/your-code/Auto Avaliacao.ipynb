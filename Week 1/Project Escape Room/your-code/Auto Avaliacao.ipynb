{
 "cells": [
  {
   "cell_type": "markdown",
   "metadata": {},
   "source": [
    "# Auto Avaliação Projeto 1\n",
    "\n",
    "<br>Analisando o projeto da Kelly em relação ao meu, apesar que ambos utilizarem o código dado de exemplo como base, é possível notar algumas diferenças de como o código foi estruturado. No meu caso, mantive a mesma estrutura de inputs e outputs ao usúario, as funções pouco mudaram, somente fiz algumas adaptações para o jogo funcionar, dado que no exemplo tinhamos apenas 1 sala, 1 porta e poucos objetos interáveis. Por outro lado, foquei em traduzir totalmente o jogo para português, o que demandou algum tempo, pois tive que entender todas as relações entre variáveis e funções. Como o código está quase todo estruturado com base em dicionários, mudar o nome de uma variável implica em revisar todo o caminho que esta variável percorre na lógica do jogo montado.</br>\n",
    "\n",
    "<br>Já a Kelly focou na jogabilidade do usuário, que ficou mais fluída, uma vez que o jogador não precisa ficar digitando 'examinar' e 'explorar' a cada ação realizada, além de listar as ações disponíveis ao jogador em números, o que agiliza e facilita bastante o processo.</br>\n",
    "\n",
    "<br>Ao examinar o código da Kelly acredito que eu poderia melhorar o meu com base nas implementações que ela fez, deixando a experiência do usuário mais fluída e com outputs mais limpos e claros. Em relação ao meu jogo, uma melhoria que eu poderia sugerir ao jogo da Kelly seria a tradução para o português, já que isso me ajudou bastante a compreender como a relação 'key' e 'value' funciona em dicionários no Python.</br>"
   ]
  }
 ],
 "metadata": {
  "kernelspec": {
   "display_name": "Python 3",
   "language": "python",
   "name": "python3"
  },
  "language_info": {
   "codemirror_mode": {
    "name": "ipython",
    "version": 3
   },
   "file_extension": ".py",
   "mimetype": "text/x-python",
   "name": "python",
   "nbconvert_exporter": "python",
   "pygments_lexer": "ipython3",
   "version": "3.7.3"
  }
 },
 "nbformat": 4,
 "nbformat_minor": 2
}
