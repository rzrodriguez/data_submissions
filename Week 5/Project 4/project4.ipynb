{
 "cells": [
  {
   "cell_type": "code",
   "execution_count": null,
   "metadata": {},
   "outputs": [],
   "source": [
    "#Importando bibliotecas"
   ]
  },
  {
   "cell_type": "code",
   "execution_count": 1,
   "metadata": {},
   "outputs": [],
   "source": [
    "import pandas as pd\n",
    "import sqlalchemy\n",
    "import pymysql\n",
    "import seaborn as sns\n",
    "import matplotlib.pyplot as plt\n",
    "%matplotlib inline"
   ]
  },
  {
   "cell_type": "code",
   "execution_count": 2,
   "metadata": {},
   "outputs": [],
   "source": [
    "#conectando com o servidor local MySql"
   ]
  },
  {
   "cell_type": "code",
   "execution_count": 3,
   "metadata": {},
   "outputs": [],
   "source": [
    "connect_string = 'mysql+pymysql://{}:{}@{}:{}/{}?charset=utf8'.format('root', 'tricolor21', 'localhost', '3306', 'proj4')\n",
    "engine = sqlalchemy.create_engine(connect_string)\n",
    "cnx = engine.connect()\n",
    "sql = '''\n",
    "SELECT *\n",
    "FROM account\n",
    "'''\n",
    "result = cnx.execute(sql)\n",
    "account = result"
   ]
  },
  {
   "cell_type": "code",
   "execution_count": null,
   "metadata": {},
   "outputs": [],
   "source": [
    "#Importando tabela account"
   ]
  },
  {
   "cell_type": "code",
   "execution_count": 25,
   "metadata": {},
   "outputs": [],
   "source": [
    "db_account = pd.DataFrame(account)"
   ]
  },
  {
   "cell_type": "code",
   "execution_count": 26,
   "metadata": {},
   "outputs": [
    {
     "data": {
      "text/html": [
       "<div>\n",
       "<style scoped>\n",
       "    .dataframe tbody tr th:only-of-type {\n",
       "        vertical-align: middle;\n",
       "    }\n",
       "\n",
       "    .dataframe tbody tr th {\n",
       "        vertical-align: top;\n",
       "    }\n",
       "\n",
       "    .dataframe thead th {\n",
       "        text-align: right;\n",
       "    }\n",
       "</style>\n",
       "<table border=\"1\" class=\"dataframe\">\n",
       "  <thead>\n",
       "    <tr style=\"text-align: right;\">\n",
       "      <th></th>\n",
       "      <th>0</th>\n",
       "      <th>1</th>\n",
       "      <th>2</th>\n",
       "      <th>3</th>\n",
       "    </tr>\n",
       "  </thead>\n",
       "  <tbody>\n",
       "    <tr>\n",
       "      <th>0</th>\n",
       "      <td>1</td>\n",
       "      <td>18</td>\n",
       "      <td>monthly issuance</td>\n",
       "      <td>1995-03-24</td>\n",
       "    </tr>\n",
       "    <tr>\n",
       "      <th>1</th>\n",
       "      <td>2</td>\n",
       "      <td>1</td>\n",
       "      <td>monthly issuance</td>\n",
       "      <td>1993-02-26</td>\n",
       "    </tr>\n",
       "    <tr>\n",
       "      <th>2</th>\n",
       "      <td>3</td>\n",
       "      <td>5</td>\n",
       "      <td>monthly issuance</td>\n",
       "      <td>1997-07-07</td>\n",
       "    </tr>\n",
       "    <tr>\n",
       "      <th>3</th>\n",
       "      <td>4</td>\n",
       "      <td>12</td>\n",
       "      <td>monthly issuance</td>\n",
       "      <td>1996-02-21</td>\n",
       "    </tr>\n",
       "    <tr>\n",
       "      <th>4</th>\n",
       "      <td>5</td>\n",
       "      <td>15</td>\n",
       "      <td>monthly issuance</td>\n",
       "      <td>1997-05-30</td>\n",
       "    </tr>\n",
       "  </tbody>\n",
       "</table>\n",
       "</div>"
      ],
      "text/plain": [
       "   0   1                 2           3\n",
       "0  1  18  monthly issuance  1995-03-24\n",
       "1  2   1  monthly issuance  1993-02-26\n",
       "2  3   5  monthly issuance  1997-07-07\n",
       "3  4  12  monthly issuance  1996-02-21\n",
       "4  5  15  monthly issuance  1997-05-30"
      ]
     },
     "execution_count": 26,
     "metadata": {},
     "output_type": "execute_result"
    }
   ],
   "source": [
    "db_account.head()"
   ]
  },
  {
   "cell_type": "code",
   "execution_count": 27,
   "metadata": {},
   "outputs": [],
   "source": [
    "acc_cols = ['account_id', 'district_id', 'frequency', 'account_date']"
   ]
  },
  {
   "cell_type": "code",
   "execution_count": 28,
   "metadata": {},
   "outputs": [],
   "source": [
    "db_account.columns = acc_cols"
   ]
  },
  {
   "cell_type": "code",
   "execution_count": 29,
   "metadata": {},
   "outputs": [
    {
     "data": {
      "text/html": [
       "<div>\n",
       "<style scoped>\n",
       "    .dataframe tbody tr th:only-of-type {\n",
       "        vertical-align: middle;\n",
       "    }\n",
       "\n",
       "    .dataframe tbody tr th {\n",
       "        vertical-align: top;\n",
       "    }\n",
       "\n",
       "    .dataframe thead th {\n",
       "        text-align: right;\n",
       "    }\n",
       "</style>\n",
       "<table border=\"1\" class=\"dataframe\">\n",
       "  <thead>\n",
       "    <tr style=\"text-align: right;\">\n",
       "      <th></th>\n",
       "      <th>account_id</th>\n",
       "      <th>district_id</th>\n",
       "      <th>frequency</th>\n",
       "      <th>account_date</th>\n",
       "    </tr>\n",
       "  </thead>\n",
       "  <tbody>\n",
       "    <tr>\n",
       "      <th>0</th>\n",
       "      <td>1</td>\n",
       "      <td>18</td>\n",
       "      <td>monthly issuance</td>\n",
       "      <td>1995-03-24</td>\n",
       "    </tr>\n",
       "    <tr>\n",
       "      <th>1</th>\n",
       "      <td>2</td>\n",
       "      <td>1</td>\n",
       "      <td>monthly issuance</td>\n",
       "      <td>1993-02-26</td>\n",
       "    </tr>\n",
       "    <tr>\n",
       "      <th>2</th>\n",
       "      <td>3</td>\n",
       "      <td>5</td>\n",
       "      <td>monthly issuance</td>\n",
       "      <td>1997-07-07</td>\n",
       "    </tr>\n",
       "    <tr>\n",
       "      <th>3</th>\n",
       "      <td>4</td>\n",
       "      <td>12</td>\n",
       "      <td>monthly issuance</td>\n",
       "      <td>1996-02-21</td>\n",
       "    </tr>\n",
       "    <tr>\n",
       "      <th>4</th>\n",
       "      <td>5</td>\n",
       "      <td>15</td>\n",
       "      <td>monthly issuance</td>\n",
       "      <td>1997-05-30</td>\n",
       "    </tr>\n",
       "  </tbody>\n",
       "</table>\n",
       "</div>"
      ],
      "text/plain": [
       "   account_id  district_id         frequency account_date\n",
       "0           1           18  monthly issuance   1995-03-24\n",
       "1           2            1  monthly issuance   1993-02-26\n",
       "2           3            5  monthly issuance   1997-07-07\n",
       "3           4           12  monthly issuance   1996-02-21\n",
       "4           5           15  monthly issuance   1997-05-30"
      ]
     },
     "execution_count": 29,
     "metadata": {},
     "output_type": "execute_result"
    }
   ],
   "source": [
    "db_account.head()"
   ]
  },
  {
   "cell_type": "code",
   "execution_count": 30,
   "metadata": {},
   "outputs": [],
   "source": [
    "#Importando tabela card"
   ]
  },
  {
   "cell_type": "code",
   "execution_count": 4,
   "metadata": {},
   "outputs": [],
   "source": [
    "connect_string = 'mysql+pymysql://{}:{}@{}:{}/{}?charset=utf8'.format('root', 'tricolor21', 'localhost', '3306', 'proj4')\n",
    "engine = sqlalchemy.create_engine(connect_string)\n",
    "cnx = engine.connect()\n",
    "sql = '''\n",
    "SELECT *\n",
    "FROM account\n",
    "'''\n",
    "result = cnx.execute(sql)\n",
    "account = result"
   ]
  },
  {
   "cell_type": "code",
   "execution_count": 5,
   "metadata": {},
   "outputs": [],
   "source": [
    "tables = ['account', 'card', 'client', 'disp', 'district', 'loan', 'orders', 'transactions']"
   ]
  },
  {
   "cell_type": "code",
   "execution_count": 6,
   "metadata": {},
   "outputs": [],
   "source": [
    "#SELECT no servidor SQL. ***TIRAR A SENHA***\n",
    "dbs = []\n",
    "for table in tables:\n",
    "\n",
    "    connect_string = 'mysql+pymysql://{}:{}@{}:{}/{}?charset=utf8'.format('root', 'tricolor21', 'localhost', '3306', 'proj4')\n",
    "    engine = sqlalchemy.create_engine(connect_string)\n",
    "    cnx = engine.connect()\n",
    "    sql = 'SELECT * FROM ' + table \n",
    "    result = cnx.execute(sql)\n",
    "    dbs.append(result)"
   ]
  },
  {
   "cell_type": "code",
   "execution_count": 7,
   "metadata": {},
   "outputs": [],
   "source": [
    "#criando PandasDataFrames das tabelas\n",
    "\n",
    "db_account = pd.DataFrame(dbs[0])\n",
    "db_card = pd.DataFrame(dbs[1])\n",
    "db_client = pd.DataFrame(dbs[2])\n",
    "db_disp = pd.DataFrame(dbs[3])\n",
    "db_district = pd.DataFrame(dbs[4])\n",
    "db_loan = pd.DataFrame(dbs[5])\n",
    "db_orders = pd.DataFrame(dbs[6])\n",
    "db_transactions = pd.DataFrame(dbs[7])"
   ]
  },
  {
   "cell_type": "code",
   "execution_count": 8,
   "metadata": {},
   "outputs": [],
   "source": [
    "db_account.columns = ['account_id','district_id','frequency','account_date']\n",
    "db_card.columns = ['card_id','disp_id','type','issue_date']\n",
    "db_client.columns = ['client_id','birth_number','district_id','gender']\n",
    "db_disp.columns = ['disp_id','client_id','account_id','type']\n",
    "db_district.columns = ['district_id','district_name','district_region','no_inhabitants', 'no_inhabitants499',\n",
    "                      'no_inhabitants1999','no_inhabitants9999','no_inhabitants10000', 'no_cities', 'ratio_urban_inhabitants',\n",
    "                      'avg_salary', 'unemployment_rate95', 'unemployment_rate96', 'rate_entrepreneurs', 'no_crimes95',\n",
    "                      'no_crimes96']\n",
    "db_loan.columns = ['loan_id', 'account_id', 'amount', 'duration', 'payments', 'status', 'date_loan']\n",
    "db_orders.columns = ['order_id', 'account_id', 'bank_to', 'account_to', 'amount', 'k_symbol']\n",
    "db_transactions.columns = ['index', 'trans_id', 'account_id', 'transac_type', 'operation', 'amount', 'balance', 'k_symbol',\n",
    "                          'bank', 'account', 'date_trans']"
   ]
  },
  {
   "cell_type": "code",
   "execution_count": 9,
   "metadata": {},
   "outputs": [],
   "source": [
    "accs_distr = db_account.merge(db_district, on='district_id')"
   ]
  },
  {
   "cell_type": "code",
   "execution_count": 10,
   "metadata": {},
   "outputs": [
    {
     "data": {
      "text/plain": [
       "south Moravia      778\n",
       "north Moravia      745\n",
       "central Bohemia    574\n",
       "Prague             554\n",
       "east Bohemia       544\n",
       "north Bohemia      457\n",
       "west Bohemia       430\n",
       "south Bohemia      370\n",
       "Name: district_region, dtype: int64"
      ]
     },
     "execution_count": 10,
     "metadata": {},
     "output_type": "execute_result"
    }
   ],
   "source": [
    "accs_distr.district_region.value_counts()"
   ]
  },
  {
   "cell_type": "code",
   "execution_count": 11,
   "metadata": {},
   "outputs": [
    {
     "data": {
      "image/png": "[encoded data removed]",
      "text/plain": [
       "<Figure size 1080x360 with 1 Axes>"
      ]
     },
     "metadata": {
      "needs_background": "light"
     },
     "output_type": "display_data"
    }
   ],
   "source": [
    "#Grafico de número de contas por distrito\n",
    "plt.figure(figsize=(15,5))\n",
    "plt.title('Top 10 Districts')\n",
    "sns.countplot(x='district_name', data=accs_distr, order=accs_distr['district_name'].value_counts().index[:10]);\n",
    "sns.despine()"
   ]
  },
  {
   "cell_type": "code",
   "execution_count": 12,
   "metadata": {},
   "outputs": [
    {
     "data": {
      "image/png": "[encoded data removed]",
      "text/plain": [
       "<Figure size 216x360 with 1 Axes>"
      ]
     },
     "metadata": {
      "needs_background": "light"
     },
     "output_type": "display_data"
    }
   ],
   "source": [
    "#Grafico de número de contas por distrito\n",
    "plt.figure(figsize=(3,5))\n",
    "plt.title('Clients Gender')\n",
    "sns.countplot(x='gender', data=db_client);\n",
    "sns.despine()"
   ]
  },
  {
   "cell_type": "code",
   "execution_count": null,
   "metadata": {},
   "outputs": [],
   "source": []
  },
  {
   "cell_type": "code",
   "execution_count": 13,
   "metadata": {},
   "outputs": [
    {
     "data": {
      "text/html": [
       "<div>\n",
       "<style scoped>\n",
       "    .dataframe tbody tr th:only-of-type {\n",
       "        vertical-align: middle;\n",
       "    }\n",
       "\n",
       "    .dataframe tbody tr th {\n",
       "        vertical-align: top;\n",
       "    }\n",
       "\n",
       "    .dataframe thead th {\n",
       "        text-align: right;\n",
       "    }\n",
       "</style>\n",
       "<table border=\"1\" class=\"dataframe\">\n",
       "  <thead>\n",
       "    <tr style=\"text-align: right;\">\n",
       "      <th></th>\n",
       "      <th>client_id</th>\n",
       "      <th>birth_number</th>\n",
       "      <th>district_id</th>\n",
       "      <th>gender</th>\n",
       "    </tr>\n",
       "  </thead>\n",
       "  <tbody>\n",
       "    <tr>\n",
       "      <th>0</th>\n",
       "      <td>1</td>\n",
       "      <td>701213</td>\n",
       "      <td>18</td>\n",
       "      <td>F</td>\n",
       "    </tr>\n",
       "    <tr>\n",
       "      <th>1</th>\n",
       "      <td>2</td>\n",
       "      <td>450204</td>\n",
       "      <td>1</td>\n",
       "      <td>M</td>\n",
       "    </tr>\n",
       "    <tr>\n",
       "      <th>2</th>\n",
       "      <td>3</td>\n",
       "      <td>401009</td>\n",
       "      <td>1</td>\n",
       "      <td>F</td>\n",
       "    </tr>\n",
       "    <tr>\n",
       "      <th>3</th>\n",
       "      <td>4</td>\n",
       "      <td>561201</td>\n",
       "      <td>5</td>\n",
       "      <td>M</td>\n",
       "    </tr>\n",
       "    <tr>\n",
       "      <th>4</th>\n",
       "      <td>5</td>\n",
       "      <td>600703</td>\n",
       "      <td>5</td>\n",
       "      <td>F</td>\n",
       "    </tr>\n",
       "  </tbody>\n",
       "</table>\n",
       "</div>"
      ],
      "text/plain": [
       "   client_id  birth_number  district_id gender\n",
       "0          1        701213           18      F\n",
       "1          2        450204            1      M\n",
       "2          3        401009            1      F\n",
       "3          4        561201            5      M\n",
       "4          5        600703            5      F"
      ]
     },
     "execution_count": 13,
     "metadata": {},
     "output_type": "execute_result"
    }
   ],
   "source": [
    "db_client.head()"
   ]
  },
  {
   "cell_type": "code",
   "execution_count": 14,
   "metadata": {},
   "outputs": [],
   "source": [
    "db_client.birth_number = db_client.birth_number.apply(str)"
   ]
  },
  {
   "cell_type": "code",
   "execution_count": 15,
   "metadata": {},
   "outputs": [],
   "source": [
    "db_client.birth_number = ['19'+ i for i in db_client.birth_number]"
   ]
  },
  {
   "cell_type": "code",
   "execution_count": 16,
   "metadata": {},
   "outputs": [],
   "source": [
    "db_client.birth_number = db_client['birth_number'].apply(str)"
   ]
  },
  {
   "cell_type": "code",
   "execution_count": 17,
   "metadata": {},
   "outputs": [],
   "source": [
    "db_client.birth_number = pd.to_datetime(db_client.birth_number, format=\"%Y/%m/%d\")"
   ]
  },
  {
   "cell_type": "code",
   "execution_count": 18,
   "metadata": {},
   "outputs": [],
   "source": [
    "db_client['year'] = db_client['birth_number'].dt.year"
   ]
  },
  {
   "cell_type": "code",
   "execution_count": 19,
   "metadata": {},
   "outputs": [
    {
     "data": {
      "image/png": "[encoded data removed]",
      "text/plain": [
       "<Figure size 432x288 with 1 Axes>"
      ]
     },
     "metadata": {
      "needs_background": "light"
     },
     "output_type": "display_data"
    }
   ],
   "source": [
    "plt.title('Clients Birth Date Histogram')\n",
    "sns.distplot(db_client.year);\n",
    "sns.despine()"
   ]
  },
  {
   "cell_type": "code",
   "execution_count": 20,
   "metadata": {},
   "outputs": [
    {
     "data": {
      "text/html": [
       "<div>\n",
       "<style scoped>\n",
       "    .dataframe tbody tr th:only-of-type {\n",
       "        vertical-align: middle;\n",
       "    }\n",
       "\n",
       "    .dataframe tbody tr th {\n",
       "        vertical-align: top;\n",
       "    }\n",
       "\n",
       "    .dataframe thead th {\n",
       "        text-align: right;\n",
       "    }\n",
       "</style>\n",
       "<table border=\"1\" class=\"dataframe\">\n",
       "  <thead>\n",
       "    <tr style=\"text-align: right;\">\n",
       "      <th></th>\n",
       "      <th>account_id</th>\n",
       "      <th>district_id</th>\n",
       "      <th>frequency</th>\n",
       "      <th>account_date</th>\n",
       "    </tr>\n",
       "  </thead>\n",
       "  <tbody>\n",
       "    <tr>\n",
       "      <th>0</th>\n",
       "      <td>1</td>\n",
       "      <td>18</td>\n",
       "      <td>monthly issuance</td>\n",
       "      <td>1995-03-24</td>\n",
       "    </tr>\n",
       "    <tr>\n",
       "      <th>1</th>\n",
       "      <td>2</td>\n",
       "      <td>1</td>\n",
       "      <td>monthly issuance</td>\n",
       "      <td>1993-02-26</td>\n",
       "    </tr>\n",
       "    <tr>\n",
       "      <th>2</th>\n",
       "      <td>3</td>\n",
       "      <td>5</td>\n",
       "      <td>monthly issuance</td>\n",
       "      <td>1997-07-07</td>\n",
       "    </tr>\n",
       "    <tr>\n",
       "      <th>3</th>\n",
       "      <td>4</td>\n",
       "      <td>12</td>\n",
       "      <td>monthly issuance</td>\n",
       "      <td>1996-02-21</td>\n",
       "    </tr>\n",
       "    <tr>\n",
       "      <th>4</th>\n",
       "      <td>5</td>\n",
       "      <td>15</td>\n",
       "      <td>monthly issuance</td>\n",
       "      <td>1997-05-30</td>\n",
       "    </tr>\n",
       "  </tbody>\n",
       "</table>\n",
       "</div>"
      ],
      "text/plain": [
       "   account_id  district_id         frequency account_date\n",
       "0           1           18  monthly issuance   1995-03-24\n",
       "1           2            1  monthly issuance   1993-02-26\n",
       "2           3            5  monthly issuance   1997-07-07\n",
       "3           4           12  monthly issuance   1996-02-21\n",
       "4           5           15  monthly issuance   1997-05-30"
      ]
     },
     "execution_count": 20,
     "metadata": {},
     "output_type": "execute_result"
    }
   ],
   "source": [
    "db_account.head()"
   ]
  },
  {
   "cell_type": "code",
   "execution_count": 21,
   "metadata": {},
   "outputs": [
    {
     "data": {
      "text/html": [
       "<div>\n",
       "<style scoped>\n",
       "    .dataframe tbody tr th:only-of-type {\n",
       "        vertical-align: middle;\n",
       "    }\n",
       "\n",
       "    .dataframe tbody tr th {\n",
       "        vertical-align: top;\n",
       "    }\n",
       "\n",
       "    .dataframe thead th {\n",
       "        text-align: right;\n",
       "    }\n",
       "</style>\n",
       "<table border=\"1\" class=\"dataframe\">\n",
       "  <thead>\n",
       "    <tr style=\"text-align: right;\">\n",
       "      <th></th>\n",
       "      <th>card_id</th>\n",
       "      <th>disp_id</th>\n",
       "      <th>type</th>\n",
       "      <th>issue_date</th>\n",
       "    </tr>\n",
       "  </thead>\n",
       "  <tbody>\n",
       "    <tr>\n",
       "      <th>0</th>\n",
       "      <td>1</td>\n",
       "      <td>9</td>\n",
       "      <td>gold</td>\n",
       "      <td>1998-10-16</td>\n",
       "    </tr>\n",
       "    <tr>\n",
       "      <th>1</th>\n",
       "      <td>2</td>\n",
       "      <td>19</td>\n",
       "      <td>classic</td>\n",
       "      <td>1998-03-13</td>\n",
       "    </tr>\n",
       "    <tr>\n",
       "      <th>2</th>\n",
       "      <td>3</td>\n",
       "      <td>41</td>\n",
       "      <td>gold</td>\n",
       "      <td>1995-09-03</td>\n",
       "    </tr>\n",
       "    <tr>\n",
       "      <th>3</th>\n",
       "      <td>4</td>\n",
       "      <td>42</td>\n",
       "      <td>classic</td>\n",
       "      <td>1998-11-26</td>\n",
       "    </tr>\n",
       "    <tr>\n",
       "      <th>4</th>\n",
       "      <td>5</td>\n",
       "      <td>51</td>\n",
       "      <td>junior</td>\n",
       "      <td>1995-04-24</td>\n",
       "    </tr>\n",
       "  </tbody>\n",
       "</table>\n",
       "</div>"
      ],
      "text/plain": [
       "   card_id  disp_id     type  issue_date\n",
       "0        1        9     gold  1998-10-16\n",
       "1        2       19  classic  1998-03-13\n",
       "2        3       41     gold  1995-09-03\n",
       "3        4       42  classic  1998-11-26\n",
       "4        5       51   junior  1995-04-24"
      ]
     },
     "execution_count": 21,
     "metadata": {},
     "output_type": "execute_result"
    }
   ],
   "source": [
    "db_card.head()"
   ]
  },
  {
   "cell_type": "code",
   "execution_count": 22,
   "metadata": {},
   "outputs": [
    {
     "data": {
      "text/html": [
       "<div>\n",
       "<style scoped>\n",
       "    .dataframe tbody tr th:only-of-type {\n",
       "        vertical-align: middle;\n",
       "    }\n",
       "\n",
       "    .dataframe tbody tr th {\n",
       "        vertical-align: top;\n",
       "    }\n",
       "\n",
       "    .dataframe thead th {\n",
       "        text-align: right;\n",
       "    }\n",
       "</style>\n",
       "<table border=\"1\" class=\"dataframe\">\n",
       "  <thead>\n",
       "    <tr style=\"text-align: right;\">\n",
       "      <th></th>\n",
       "      <th>client_id</th>\n",
       "      <th>birth_number</th>\n",
       "      <th>district_id</th>\n",
       "      <th>gender</th>\n",
       "      <th>year</th>\n",
       "    </tr>\n",
       "  </thead>\n",
       "  <tbody>\n",
       "    <tr>\n",
       "      <th>0</th>\n",
       "      <td>1</td>\n",
       "      <td>1970-12-13</td>\n",
       "      <td>18</td>\n",
       "      <td>F</td>\n",
       "      <td>1970</td>\n",
       "    </tr>\n",
       "    <tr>\n",
       "      <th>1</th>\n",
       "      <td>2</td>\n",
       "      <td>1945-02-04</td>\n",
       "      <td>1</td>\n",
       "      <td>M</td>\n",
       "      <td>1945</td>\n",
       "    </tr>\n",
       "    <tr>\n",
       "      <th>2</th>\n",
       "      <td>3</td>\n",
       "      <td>1940-10-09</td>\n",
       "      <td>1</td>\n",
       "      <td>F</td>\n",
       "      <td>1940</td>\n",
       "    </tr>\n",
       "    <tr>\n",
       "      <th>3</th>\n",
       "      <td>4</td>\n",
       "      <td>1956-12-01</td>\n",
       "      <td>5</td>\n",
       "      <td>M</td>\n",
       "      <td>1956</td>\n",
       "    </tr>\n",
       "    <tr>\n",
       "      <th>4</th>\n",
       "      <td>5</td>\n",
       "      <td>1960-07-03</td>\n",
       "      <td>5</td>\n",
       "      <td>F</td>\n",
       "      <td>1960</td>\n",
       "    </tr>\n",
       "  </tbody>\n",
       "</table>\n",
       "</div>"
      ],
      "text/plain": [
       "   client_id birth_number  district_id gender  year\n",
       "0          1   1970-12-13           18      F  1970\n",
       "1          2   1945-02-04            1      M  1945\n",
       "2          3   1940-10-09            1      F  1940\n",
       "3          4   1956-12-01            5      M  1956\n",
       "4          5   1960-07-03            5      F  1960"
      ]
     },
     "execution_count": 22,
     "metadata": {},
     "output_type": "execute_result"
    }
   ],
   "source": [
    "db_client.head()"
   ]
  },
  {
   "cell_type": "code",
   "execution_count": 23,
   "metadata": {},
   "outputs": [
    {
     "data": {
      "text/html": [
       "<div>\n",
       "<style scoped>\n",
       "    .dataframe tbody tr th:only-of-type {\n",
       "        vertical-align: middle;\n",
       "    }\n",
       "\n",
       "    .dataframe tbody tr th {\n",
       "        vertical-align: top;\n",
       "    }\n",
       "\n",
       "    .dataframe thead th {\n",
       "        text-align: right;\n",
       "    }\n",
       "</style>\n",
       "<table border=\"1\" class=\"dataframe\">\n",
       "  <thead>\n",
       "    <tr style=\"text-align: right;\">\n",
       "      <th></th>\n",
       "      <th>disp_id</th>\n",
       "      <th>client_id</th>\n",
       "      <th>account_id</th>\n",
       "      <th>type</th>\n",
       "    </tr>\n",
       "  </thead>\n",
       "  <tbody>\n",
       "    <tr>\n",
       "      <th>0</th>\n",
       "      <td>1</td>\n",
       "      <td>1</td>\n",
       "      <td>1</td>\n",
       "      <td>OWNER</td>\n",
       "    </tr>\n",
       "    <tr>\n",
       "      <th>1</th>\n",
       "      <td>2</td>\n",
       "      <td>2</td>\n",
       "      <td>2</td>\n",
       "      <td>OWNER</td>\n",
       "    </tr>\n",
       "    <tr>\n",
       "      <th>2</th>\n",
       "      <td>3</td>\n",
       "      <td>3</td>\n",
       "      <td>2</td>\n",
       "      <td>DISPONENT</td>\n",
       "    </tr>\n",
       "    <tr>\n",
       "      <th>3</th>\n",
       "      <td>4</td>\n",
       "      <td>4</td>\n",
       "      <td>3</td>\n",
       "      <td>OWNER</td>\n",
       "    </tr>\n",
       "    <tr>\n",
       "      <th>4</th>\n",
       "      <td>5</td>\n",
       "      <td>5</td>\n",
       "      <td>3</td>\n",
       "      <td>DISPONENT</td>\n",
       "    </tr>\n",
       "  </tbody>\n",
       "</table>\n",
       "</div>"
      ],
      "text/plain": [
       "   disp_id  client_id  account_id       type\n",
       "0        1          1           1      OWNER\n",
       "1        2          2           2      OWNER\n",
       "2        3          3           2  DISPONENT\n",
       "3        4          4           3      OWNER\n",
       "4        5          5           3  DISPONENT"
      ]
     },
     "execution_count": 23,
     "metadata": {},
     "output_type": "execute_result"
    }
   ],
   "source": [
    "db_disp.head()"
   ]
  },
  {
   "cell_type": "code",
   "execution_count": 24,
   "metadata": {},
   "outputs": [
    {
     "data": {
      "text/html": [
       "<div>\n",
       "<style scoped>\n",
       "    .dataframe tbody tr th:only-of-type {\n",
       "        vertical-align: middle;\n",
       "    }\n",
       "\n",
       "    .dataframe tbody tr th {\n",
       "        vertical-align: top;\n",
       "    }\n",
       "\n",
       "    .dataframe thead th {\n",
       "        text-align: right;\n",
       "    }\n",
       "</style>\n",
       "<table border=\"1\" class=\"dataframe\">\n",
       "  <thead>\n",
       "    <tr style=\"text-align: right;\">\n",
       "      <th></th>\n",
       "      <th>district_id</th>\n",
       "      <th>district_name</th>\n",
       "      <th>district_region</th>\n",
       "      <th>no_inhabitants</th>\n",
       "      <th>no_inhabitants499</th>\n",
       "      <th>no_inhabitants1999</th>\n",
       "      <th>no_inhabitants9999</th>\n",
       "      <th>no_inhabitants10000</th>\n",
       "      <th>no_cities</th>\n",
       "      <th>ratio_urban_inhabitants</th>\n",
       "      <th>avg_salary</th>\n",
       "      <th>unemployment_rate95</th>\n",
       "      <th>unemployment_rate96</th>\n",
       "      <th>rate_entrepreneurs</th>\n",
       "      <th>no_crimes95</th>\n",
       "      <th>no_crimes96</th>\n",
       "    </tr>\n",
       "  </thead>\n",
       "  <tbody>\n",
       "    <tr>\n",
       "      <th>0</th>\n",
       "      <td>1</td>\n",
       "      <td>Hl.m. Praha</td>\n",
       "      <td>Prague</td>\n",
       "      <td>1204953</td>\n",
       "      <td>0</td>\n",
       "      <td>0</td>\n",
       "      <td>0</td>\n",
       "      <td>1</td>\n",
       "      <td>1</td>\n",
       "      <td>100.0</td>\n",
       "      <td>12541</td>\n",
       "      <td>0.29</td>\n",
       "      <td>0.43</td>\n",
       "      <td>167</td>\n",
       "      <td>85677</td>\n",
       "      <td>99107</td>\n",
       "    </tr>\n",
       "    <tr>\n",
       "      <th>1</th>\n",
       "      <td>2</td>\n",
       "      <td>Benesov</td>\n",
       "      <td>central Bohemia</td>\n",
       "      <td>88884</td>\n",
       "      <td>80</td>\n",
       "      <td>26</td>\n",
       "      <td>6</td>\n",
       "      <td>2</td>\n",
       "      <td>5</td>\n",
       "      <td>46.7</td>\n",
       "      <td>8507</td>\n",
       "      <td>1.67</td>\n",
       "      <td>1.85</td>\n",
       "      <td>132</td>\n",
       "      <td>2159</td>\n",
       "      <td>2674</td>\n",
       "    </tr>\n",
       "    <tr>\n",
       "      <th>2</th>\n",
       "      <td>3</td>\n",
       "      <td>Beroun</td>\n",
       "      <td>central Bohemia</td>\n",
       "      <td>75232</td>\n",
       "      <td>55</td>\n",
       "      <td>26</td>\n",
       "      <td>4</td>\n",
       "      <td>1</td>\n",
       "      <td>5</td>\n",
       "      <td>41.7</td>\n",
       "      <td>8980</td>\n",
       "      <td>1.95</td>\n",
       "      <td>2.21</td>\n",
       "      <td>111</td>\n",
       "      <td>2824</td>\n",
       "      <td>2813</td>\n",
       "    </tr>\n",
       "    <tr>\n",
       "      <th>3</th>\n",
       "      <td>4</td>\n",
       "      <td>Kladno</td>\n",
       "      <td>central Bohemia</td>\n",
       "      <td>149893</td>\n",
       "      <td>63</td>\n",
       "      <td>29</td>\n",
       "      <td>6</td>\n",
       "      <td>2</td>\n",
       "      <td>6</td>\n",
       "      <td>67.4</td>\n",
       "      <td>9753</td>\n",
       "      <td>4.64</td>\n",
       "      <td>5.05</td>\n",
       "      <td>109</td>\n",
       "      <td>5244</td>\n",
       "      <td>5892</td>\n",
       "    </tr>\n",
       "    <tr>\n",
       "      <th>4</th>\n",
       "      <td>5</td>\n",
       "      <td>Kolin</td>\n",
       "      <td>central Bohemia</td>\n",
       "      <td>95616</td>\n",
       "      <td>65</td>\n",
       "      <td>30</td>\n",
       "      <td>4</td>\n",
       "      <td>1</td>\n",
       "      <td>6</td>\n",
       "      <td>51.4</td>\n",
       "      <td>9307</td>\n",
       "      <td>3.85</td>\n",
       "      <td>4.43</td>\n",
       "      <td>118</td>\n",
       "      <td>2616</td>\n",
       "      <td>3040</td>\n",
       "    </tr>\n",
       "  </tbody>\n",
       "</table>\n",
       "</div>"
      ],
      "text/plain": [
       "   district_id district_name  district_region  no_inhabitants  \\\n",
       "0            1   Hl.m. Praha           Prague         1204953   \n",
       "1            2       Benesov  central Bohemia           88884   \n",
       "2            3        Beroun  central Bohemia           75232   \n",
       "3            4        Kladno  central Bohemia          149893   \n",
       "4            5         Kolin  central Bohemia           95616   \n",
       "\n",
       "   no_inhabitants499  no_inhabitants1999  no_inhabitants9999  \\\n",
       "0                  0                   0                   0   \n",
       "1                 80                  26                   6   \n",
       "2                 55                  26                   4   \n",
       "3                 63                  29                   6   \n",
       "4                 65                  30                   4   \n",
       "\n",
       "   no_inhabitants10000  no_cities  ratio_urban_inhabitants  avg_salary  \\\n",
       "0                    1          1                    100.0       12541   \n",
       "1                    2          5                     46.7        8507   \n",
       "2                    1          5                     41.7        8980   \n",
       "3                    2          6                     67.4        9753   \n",
       "4                    1          6                     51.4        9307   \n",
       "\n",
       "   unemployment_rate95  unemployment_rate96  rate_entrepreneurs  no_crimes95  \\\n",
       "0                 0.29                 0.43                 167        85677   \n",
       "1                 1.67                 1.85                 132         2159   \n",
       "2                 1.95                 2.21                 111         2824   \n",
       "3                 4.64                 5.05                 109         5244   \n",
       "4                 3.85                 4.43                 118         2616   \n",
       "\n",
       "   no_crimes96  \n",
       "0        99107  \n",
       "1         2674  \n",
       "2         2813  \n",
       "3         5892  \n",
       "4         3040  "
      ]
     },
     "execution_count": 24,
     "metadata": {},
     "output_type": "execute_result"
    }
   ],
   "source": [
    "db_district.head()"
   ]
  },
  {
   "cell_type": "code",
   "execution_count": 25,
   "metadata": {},
   "outputs": [
    {
     "data": {
      "text/html": [
       "<div>\n",
       "<style scoped>\n",
       "    .dataframe tbody tr th:only-of-type {\n",
       "        vertical-align: middle;\n",
       "    }\n",
       "\n",
       "    .dataframe tbody tr th {\n",
       "        vertical-align: top;\n",
       "    }\n",
       "\n",
       "    .dataframe thead th {\n",
       "        text-align: right;\n",
       "    }\n",
       "</style>\n",
       "<table border=\"1\" class=\"dataframe\">\n",
       "  <thead>\n",
       "    <tr style=\"text-align: right;\">\n",
       "      <th></th>\n",
       "      <th>loan_id</th>\n",
       "      <th>account_id</th>\n",
       "      <th>amount</th>\n",
       "      <th>duration</th>\n",
       "      <th>payments</th>\n",
       "      <th>status</th>\n",
       "      <th>date_loan</th>\n",
       "    </tr>\n",
       "  </thead>\n",
       "  <tbody>\n",
       "    <tr>\n",
       "      <th>0</th>\n",
       "      <td>4959</td>\n",
       "      <td>2</td>\n",
       "      <td>80952</td>\n",
       "      <td>24</td>\n",
       "      <td>3373.0</td>\n",
       "      <td>A</td>\n",
       "      <td>1994-01-05</td>\n",
       "    </tr>\n",
       "    <tr>\n",
       "      <th>1</th>\n",
       "      <td>4961</td>\n",
       "      <td>19</td>\n",
       "      <td>30276</td>\n",
       "      <td>12</td>\n",
       "      <td>2523.0</td>\n",
       "      <td>B</td>\n",
       "      <td>1996-04-29</td>\n",
       "    </tr>\n",
       "    <tr>\n",
       "      <th>2</th>\n",
       "      <td>4962</td>\n",
       "      <td>25</td>\n",
       "      <td>30276</td>\n",
       "      <td>12</td>\n",
       "      <td>2523.0</td>\n",
       "      <td>A</td>\n",
       "      <td>1997-12-08</td>\n",
       "    </tr>\n",
       "    <tr>\n",
       "      <th>3</th>\n",
       "      <td>4967</td>\n",
       "      <td>37</td>\n",
       "      <td>318480</td>\n",
       "      <td>60</td>\n",
       "      <td>5308.0</td>\n",
       "      <td>D</td>\n",
       "      <td>1998-10-14</td>\n",
       "    </tr>\n",
       "    <tr>\n",
       "      <th>4</th>\n",
       "      <td>4968</td>\n",
       "      <td>38</td>\n",
       "      <td>110736</td>\n",
       "      <td>48</td>\n",
       "      <td>2307.0</td>\n",
       "      <td>C</td>\n",
       "      <td>1998-04-19</td>\n",
       "    </tr>\n",
       "  </tbody>\n",
       "</table>\n",
       "</div>"
      ],
      "text/plain": [
       "   loan_id  account_id  amount  duration  payments status   date_loan\n",
       "0     4959           2   80952        24    3373.0      A  1994-01-05\n",
       "1     4961          19   30276        12    2523.0      B  1996-04-29\n",
       "2     4962          25   30276        12    2523.0      A  1997-12-08\n",
       "3     4967          37  318480        60    5308.0      D  1998-10-14\n",
       "4     4968          38  110736        48    2307.0      C  1998-04-19"
      ]
     },
     "execution_count": 25,
     "metadata": {},
     "output_type": "execute_result"
    }
   ],
   "source": [
    "db_loan.head()"
   ]
  },
  {
   "cell_type": "code",
   "execution_count": 26,
   "metadata": {},
   "outputs": [
    {
     "data": {
      "text/plain": [
       "C    403\n",
       "A    203\n",
       "D     45\n",
       "B     31\n",
       "Name: status, dtype: int64"
      ]
     },
     "execution_count": 26,
     "metadata": {},
     "output_type": "execute_result"
    }
   ],
   "source": [
    "db_loan.status.value_counts()"
   ]
  },
  {
   "cell_type": "code",
   "execution_count": 27,
   "metadata": {},
   "outputs": [
    {
     "name": "stdout",
     "output_type": "stream",
     "text": [
      "<class 'pandas.core.frame.DataFrame'>\n",
      "RangeIndex: 682 entries, 0 to 681\n",
      "Data columns (total 7 columns):\n",
      "loan_id       682 non-null int64\n",
      "account_id    682 non-null int64\n",
      "amount        682 non-null int64\n",
      "duration      682 non-null int64\n",
      "payments      682 non-null float64\n",
      "status        682 non-null object\n",
      "date_loan     682 non-null object\n",
      "dtypes: float64(1), int64(4), object(2)\n",
      "memory usage: 37.4+ KB\n"
     ]
    }
   ],
   "source": [
    "db_loan.info()"
   ]
  },
  {
   "cell_type": "code",
   "execution_count": 28,
   "metadata": {},
   "outputs": [
    {
     "data": {
      "text/html": [
       "<div>\n",
       "<style scoped>\n",
       "    .dataframe tbody tr th:only-of-type {\n",
       "        vertical-align: middle;\n",
       "    }\n",
       "\n",
       "    .dataframe tbody tr th {\n",
       "        vertical-align: top;\n",
       "    }\n",
       "\n",
       "    .dataframe thead th {\n",
       "        text-align: right;\n",
       "    }\n",
       "</style>\n",
       "<table border=\"1\" class=\"dataframe\">\n",
       "  <thead>\n",
       "    <tr style=\"text-align: right;\">\n",
       "      <th></th>\n",
       "      <th>order_id</th>\n",
       "      <th>account_id</th>\n",
       "      <th>bank_to</th>\n",
       "      <th>account_to</th>\n",
       "      <th>amount</th>\n",
       "      <th>k_symbol</th>\n",
       "    </tr>\n",
       "  </thead>\n",
       "  <tbody>\n",
       "    <tr>\n",
       "      <th>0</th>\n",
       "      <td>29401</td>\n",
       "      <td>1</td>\n",
       "      <td>YZ</td>\n",
       "      <td>87144583</td>\n",
       "      <td>2452.0</td>\n",
       "      <td>None</td>\n",
       "    </tr>\n",
       "    <tr>\n",
       "      <th>1</th>\n",
       "      <td>29402</td>\n",
       "      <td>2</td>\n",
       "      <td>ST</td>\n",
       "      <td>89597016</td>\n",
       "      <td>3372.7</td>\n",
       "      <td>None</td>\n",
       "    </tr>\n",
       "    <tr>\n",
       "      <th>2</th>\n",
       "      <td>29403</td>\n",
       "      <td>2</td>\n",
       "      <td>QR</td>\n",
       "      <td>13943797</td>\n",
       "      <td>7266.0</td>\n",
       "      <td>None</td>\n",
       "    </tr>\n",
       "    <tr>\n",
       "      <th>3</th>\n",
       "      <td>29404</td>\n",
       "      <td>3</td>\n",
       "      <td>WX</td>\n",
       "      <td>83084338</td>\n",
       "      <td>1135.0</td>\n",
       "      <td>None</td>\n",
       "    </tr>\n",
       "    <tr>\n",
       "      <th>4</th>\n",
       "      <td>29405</td>\n",
       "      <td>3</td>\n",
       "      <td>CD</td>\n",
       "      <td>24485939</td>\n",
       "      <td>327.0</td>\n",
       "      <td>None</td>\n",
       "    </tr>\n",
       "  </tbody>\n",
       "</table>\n",
       "</div>"
      ],
      "text/plain": [
       "   order_id  account_id bank_to  account_to  amount k_symbol\n",
       "0     29401           1      YZ    87144583  2452.0     None\n",
       "1     29402           2      ST    89597016  3372.7     None\n",
       "2     29403           2      QR    13943797  7266.0     None\n",
       "3     29404           3      WX    83084338  1135.0     None\n",
       "4     29405           3      CD    24485939   327.0     None"
      ]
     },
     "execution_count": 28,
     "metadata": {},
     "output_type": "execute_result"
    }
   ],
   "source": [
    "db_orders.head()"
   ]
  },
  {
   "cell_type": "code",
   "execution_count": 29,
   "metadata": {},
   "outputs": [
    {
     "data": {
      "text/html": [
       "<div>\n",
       "<style scoped>\n",
       "    .dataframe tbody tr th:only-of-type {\n",
       "        vertical-align: middle;\n",
       "    }\n",
       "\n",
       "    .dataframe tbody tr th {\n",
       "        vertical-align: top;\n",
       "    }\n",
       "\n",
       "    .dataframe thead th {\n",
       "        text-align: right;\n",
       "    }\n",
       "</style>\n",
       "<table border=\"1\" class=\"dataframe\">\n",
       "  <thead>\n",
       "    <tr style=\"text-align: right;\">\n",
       "      <th></th>\n",
       "      <th>index</th>\n",
       "      <th>trans_id</th>\n",
       "      <th>account_id</th>\n",
       "      <th>transac_type</th>\n",
       "      <th>operation</th>\n",
       "      <th>amount</th>\n",
       "      <th>balance</th>\n",
       "      <th>k_symbol</th>\n",
       "      <th>bank</th>\n",
       "      <th>account</th>\n",
       "      <th>date_trans</th>\n",
       "    </tr>\n",
       "  </thead>\n",
       "  <tbody>\n",
       "    <tr>\n",
       "      <th>0</th>\n",
       "      <td>149431</td>\n",
       "      <td>1</td>\n",
       "      <td>1</td>\n",
       "      <td>credit</td>\n",
       "      <td>credit in cash</td>\n",
       "      <td>1000.0</td>\n",
       "      <td>1000.0</td>\n",
       "      <td>None</td>\n",
       "      <td>None</td>\n",
       "      <td>NaN</td>\n",
       "      <td>1995-03-24</td>\n",
       "    </tr>\n",
       "    <tr>\n",
       "      <th>1</th>\n",
       "      <td>157403</td>\n",
       "      <td>5</td>\n",
       "      <td>1</td>\n",
       "      <td>credit</td>\n",
       "      <td>collection from another bank</td>\n",
       "      <td>3679.0</td>\n",
       "      <td>4679.0</td>\n",
       "      <td>None</td>\n",
       "      <td>AB</td>\n",
       "      <td>41403269.0</td>\n",
       "      <td>1995-04-13</td>\n",
       "    </tr>\n",
       "    <tr>\n",
       "      <th>2</th>\n",
       "      <td>167082</td>\n",
       "      <td>6</td>\n",
       "      <td>1</td>\n",
       "      <td>credit</td>\n",
       "      <td>collection from another bank</td>\n",
       "      <td>3679.0</td>\n",
       "      <td>20977.2</td>\n",
       "      <td>None</td>\n",
       "      <td>AB</td>\n",
       "      <td>41403269.0</td>\n",
       "      <td>1995-05-13</td>\n",
       "    </tr>\n",
       "    <tr>\n",
       "      <th>3</th>\n",
       "      <td>177507</td>\n",
       "      <td>7</td>\n",
       "      <td>1</td>\n",
       "      <td>credit</td>\n",
       "      <td>collection from another bank</td>\n",
       "      <td>3679.0</td>\n",
       "      <td>26835.2</td>\n",
       "      <td>None</td>\n",
       "      <td>AB</td>\n",
       "      <td>41403269.0</td>\n",
       "      <td>1995-06-13</td>\n",
       "    </tr>\n",
       "    <tr>\n",
       "      <th>4</th>\n",
       "      <td>188171</td>\n",
       "      <td>8</td>\n",
       "      <td>1</td>\n",
       "      <td>credit</td>\n",
       "      <td>collection from another bank</td>\n",
       "      <td>3679.0</td>\n",
       "      <td>30414.8</td>\n",
       "      <td>None</td>\n",
       "      <td>AB</td>\n",
       "      <td>41403269.0</td>\n",
       "      <td>1995-07-13</td>\n",
       "    </tr>\n",
       "  </tbody>\n",
       "</table>\n",
       "</div>"
      ],
      "text/plain": [
       "    index  trans_id  account_id transac_type                     operation  \\\n",
       "0  149431         1           1       credit                credit in cash   \n",
       "1  157403         5           1       credit  collection from another bank   \n",
       "2  167082         6           1       credit  collection from another bank   \n",
       "3  177507         7           1       credit  collection from another bank   \n",
       "4  188171         8           1       credit  collection from another bank   \n",
       "\n",
       "   amount  balance k_symbol  bank     account  date_trans  \n",
       "0  1000.0   1000.0     None  None         NaN  1995-03-24  \n",
       "1  3679.0   4679.0     None    AB  41403269.0  1995-04-13  \n",
       "2  3679.0  20977.2     None    AB  41403269.0  1995-05-13  \n",
       "3  3679.0  26835.2     None    AB  41403269.0  1995-06-13  \n",
       "4  3679.0  30414.8     None    AB  41403269.0  1995-07-13  "
      ]
     },
     "execution_count": 29,
     "metadata": {},
     "output_type": "execute_result"
    }
   ],
   "source": [
    "db_transactions.head()"
   ]
  },
  {
   "cell_type": "markdown",
   "metadata": {},
   "source": [
    "## Modelando regressao Logistica para Default de acordo com caracteristicas demograficas"
   ]
  },
  {
   "cell_type": "code",
   "execution_count": 30,
   "metadata": {},
   "outputs": [
    {
     "data": {
      "text/html": [
       "<div>\n",
       "<style scoped>\n",
       "    .dataframe tbody tr th:only-of-type {\n",
       "        vertical-align: middle;\n",
       "    }\n",
       "\n",
       "    .dataframe tbody tr th {\n",
       "        vertical-align: top;\n",
       "    }\n",
       "\n",
       "    .dataframe thead th {\n",
       "        text-align: right;\n",
       "    }\n",
       "</style>\n",
       "<table border=\"1\" class=\"dataframe\">\n",
       "  <thead>\n",
       "    <tr style=\"text-align: right;\">\n",
       "      <th></th>\n",
       "      <th>district_id</th>\n",
       "      <th>district_name</th>\n",
       "      <th>district_region</th>\n",
       "      <th>no_inhabitants</th>\n",
       "      <th>no_inhabitants499</th>\n",
       "      <th>no_inhabitants1999</th>\n",
       "      <th>no_inhabitants9999</th>\n",
       "      <th>no_inhabitants10000</th>\n",
       "      <th>no_cities</th>\n",
       "      <th>ratio_urban_inhabitants</th>\n",
       "      <th>avg_salary</th>\n",
       "      <th>unemployment_rate95</th>\n",
       "      <th>unemployment_rate96</th>\n",
       "      <th>rate_entrepreneurs</th>\n",
       "      <th>no_crimes95</th>\n",
       "      <th>no_crimes96</th>\n",
       "    </tr>\n",
       "  </thead>\n",
       "  <tbody>\n",
       "    <tr>\n",
       "      <th>0</th>\n",
       "      <td>1</td>\n",
       "      <td>Hl.m. Praha</td>\n",
       "      <td>Prague</td>\n",
       "      <td>1204953</td>\n",
       "      <td>0</td>\n",
       "      <td>0</td>\n",
       "      <td>0</td>\n",
       "      <td>1</td>\n",
       "      <td>1</td>\n",
       "      <td>100.0</td>\n",
       "      <td>12541</td>\n",
       "      <td>0.29</td>\n",
       "      <td>0.43</td>\n",
       "      <td>167</td>\n",
       "      <td>85677</td>\n",
       "      <td>99107</td>\n",
       "    </tr>\n",
       "    <tr>\n",
       "      <th>1</th>\n",
       "      <td>2</td>\n",
       "      <td>Benesov</td>\n",
       "      <td>central Bohemia</td>\n",
       "      <td>88884</td>\n",
       "      <td>80</td>\n",
       "      <td>26</td>\n",
       "      <td>6</td>\n",
       "      <td>2</td>\n",
       "      <td>5</td>\n",
       "      <td>46.7</td>\n",
       "      <td>8507</td>\n",
       "      <td>1.67</td>\n",
       "      <td>1.85</td>\n",
       "      <td>132</td>\n",
       "      <td>2159</td>\n",
       "      <td>2674</td>\n",
       "    </tr>\n",
       "    <tr>\n",
       "      <th>2</th>\n",
       "      <td>3</td>\n",
       "      <td>Beroun</td>\n",
       "      <td>central Bohemia</td>\n",
       "      <td>75232</td>\n",
       "      <td>55</td>\n",
       "      <td>26</td>\n",
       "      <td>4</td>\n",
       "      <td>1</td>\n",
       "      <td>5</td>\n",
       "      <td>41.7</td>\n",
       "      <td>8980</td>\n",
       "      <td>1.95</td>\n",
       "      <td>2.21</td>\n",
       "      <td>111</td>\n",
       "      <td>2824</td>\n",
       "      <td>2813</td>\n",
       "    </tr>\n",
       "    <tr>\n",
       "      <th>3</th>\n",
       "      <td>4</td>\n",
       "      <td>Kladno</td>\n",
       "      <td>central Bohemia</td>\n",
       "      <td>149893</td>\n",
       "      <td>63</td>\n",
       "      <td>29</td>\n",
       "      <td>6</td>\n",
       "      <td>2</td>\n",
       "      <td>6</td>\n",
       "      <td>67.4</td>\n",
       "      <td>9753</td>\n",
       "      <td>4.64</td>\n",
       "      <td>5.05</td>\n",
       "      <td>109</td>\n",
       "      <td>5244</td>\n",
       "      <td>5892</td>\n",
       "    </tr>\n",
       "    <tr>\n",
       "      <th>4</th>\n",
       "      <td>5</td>\n",
       "      <td>Kolin</td>\n",
       "      <td>central Bohemia</td>\n",
       "      <td>95616</td>\n",
       "      <td>65</td>\n",
       "      <td>30</td>\n",
       "      <td>4</td>\n",
       "      <td>1</td>\n",
       "      <td>6</td>\n",
       "      <td>51.4</td>\n",
       "      <td>9307</td>\n",
       "      <td>3.85</td>\n",
       "      <td>4.43</td>\n",
       "      <td>118</td>\n",
       "      <td>2616</td>\n",
       "      <td>3040</td>\n",
       "    </tr>\n",
       "  </tbody>\n",
       "</table>\n",
       "</div>"
      ],
      "text/plain": [
       "   district_id district_name  district_region  no_inhabitants  \\\n",
       "0            1   Hl.m. Praha           Prague         1204953   \n",
       "1            2       Benesov  central Bohemia           88884   \n",
       "2            3        Beroun  central Bohemia           75232   \n",
       "3            4        Kladno  central Bohemia          149893   \n",
       "4            5         Kolin  central Bohemia           95616   \n",
       "\n",
       "   no_inhabitants499  no_inhabitants1999  no_inhabitants9999  \\\n",
       "0                  0                   0                   0   \n",
       "1                 80                  26                   6   \n",
       "2                 55                  26                   4   \n",
       "3                 63                  29                   6   \n",
       "4                 65                  30                   4   \n",
       "\n",
       "   no_inhabitants10000  no_cities  ratio_urban_inhabitants  avg_salary  \\\n",
       "0                    1          1                    100.0       12541   \n",
       "1                    2          5                     46.7        8507   \n",
       "2                    1          5                     41.7        8980   \n",
       "3                    2          6                     67.4        9753   \n",
       "4                    1          6                     51.4        9307   \n",
       "\n",
       "   unemployment_rate95  unemployment_rate96  rate_entrepreneurs  no_crimes95  \\\n",
       "0                 0.29                 0.43                 167        85677   \n",
       "1                 1.67                 1.85                 132         2159   \n",
       "2                 1.95                 2.21                 111         2824   \n",
       "3                 4.64                 5.05                 109         5244   \n",
       "4                 3.85                 4.43                 118         2616   \n",
       "\n",
       "   no_crimes96  \n",
       "0        99107  \n",
       "1         2674  \n",
       "2         2813  \n",
       "3         5892  \n",
       "4         3040  "
      ]
     },
     "execution_count": 30,
     "metadata": {},
     "output_type": "execute_result"
    }
   ],
   "source": [
    "db_district.head()"
   ]
  },
  {
   "cell_type": "code",
   "execution_count": 31,
   "metadata": {},
   "outputs": [],
   "source": [
    "m = db_district.merge(db_account,how='left')"
   ]
  },
  {
   "cell_type": "code",
   "execution_count": 32,
   "metadata": {},
   "outputs": [
    {
     "data": {
      "text/html": [
       "<div>\n",
       "<style scoped>\n",
       "    .dataframe tbody tr th:only-of-type {\n",
       "        vertical-align: middle;\n",
       "    }\n",
       "\n",
       "    .dataframe tbody tr th {\n",
       "        vertical-align: top;\n",
       "    }\n",
       "\n",
       "    .dataframe thead th {\n",
       "        text-align: right;\n",
       "    }\n",
       "</style>\n",
       "<table border=\"1\" class=\"dataframe\">\n",
       "  <thead>\n",
       "    <tr style=\"text-align: right;\">\n",
       "      <th></th>\n",
       "      <th>district_id</th>\n",
       "      <th>district_name</th>\n",
       "      <th>district_region</th>\n",
       "      <th>no_inhabitants</th>\n",
       "      <th>no_inhabitants499</th>\n",
       "      <th>no_inhabitants1999</th>\n",
       "      <th>no_inhabitants9999</th>\n",
       "      <th>no_inhabitants10000</th>\n",
       "      <th>no_cities</th>\n",
       "      <th>ratio_urban_inhabitants</th>\n",
       "      <th>avg_salary</th>\n",
       "      <th>unemployment_rate95</th>\n",
       "      <th>unemployment_rate96</th>\n",
       "      <th>rate_entrepreneurs</th>\n",
       "      <th>no_crimes95</th>\n",
       "      <th>no_crimes96</th>\n",
       "      <th>account_id</th>\n",
       "      <th>frequency</th>\n",
       "      <th>account_date</th>\n",
       "    </tr>\n",
       "  </thead>\n",
       "  <tbody>\n",
       "    <tr>\n",
       "      <th>0</th>\n",
       "      <td>1</td>\n",
       "      <td>Hl.m. Praha</td>\n",
       "      <td>Prague</td>\n",
       "      <td>1204953</td>\n",
       "      <td>0</td>\n",
       "      <td>0</td>\n",
       "      <td>0</td>\n",
       "      <td>1</td>\n",
       "      <td>1</td>\n",
       "      <td>100.0</td>\n",
       "      <td>12541</td>\n",
       "      <td>0.29</td>\n",
       "      <td>0.43</td>\n",
       "      <td>167</td>\n",
       "      <td>85677</td>\n",
       "      <td>99107</td>\n",
       "      <td>2</td>\n",
       "      <td>monthly issuance</td>\n",
       "      <td>1993-02-26</td>\n",
       "    </tr>\n",
       "    <tr>\n",
       "      <th>1</th>\n",
       "      <td>1</td>\n",
       "      <td>Hl.m. Praha</td>\n",
       "      <td>Prague</td>\n",
       "      <td>1204953</td>\n",
       "      <td>0</td>\n",
       "      <td>0</td>\n",
       "      <td>0</td>\n",
       "      <td>1</td>\n",
       "      <td>1</td>\n",
       "      <td>100.0</td>\n",
       "      <td>12541</td>\n",
       "      <td>0.29</td>\n",
       "      <td>0.43</td>\n",
       "      <td>167</td>\n",
       "      <td>85677</td>\n",
       "      <td>99107</td>\n",
       "      <td>17</td>\n",
       "      <td>monthly issuance</td>\n",
       "      <td>1997-01-08</td>\n",
       "    </tr>\n",
       "    <tr>\n",
       "      <th>2</th>\n",
       "      <td>1</td>\n",
       "      <td>Hl.m. Praha</td>\n",
       "      <td>Prague</td>\n",
       "      <td>1204953</td>\n",
       "      <td>0</td>\n",
       "      <td>0</td>\n",
       "      <td>0</td>\n",
       "      <td>1</td>\n",
       "      <td>1</td>\n",
       "      <td>100.0</td>\n",
       "      <td>12541</td>\n",
       "      <td>0.29</td>\n",
       "      <td>0.43</td>\n",
       "      <td>167</td>\n",
       "      <td>85677</td>\n",
       "      <td>99107</td>\n",
       "      <td>22</td>\n",
       "      <td>monthly issuance</td>\n",
       "      <td>1994-03-23</td>\n",
       "    </tr>\n",
       "    <tr>\n",
       "      <th>3</th>\n",
       "      <td>1</td>\n",
       "      <td>Hl.m. Praha</td>\n",
       "      <td>Prague</td>\n",
       "      <td>1204953</td>\n",
       "      <td>0</td>\n",
       "      <td>0</td>\n",
       "      <td>0</td>\n",
       "      <td>1</td>\n",
       "      <td>1</td>\n",
       "      <td>100.0</td>\n",
       "      <td>12541</td>\n",
       "      <td>0.29</td>\n",
       "      <td>0.43</td>\n",
       "      <td>167</td>\n",
       "      <td>85677</td>\n",
       "      <td>99107</td>\n",
       "      <td>36</td>\n",
       "      <td>monthly issuance</td>\n",
       "      <td>1993-07-01</td>\n",
       "    </tr>\n",
       "    <tr>\n",
       "      <th>4</th>\n",
       "      <td>1</td>\n",
       "      <td>Hl.m. Praha</td>\n",
       "      <td>Prague</td>\n",
       "      <td>1204953</td>\n",
       "      <td>0</td>\n",
       "      <td>0</td>\n",
       "      <td>0</td>\n",
       "      <td>1</td>\n",
       "      <td>1</td>\n",
       "      <td>100.0</td>\n",
       "      <td>12541</td>\n",
       "      <td>0.29</td>\n",
       "      <td>0.43</td>\n",
       "      <td>167</td>\n",
       "      <td>85677</td>\n",
       "      <td>99107</td>\n",
       "      <td>49</td>\n",
       "      <td>monthly issuance</td>\n",
       "      <td>1997-04-06</td>\n",
       "    </tr>\n",
       "  </tbody>\n",
       "</table>\n",
       "</div>"
      ],
      "text/plain": [
       "   district_id district_name district_region  no_inhabitants  \\\n",
       "0            1   Hl.m. Praha          Prague         1204953   \n",
       "1            1   Hl.m. Praha          Prague         1204953   \n",
       "2            1   Hl.m. Praha          Prague         1204953   \n",
       "3            1   Hl.m. Praha          Prague         1204953   \n",
       "4            1   Hl.m. Praha          Prague         1204953   \n",
       "\n",
       "   no_inhabitants499  no_inhabitants1999  no_inhabitants9999  \\\n",
       "0                  0                   0                   0   \n",
       "1                  0                   0                   0   \n",
       "2                  0                   0                   0   \n",
       "3                  0                   0                   0   \n",
       "4                  0                   0                   0   \n",
       "\n",
       "   no_inhabitants10000  no_cities  ratio_urban_inhabitants  avg_salary  \\\n",
       "0                    1          1                    100.0       12541   \n",
       "1                    1          1                    100.0       12541   \n",
       "2                    1          1                    100.0       12541   \n",
       "3                    1          1                    100.0       12541   \n",
       "4                    1          1                    100.0       12541   \n",
       "\n",
       "   unemployment_rate95  unemployment_rate96  rate_entrepreneurs  no_crimes95  \\\n",
       "0                 0.29                 0.43                 167        85677   \n",
       "1                 0.29                 0.43                 167        85677   \n",
       "2                 0.29                 0.43                 167        85677   \n",
       "3                 0.29                 0.43                 167        85677   \n",
       "4                 0.29                 0.43                 167        85677   \n",
       "\n",
       "   no_crimes96  account_id         frequency account_date  \n",
       "0        99107           2  monthly issuance   1993-02-26  \n",
       "1        99107          17  monthly issuance   1997-01-08  \n",
       "2        99107          22  monthly issuance   1994-03-23  \n",
       "3        99107          36  monthly issuance   1993-07-01  \n",
       "4        99107          49  monthly issuance   1997-04-06  "
      ]
     },
     "execution_count": 32,
     "metadata": {},
     "output_type": "execute_result"
    }
   ],
   "source": [
    "m.head()"
   ]
  },
  {
   "cell_type": "code",
   "execution_count": 33,
   "metadata": {},
   "outputs": [
    {
     "name": "stdout",
     "output_type": "stream",
     "text": [
      "<class 'pandas.core.frame.DataFrame'>\n",
      "Int64Index: 4452 entries, 0 to 4451\n",
      "Data columns (total 19 columns):\n",
      "district_id                4452 non-null int64\n",
      "district_name              4452 non-null object\n",
      "district_region            4452 non-null object\n",
      "no_inhabitants             4452 non-null int64\n",
      "no_inhabitants499          4452 non-null int64\n",
      "no_inhabitants1999         4452 non-null int64\n",
      "no_inhabitants9999         4452 non-null int64\n",
      "no_inhabitants10000        4452 non-null int64\n",
      "no_cities                  4452 non-null int64\n",
      "ratio_urban_inhabitants    4452 non-null float64\n",
      "avg_salary                 4452 non-null int64\n",
      "unemployment_rate95        4452 non-null float64\n",
      "unemployment_rate96        4452 non-null float64\n",
      "rate_entrepreneurs         4452 non-null int64\n",
      "no_crimes95                4452 non-null int64\n",
      "no_crimes96                4452 non-null int64\n",
      "account_id                 4452 non-null int64\n",
      "frequency                  4452 non-null object\n",
      "account_date               4452 non-null object\n",
      "dtypes: float64(3), int64(12), object(4)\n",
      "memory usage: 695.6+ KB\n"
     ]
    }
   ],
   "source": [
    "m.info()"
   ]
  },
  {
   "cell_type": "code",
   "execution_count": 34,
   "metadata": {},
   "outputs": [],
   "source": [
    "m1 = m.merge(db_loan,on='account_id')"
   ]
  },
  {
   "cell_type": "code",
   "execution_count": 35,
   "metadata": {},
   "outputs": [
    {
     "data": {
      "text/html": [
       "<div>\n",
       "<style scoped>\n",
       "    .dataframe tbody tr th:only-of-type {\n",
       "        vertical-align: middle;\n",
       "    }\n",
       "\n",
       "    .dataframe tbody tr th {\n",
       "        vertical-align: top;\n",
       "    }\n",
       "\n",
       "    .dataframe thead th {\n",
       "        text-align: right;\n",
       "    }\n",
       "</style>\n",
       "<table border=\"1\" class=\"dataframe\">\n",
       "  <thead>\n",
       "    <tr style=\"text-align: right;\">\n",
       "      <th></th>\n",
       "      <th>district_id</th>\n",
       "      <th>district_name</th>\n",
       "      <th>district_region</th>\n",
       "      <th>no_inhabitants</th>\n",
       "      <th>no_inhabitants499</th>\n",
       "      <th>no_inhabitants1999</th>\n",
       "      <th>no_inhabitants9999</th>\n",
       "      <th>no_inhabitants10000</th>\n",
       "      <th>no_cities</th>\n",
       "      <th>ratio_urban_inhabitants</th>\n",
       "      <th>...</th>\n",
       "      <th>no_crimes96</th>\n",
       "      <th>account_id</th>\n",
       "      <th>frequency</th>\n",
       "      <th>account_date</th>\n",
       "      <th>loan_id</th>\n",
       "      <th>amount</th>\n",
       "      <th>duration</th>\n",
       "      <th>payments</th>\n",
       "      <th>status</th>\n",
       "      <th>date_loan</th>\n",
       "    </tr>\n",
       "  </thead>\n",
       "  <tbody>\n",
       "    <tr>\n",
       "      <th>0</th>\n",
       "      <td>1</td>\n",
       "      <td>Hl.m. Praha</td>\n",
       "      <td>Prague</td>\n",
       "      <td>1204953</td>\n",
       "      <td>0</td>\n",
       "      <td>0</td>\n",
       "      <td>0</td>\n",
       "      <td>1</td>\n",
       "      <td>1</td>\n",
       "      <td>100.0</td>\n",
       "      <td>...</td>\n",
       "      <td>99107</td>\n",
       "      <td>2</td>\n",
       "      <td>monthly issuance</td>\n",
       "      <td>1993-02-26</td>\n",
       "      <td>4959</td>\n",
       "      <td>80952</td>\n",
       "      <td>24</td>\n",
       "      <td>3373.0</td>\n",
       "      <td>A</td>\n",
       "      <td>1994-01-05</td>\n",
       "    </tr>\n",
       "    <tr>\n",
       "      <th>1</th>\n",
       "      <td>1</td>\n",
       "      <td>Hl.m. Praha</td>\n",
       "      <td>Prague</td>\n",
       "      <td>1204953</td>\n",
       "      <td>0</td>\n",
       "      <td>0</td>\n",
       "      <td>0</td>\n",
       "      <td>1</td>\n",
       "      <td>1</td>\n",
       "      <td>100.0</td>\n",
       "      <td>...</td>\n",
       "      <td>99107</td>\n",
       "      <td>426</td>\n",
       "      <td>monthly issuance</td>\n",
       "      <td>1993-11-29</td>\n",
       "      <td>5060</td>\n",
       "      <td>252060</td>\n",
       "      <td>60</td>\n",
       "      <td>4201.0</td>\n",
       "      <td>D</td>\n",
       "      <td>1994-07-19</td>\n",
       "    </tr>\n",
       "    <tr>\n",
       "      <th>2</th>\n",
       "      <td>1</td>\n",
       "      <td>Hl.m. Praha</td>\n",
       "      <td>Prague</td>\n",
       "      <td>1204953</td>\n",
       "      <td>0</td>\n",
       "      <td>0</td>\n",
       "      <td>0</td>\n",
       "      <td>1</td>\n",
       "      <td>1</td>\n",
       "      <td>100.0</td>\n",
       "      <td>...</td>\n",
       "      <td>99107</td>\n",
       "      <td>718</td>\n",
       "      <td>monthly issuance</td>\n",
       "      <td>1996-03-03</td>\n",
       "      <td>5117</td>\n",
       "      <td>76944</td>\n",
       "      <td>12</td>\n",
       "      <td>6412.0</td>\n",
       "      <td>A</td>\n",
       "      <td>1997-08-20</td>\n",
       "    </tr>\n",
       "    <tr>\n",
       "      <th>3</th>\n",
       "      <td>1</td>\n",
       "      <td>Hl.m. Praha</td>\n",
       "      <td>Prague</td>\n",
       "      <td>1204953</td>\n",
       "      <td>0</td>\n",
       "      <td>0</td>\n",
       "      <td>0</td>\n",
       "      <td>1</td>\n",
       "      <td>1</td>\n",
       "      <td>100.0</td>\n",
       "      <td>...</td>\n",
       "      <td>99107</td>\n",
       "      <td>1603</td>\n",
       "      <td>monthly issuance</td>\n",
       "      <td>1993-05-09</td>\n",
       "      <td>5285</td>\n",
       "      <td>78936</td>\n",
       "      <td>12</td>\n",
       "      <td>6578.0</td>\n",
       "      <td>A</td>\n",
       "      <td>1994-02-06</td>\n",
       "    </tr>\n",
       "    <tr>\n",
       "      <th>4</th>\n",
       "      <td>1</td>\n",
       "      <td>Hl.m. Praha</td>\n",
       "      <td>Prague</td>\n",
       "      <td>1204953</td>\n",
       "      <td>0</td>\n",
       "      <td>0</td>\n",
       "      <td>0</td>\n",
       "      <td>1</td>\n",
       "      <td>1</td>\n",
       "      <td>100.0</td>\n",
       "      <td>...</td>\n",
       "      <td>99107</td>\n",
       "      <td>1869</td>\n",
       "      <td>monthly issuance</td>\n",
       "      <td>1996-06-14</td>\n",
       "      <td>5332</td>\n",
       "      <td>37944</td>\n",
       "      <td>36</td>\n",
       "      <td>1054.0</td>\n",
       "      <td>C</td>\n",
       "      <td>1998-01-29</td>\n",
       "    </tr>\n",
       "  </tbody>\n",
       "</table>\n",
       "<p>5 rows × 25 columns</p>\n",
       "</div>"
      ],
      "text/plain": [
       "   district_id district_name district_region  no_inhabitants  \\\n",
       "0            1   Hl.m. Praha          Prague         1204953   \n",
       "1            1   Hl.m. Praha          Prague         1204953   \n",
       "2            1   Hl.m. Praha          Prague         1204953   \n",
       "3            1   Hl.m. Praha          Prague         1204953   \n",
       "4            1   Hl.m. Praha          Prague         1204953   \n",
       "\n",
       "   no_inhabitants499  no_inhabitants1999  no_inhabitants9999  \\\n",
       "0                  0                   0                   0   \n",
       "1                  0                   0                   0   \n",
       "2                  0                   0                   0   \n",
       "3                  0                   0                   0   \n",
       "4                  0                   0                   0   \n",
       "\n",
       "   no_inhabitants10000  no_cities  ratio_urban_inhabitants  ...  no_crimes96  \\\n",
       "0                    1          1                    100.0  ...        99107   \n",
       "1                    1          1                    100.0  ...        99107   \n",
       "2                    1          1                    100.0  ...        99107   \n",
       "3                    1          1                    100.0  ...        99107   \n",
       "4                    1          1                    100.0  ...        99107   \n",
       "\n",
       "   account_id         frequency  account_date  loan_id  amount  duration  \\\n",
       "0           2  monthly issuance    1993-02-26     4959   80952        24   \n",
       "1         426  monthly issuance    1993-11-29     5060  252060        60   \n",
       "2         718  monthly issuance    1996-03-03     5117   76944        12   \n",
       "3        1603  monthly issuance    1993-05-09     5285   78936        12   \n",
       "4        1869  monthly issuance    1996-06-14     5332   37944        36   \n",
       "\n",
       "  payments status   date_loan  \n",
       "0   3373.0      A  1994-01-05  \n",
       "1   4201.0      D  1994-07-19  \n",
       "2   6412.0      A  1997-08-20  \n",
       "3   6578.0      A  1994-02-06  \n",
       "4   1054.0      C  1998-01-29  \n",
       "\n",
       "[5 rows x 25 columns]"
      ]
     },
     "execution_count": 35,
     "metadata": {},
     "output_type": "execute_result"
    }
   ],
   "source": [
    "m1.head()"
   ]
  },
  {
   "cell_type": "code",
   "execution_count": 36,
   "metadata": {},
   "outputs": [],
   "source": [
    "m1.status.replace('A',0, inplace=True)"
   ]
  },
  {
   "cell_type": "code",
   "execution_count": 37,
   "metadata": {},
   "outputs": [],
   "source": [
    "#Alterando status dos loans em 0:'No Problems' e 1:'Problems'\n",
    "m1.status.replace('B',1, inplace=True)\n",
    "m1.status.replace('C',0, inplace=True)\n",
    "m1.status.replace('D',1, inplace=True)"
   ]
  },
  {
   "cell_type": "code",
   "execution_count": 38,
   "metadata": {},
   "outputs": [],
   "source": [
    "m2 = m1.merge(db_disp,on='account_id')"
   ]
  },
  {
   "cell_type": "code",
   "execution_count": 39,
   "metadata": {},
   "outputs": [],
   "source": [
    "m3 = m2.merge(db_client, on='client_id')"
   ]
  },
  {
   "cell_type": "code",
   "execution_count": 40,
   "metadata": {},
   "outputs": [
    {
     "name": "stdout",
     "output_type": "stream",
     "text": [
      "<class 'pandas.core.frame.DataFrame'>\n",
      "Int64Index: 818 entries, 0 to 817\n",
      "Data columns (total 32 columns):\n",
      "district_id_x              818 non-null int64\n",
      "district_name              818 non-null object\n",
      "district_region            818 non-null object\n",
      "no_inhabitants             818 non-null int64\n",
      "no_inhabitants499          818 non-null int64\n",
      "no_inhabitants1999         818 non-null int64\n",
      "no_inhabitants9999         818 non-null int64\n",
      "no_inhabitants10000        818 non-null int64\n",
      "no_cities                  818 non-null int64\n",
      "ratio_urban_inhabitants    818 non-null float64\n",
      "avg_salary                 818 non-null int64\n",
      "unemployment_rate95        818 non-null float64\n",
      "unemployment_rate96        818 non-null float64\n",
      "rate_entrepreneurs         818 non-null int64\n",
      "no_crimes95                818 non-null int64\n",
      "no_crimes96                818 non-null int64\n",
      "account_id                 818 non-null int64\n",
      "frequency                  818 non-null object\n",
      "account_date               818 non-null object\n",
      "loan_id                    818 non-null int64\n",
      "amount                     818 non-null int64\n",
      "duration                   818 non-null int64\n",
      "payments                   818 non-null float64\n",
      "status                     818 non-null int64\n",
      "date_loan                  818 non-null object\n",
      "disp_id                    818 non-null int64\n",
      "client_id                  818 non-null int64\n",
      "type                       818 non-null object\n",
      "birth_number               818 non-null datetime64[ns]\n",
      "district_id_y              818 non-null int64\n",
      "gender                     818 non-null object\n",
      "year                       818 non-null int64\n",
      "dtypes: datetime64[ns](1), float64(4), int64(20), object(7)\n",
      "memory usage: 210.9+ KB\n"
     ]
    }
   ],
   "source": [
    "m3.info()"
   ]
  },
  {
   "cell_type": "code",
   "execution_count": 41,
   "metadata": {},
   "outputs": [
    {
     "data": {
      "text/plain": [
       "Index(['district_id_x', 'district_name', 'district_region', 'no_inhabitants',\n",
       "       'no_inhabitants499', 'no_inhabitants1999', 'no_inhabitants9999',\n",
       "       'no_inhabitants10000', 'no_cities', 'ratio_urban_inhabitants',\n",
       "       'avg_salary', 'unemployment_rate95', 'unemployment_rate96',\n",
       "       'rate_entrepreneurs', 'no_crimes95', 'no_crimes96', 'account_id',\n",
       "       'frequency', 'account_date', 'loan_id', 'amount', 'duration',\n",
       "       'payments', 'status', 'date_loan', 'disp_id', 'client_id', 'type',\n",
       "       'birth_number', 'district_id_y', 'gender', 'year'],\n",
       "      dtype='object')"
      ]
     },
     "execution_count": 41,
     "metadata": {},
     "output_type": "execute_result"
    }
   ],
   "source": [
    "m3.columns"
   ]
  },
  {
   "cell_type": "code",
   "execution_count": 42,
   "metadata": {},
   "outputs": [],
   "source": [
    "reglog = m3[['no_inhabitants','ratio_urban_inhabitants','avg_salary','unemployment_rate95','unemployment_rate96',\n",
    "             'rate_entrepreneurs','no_crimes95','no_crimes96','loan_id','amount','duration','status','gender', 'year']]"
   ]
  },
  {
   "cell_type": "code",
   "execution_count": 43,
   "metadata": {},
   "outputs": [
    {
     "data": {
      "text/html": [
       "<div>\n",
       "<style scoped>\n",
       "    .dataframe tbody tr th:only-of-type {\n",
       "        vertical-align: middle;\n",
       "    }\n",
       "\n",
       "    .dataframe tbody tr th {\n",
       "        vertical-align: top;\n",
       "    }\n",
       "\n",
       "    .dataframe thead th {\n",
       "        text-align: right;\n",
       "    }\n",
       "</style>\n",
       "<table border=\"1\" class=\"dataframe\">\n",
       "  <thead>\n",
       "    <tr style=\"text-align: right;\">\n",
       "      <th></th>\n",
       "      <th>no_inhabitants</th>\n",
       "      <th>ratio_urban_inhabitants</th>\n",
       "      <th>avg_salary</th>\n",
       "      <th>unemployment_rate95</th>\n",
       "      <th>unemployment_rate96</th>\n",
       "      <th>rate_entrepreneurs</th>\n",
       "      <th>no_crimes95</th>\n",
       "      <th>no_crimes96</th>\n",
       "      <th>loan_id</th>\n",
       "      <th>amount</th>\n",
       "      <th>duration</th>\n",
       "      <th>status</th>\n",
       "      <th>gender</th>\n",
       "      <th>year</th>\n",
       "    </tr>\n",
       "  </thead>\n",
       "  <tbody>\n",
       "    <tr>\n",
       "      <th>0</th>\n",
       "      <td>1204953</td>\n",
       "      <td>100.0</td>\n",
       "      <td>12541</td>\n",
       "      <td>0.29</td>\n",
       "      <td>0.43</td>\n",
       "      <td>167</td>\n",
       "      <td>85677</td>\n",
       "      <td>99107</td>\n",
       "      <td>4959</td>\n",
       "      <td>80952</td>\n",
       "      <td>24</td>\n",
       "      <td>0</td>\n",
       "      <td>M</td>\n",
       "      <td>1945</td>\n",
       "    </tr>\n",
       "    <tr>\n",
       "      <th>1</th>\n",
       "      <td>1204953</td>\n",
       "      <td>100.0</td>\n",
       "      <td>12541</td>\n",
       "      <td>0.29</td>\n",
       "      <td>0.43</td>\n",
       "      <td>167</td>\n",
       "      <td>85677</td>\n",
       "      <td>99107</td>\n",
       "      <td>4959</td>\n",
       "      <td>80952</td>\n",
       "      <td>24</td>\n",
       "      <td>0</td>\n",
       "      <td>F</td>\n",
       "      <td>1940</td>\n",
       "    </tr>\n",
       "    <tr>\n",
       "      <th>2</th>\n",
       "      <td>1204953</td>\n",
       "      <td>100.0</td>\n",
       "      <td>12541</td>\n",
       "      <td>0.29</td>\n",
       "      <td>0.43</td>\n",
       "      <td>167</td>\n",
       "      <td>85677</td>\n",
       "      <td>99107</td>\n",
       "      <td>5060</td>\n",
       "      <td>252060</td>\n",
       "      <td>60</td>\n",
       "      <td>1</td>\n",
       "      <td>F</td>\n",
       "      <td>1965</td>\n",
       "    </tr>\n",
       "    <tr>\n",
       "      <th>3</th>\n",
       "      <td>1204953</td>\n",
       "      <td>100.0</td>\n",
       "      <td>12541</td>\n",
       "      <td>0.29</td>\n",
       "      <td>0.43</td>\n",
       "      <td>167</td>\n",
       "      <td>85677</td>\n",
       "      <td>99107</td>\n",
       "      <td>5117</td>\n",
       "      <td>76944</td>\n",
       "      <td>12</td>\n",
       "      <td>0</td>\n",
       "      <td>F</td>\n",
       "      <td>1956</td>\n",
       "    </tr>\n",
       "    <tr>\n",
       "      <th>4</th>\n",
       "      <td>1204953</td>\n",
       "      <td>100.0</td>\n",
       "      <td>12541</td>\n",
       "      <td>0.29</td>\n",
       "      <td>0.43</td>\n",
       "      <td>167</td>\n",
       "      <td>85677</td>\n",
       "      <td>99107</td>\n",
       "      <td>5285</td>\n",
       "      <td>78936</td>\n",
       "      <td>12</td>\n",
       "      <td>0</td>\n",
       "      <td>F</td>\n",
       "      <td>1957</td>\n",
       "    </tr>\n",
       "  </tbody>\n",
       "</table>\n",
       "</div>"
      ],
      "text/plain": [
       "   no_inhabitants  ratio_urban_inhabitants  avg_salary  unemployment_rate95  \\\n",
       "0         1204953                    100.0       12541                 0.29   \n",
       "1         1204953                    100.0       12541                 0.29   \n",
       "2         1204953                    100.0       12541                 0.29   \n",
       "3         1204953                    100.0       12541                 0.29   \n",
       "4         1204953                    100.0       12541                 0.29   \n",
       "\n",
       "   unemployment_rate96  rate_entrepreneurs  no_crimes95  no_crimes96  loan_id  \\\n",
       "0                 0.43                 167        85677        99107     4959   \n",
       "1                 0.43                 167        85677        99107     4959   \n",
       "2                 0.43                 167        85677        99107     5060   \n",
       "3                 0.43                 167        85677        99107     5117   \n",
       "4                 0.43                 167        85677        99107     5285   \n",
       "\n",
       "   amount  duration  status gender  year  \n",
       "0   80952        24       0      M  1945  \n",
       "1   80952        24       0      F  1940  \n",
       "2  252060        60       1      F  1965  \n",
       "3   76944        12       0      F  1956  \n",
       "4   78936        12       0      F  1957  "
      ]
     },
     "execution_count": 43,
     "metadata": {},
     "output_type": "execute_result"
    }
   ],
   "source": [
    "reglog.head()"
   ]
  },
  {
   "cell_type": "code",
   "execution_count": 44,
   "metadata": {},
   "outputs": [
    {
     "name": "stderr",
     "output_type": "stream",
     "text": [
      "D:\\Anaconda3\\lib\\site-packages\\ipykernel_launcher.py:1: SettingWithCopyWarning: \n",
      "A value is trying to be set on a copy of a slice from a DataFrame\n",
      "\n",
      "See the caveats in the documentation: http://pandas.pydata.org/pandas-docs/stable/indexing.html#indexing-view-versus-copy\n",
      "  \"\"\"Entry point for launching an IPython kernel.\n"
     ]
    }
   ],
   "source": [
    "reglog.drop_duplicates('loan_id', keep='first', inplace=True)"
   ]
  },
  {
   "cell_type": "code",
   "execution_count": 45,
   "metadata": {},
   "outputs": [
    {
     "name": "stderr",
     "output_type": "stream",
     "text": [
      "D:\\Anaconda3\\lib\\site-packages\\pandas\\core\\generic.py:6586: SettingWithCopyWarning: \n",
      "A value is trying to be set on a copy of a slice from a DataFrame\n",
      "\n",
      "See the caveats in the documentation: http://pandas.pydata.org/pandas-docs/stable/indexing.html#indexing-view-versus-copy\n",
      "  self._update_inplace(new_data)\n"
     ]
    }
   ],
   "source": [
    "reglog.gender.replace('M',0,inplace=True)\n",
    "reglog.gender.replace('F',1,inplace=True)"
   ]
  },
  {
   "cell_type": "code",
   "execution_count": 46,
   "metadata": {},
   "outputs": [
    {
     "name": "stderr",
     "output_type": "stream",
     "text": [
      "D:\\Anaconda3\\lib\\site-packages\\pandas\\core\\generic.py:5096: SettingWithCopyWarning: \n",
      "A value is trying to be set on a copy of a slice from a DataFrame.\n",
      "Try using .loc[row_indexer,col_indexer] = value instead\n",
      "\n",
      "See the caveats in the documentation: http://pandas.pydata.org/pandas-docs/stable/indexing.html#indexing-view-versus-copy\n",
      "  self[name] = value\n"
     ]
    }
   ],
   "source": [
    "#calculando a idade do cliente que pediu o emprestimo no ano de 1999\n",
    "reglog.year = reglog.year.apply(lambda x: 1999 - x)"
   ]
  },
  {
   "cell_type": "code",
   "execution_count": 47,
   "metadata": {},
   "outputs": [
    {
     "data": {
      "text/html": [
       "<div>\n",
       "<style scoped>\n",
       "    .dataframe tbody tr th:only-of-type {\n",
       "        vertical-align: middle;\n",
       "    }\n",
       "\n",
       "    .dataframe tbody tr th {\n",
       "        vertical-align: top;\n",
       "    }\n",
       "\n",
       "    .dataframe thead th {\n",
       "        text-align: right;\n",
       "    }\n",
       "</style>\n",
       "<table border=\"1\" class=\"dataframe\">\n",
       "  <thead>\n",
       "    <tr style=\"text-align: right;\">\n",
       "      <th></th>\n",
       "      <th>no_inhabitants</th>\n",
       "      <th>ratio_urban_inhabitants</th>\n",
       "      <th>avg_salary</th>\n",
       "      <th>unemployment_rate95</th>\n",
       "      <th>unemployment_rate96</th>\n",
       "      <th>rate_entrepreneurs</th>\n",
       "      <th>no_crimes95</th>\n",
       "      <th>no_crimes96</th>\n",
       "      <th>loan_id</th>\n",
       "      <th>amount</th>\n",
       "      <th>duration</th>\n",
       "      <th>status</th>\n",
       "      <th>gender</th>\n",
       "      <th>year</th>\n",
       "    </tr>\n",
       "  </thead>\n",
       "  <tbody>\n",
       "    <tr>\n",
       "      <th>0</th>\n",
       "      <td>1204953</td>\n",
       "      <td>100.0</td>\n",
       "      <td>12541</td>\n",
       "      <td>0.29</td>\n",
       "      <td>0.43</td>\n",
       "      <td>167</td>\n",
       "      <td>85677</td>\n",
       "      <td>99107</td>\n",
       "      <td>4959</td>\n",
       "      <td>80952</td>\n",
       "      <td>24</td>\n",
       "      <td>0</td>\n",
       "      <td>0</td>\n",
       "      <td>54</td>\n",
       "    </tr>\n",
       "    <tr>\n",
       "      <th>2</th>\n",
       "      <td>1204953</td>\n",
       "      <td>100.0</td>\n",
       "      <td>12541</td>\n",
       "      <td>0.29</td>\n",
       "      <td>0.43</td>\n",
       "      <td>167</td>\n",
       "      <td>85677</td>\n",
       "      <td>99107</td>\n",
       "      <td>5060</td>\n",
       "      <td>252060</td>\n",
       "      <td>60</td>\n",
       "      <td>1</td>\n",
       "      <td>1</td>\n",
       "      <td>34</td>\n",
       "    </tr>\n",
       "    <tr>\n",
       "      <th>3</th>\n",
       "      <td>1204953</td>\n",
       "      <td>100.0</td>\n",
       "      <td>12541</td>\n",
       "      <td>0.29</td>\n",
       "      <td>0.43</td>\n",
       "      <td>167</td>\n",
       "      <td>85677</td>\n",
       "      <td>99107</td>\n",
       "      <td>5117</td>\n",
       "      <td>76944</td>\n",
       "      <td>12</td>\n",
       "      <td>0</td>\n",
       "      <td>1</td>\n",
       "      <td>43</td>\n",
       "    </tr>\n",
       "    <tr>\n",
       "      <th>4</th>\n",
       "      <td>1204953</td>\n",
       "      <td>100.0</td>\n",
       "      <td>12541</td>\n",
       "      <td>0.29</td>\n",
       "      <td>0.43</td>\n",
       "      <td>167</td>\n",
       "      <td>85677</td>\n",
       "      <td>99107</td>\n",
       "      <td>5285</td>\n",
       "      <td>78936</td>\n",
       "      <td>12</td>\n",
       "      <td>0</td>\n",
       "      <td>1</td>\n",
       "      <td>42</td>\n",
       "    </tr>\n",
       "    <tr>\n",
       "      <th>5</th>\n",
       "      <td>1204953</td>\n",
       "      <td>100.0</td>\n",
       "      <td>12541</td>\n",
       "      <td>0.29</td>\n",
       "      <td>0.43</td>\n",
       "      <td>167</td>\n",
       "      <td>85677</td>\n",
       "      <td>99107</td>\n",
       "      <td>5332</td>\n",
       "      <td>37944</td>\n",
       "      <td>36</td>\n",
       "      <td>0</td>\n",
       "      <td>1</td>\n",
       "      <td>33</td>\n",
       "    </tr>\n",
       "  </tbody>\n",
       "</table>\n",
       "</div>"
      ],
      "text/plain": [
       "   no_inhabitants  ratio_urban_inhabitants  avg_salary  unemployment_rate95  \\\n",
       "0         1204953                    100.0       12541                 0.29   \n",
       "2         1204953                    100.0       12541                 0.29   \n",
       "3         1204953                    100.0       12541                 0.29   \n",
       "4         1204953                    100.0       12541                 0.29   \n",
       "5         1204953                    100.0       12541                 0.29   \n",
       "\n",
       "   unemployment_rate96  rate_entrepreneurs  no_crimes95  no_crimes96  loan_id  \\\n",
       "0                 0.43                 167        85677        99107     4959   \n",
       "2                 0.43                 167        85677        99107     5060   \n",
       "3                 0.43                 167        85677        99107     5117   \n",
       "4                 0.43                 167        85677        99107     5285   \n",
       "5                 0.43                 167        85677        99107     5332   \n",
       "\n",
       "   amount  duration  status  gender  year  \n",
       "0   80952        24       0       0    54  \n",
       "2  252060        60       1       1    34  \n",
       "3   76944        12       0       1    43  \n",
       "4   78936        12       0       1    42  \n",
       "5   37944        36       0       1    33  "
      ]
     },
     "execution_count": 47,
     "metadata": {},
     "output_type": "execute_result"
    }
   ],
   "source": [
    "reglog.head()"
   ]
  },
  {
   "cell_type": "code",
   "execution_count": 48,
   "metadata": {},
   "outputs": [
    {
     "name": "stdout",
     "output_type": "stream",
     "text": [
      "<class 'pandas.core.frame.DataFrame'>\n",
      "Int64Index: 674 entries, 0 to 816\n",
      "Data columns (total 14 columns):\n",
      "no_inhabitants             674 non-null int64\n",
      "ratio_urban_inhabitants    674 non-null float64\n",
      "avg_salary                 674 non-null int64\n",
      "unemployment_rate95        674 non-null float64\n",
      "unemployment_rate96        674 non-null float64\n",
      "rate_entrepreneurs         674 non-null int64\n",
      "no_crimes95                674 non-null int64\n",
      "no_crimes96                674 non-null int64\n",
      "loan_id                    674 non-null int64\n",
      "amount                     674 non-null int64\n",
      "duration                   674 non-null int64\n",
      "status                     674 non-null int64\n",
      "gender                     674 non-null int64\n",
      "year                       674 non-null int64\n",
      "dtypes: float64(3), int64(11)\n",
      "memory usage: 79.0 KB\n"
     ]
    }
   ],
   "source": [
    "reglog.info()"
   ]
  },
  {
   "cell_type": "markdown",
   "metadata": {},
   "source": [
    "## Analisando dados para Regressão Logística"
   ]
  },
  {
   "cell_type": "markdown",
   "metadata": {},
   "source": [
    "### Temos dados ausentes?"
   ]
  },
  {
   "cell_type": "code",
   "execution_count": 49,
   "metadata": {},
   "outputs": [
    {
     "data": {
      "image/png": "[encoded data removed]",
      "text/plain": [
       "<Figure size 432x288 with 1 Axes>"
      ]
     },
     "metadata": {
      "needs_background": "light"
     },
     "output_type": "display_data"
    }
   ],
   "source": [
    "sns.heatmap(reglog.isnull(),yticklabels=False,cbar=False,cmap='viridis');"
   ]
  },
  {
   "cell_type": "markdown",
   "metadata": {},
   "source": [
    "### Não temos dados ausentes, vamos observar como alguns dados se comportam"
   ]
  },
  {
   "cell_type": "code",
   "execution_count": 50,
   "metadata": {},
   "outputs": [
    {
     "data": {
      "image/png": "[encoded data removed]",
      "text/plain": [
       "<Figure size 432x288 with 1 Axes>"
      ]
     },
     "metadata": {},
     "output_type": "display_data"
    }
   ],
   "source": [
    "sns.set_style('whitegrid')\n",
    "plt.title('Empréstimos com problemas X sem problemas')\n",
    "sns.countplot(x='status',data=reglog)\n",
    "sns.despine();"
   ]
  },
  {
   "cell_type": "code",
   "execution_count": 51,
   "metadata": {},
   "outputs": [
    {
     "data": {
      "image/png": "[encoded data removed]",
      "text/plain": [
       "<Figure size 432x288 with 1 Axes>"
      ]
     },
     "metadata": {},
     "output_type": "display_data"
    }
   ],
   "source": [
    "plt.title('Empréstimos com problemas X sem problemas (Homens=0 Mulheres=1)')\n",
    "sns.countplot(x='status',data=reglog,hue='gender')\n",
    "sns.despine();"
   ]
  },
  {
   "cell_type": "markdown",
   "metadata": {},
   "source": [
    "### Temos uma grande discrepância entre os dados de nossa variável resposta (600 sem problemas X 74 problemáticos)"
   ]
  },
  {
   "cell_type": "code",
   "execution_count": 52,
   "metadata": {},
   "outputs": [
    {
     "data": {
      "image/png": "[encoded data removed]",
      "text/plain": [
       "<Figure size 432x288 with 1 Axes>"
      ]
     },
     "metadata": {},
     "output_type": "display_data"
    }
   ],
   "source": [
    "plt.title('Idade dos clientes que requisitaram empréstimo em 1999')\n",
    "sns.distplot(reglog.year,bins=15)\n",
    "sns.despine();"
   ]
  },
  {
   "cell_type": "code",
   "execution_count": 53,
   "metadata": {},
   "outputs": [
    {
     "data": {
      "image/png": "[encoded data removed]",
      "text/plain": [
       "<Figure size 432x288 with 1 Axes>"
      ]
     },
     "metadata": {},
     "output_type": "display_data"
    }
   ],
   "source": [
    "plt.title('Distribuição das operações de crédito')\n",
    "sns.distplot(reglog.amount)\n",
    "sns.despine();"
   ]
  },
  {
   "cell_type": "markdown",
   "metadata": {},
   "source": [
    "## Construindo o modelo de Regressão Logística"
   ]
  },
  {
   "cell_type": "markdown",
   "metadata": {},
   "source": [
    "### Divisão treino-teste"
   ]
  },
  {
   "cell_type": "code",
   "execution_count": 54,
   "metadata": {},
   "outputs": [],
   "source": [
    "from sklearn.model_selection import train_test_split"
   ]
  },
  {
   "cell_type": "code",
   "execution_count": 55,
   "metadata": {},
   "outputs": [],
   "source": [
    "X = reglog[['no_inhabitants', 'ratio_urban_inhabitants', 'avg_salary',\n",
    "       'unemployment_rate95', 'unemployment_rate96', 'rate_entrepreneurs',\n",
    "       'no_crimes95', 'no_crimes96', 'amount', 'duration',\n",
    "       'gender', 'year']]"
   ]
  },
  {
   "cell_type": "code",
   "execution_count": 56,
   "metadata": {},
   "outputs": [],
   "source": [
    "Y = reglog['status']"
   ]
  },
  {
   "cell_type": "code",
   "execution_count": 57,
   "metadata": {},
   "outputs": [],
   "source": [
    "X_train, X_test, Y_train, Y_test = train_test_split(X, Y, test_size=0.30)"
   ]
  },
  {
   "cell_type": "markdown",
   "metadata": {},
   "source": [
    "### Training and Predicting"
   ]
  },
  {
   "cell_type": "code",
   "execution_count": 58,
   "metadata": {},
   "outputs": [],
   "source": [
    "from sklearn.linear_model import LogisticRegression"
   ]
  },
  {
   "cell_type": "code",
   "execution_count": 59,
   "metadata": {},
   "outputs": [
    {
     "name": "stderr",
     "output_type": "stream",
     "text": [
      "D:\\Anaconda3\\lib\\site-packages\\sklearn\\linear_model\\logistic.py:433: FutureWarning: Default solver will be changed to 'lbfgs' in 0.22. Specify a solver to silence this warning.\n",
      "  FutureWarning)\n"
     ]
    },
    {
     "data": {
      "text/plain": [
       "LogisticRegression(C=1.0, class_weight=None, dual=False, fit_intercept=True,\n",
       "          intercept_scaling=1, max_iter=100, multi_class='warn',\n",
       "          n_jobs=None, penalty='l2', random_state=None, solver='warn',\n",
       "          tol=0.0001, verbose=0, warm_start=False)"
      ]
     },
     "execution_count": 59,
     "metadata": {},
     "output_type": "execute_result"
    }
   ],
   "source": [
    "logmodel = LogisticRegression()\n",
    "logmodel.fit(X_train,Y_train)"
   ]
  },
  {
   "cell_type": "code",
   "execution_count": 60,
   "metadata": {},
   "outputs": [],
   "source": [
    "predictions = logmodel.predict(X_test)"
   ]
  },
  {
   "cell_type": "markdown",
   "metadata": {},
   "source": [
    "### Avaliação"
   ]
  },
  {
   "cell_type": "code",
   "execution_count": 61,
   "metadata": {},
   "outputs": [],
   "source": [
    "from sklearn.metrics import classification_report"
   ]
  },
  {
   "cell_type": "code",
   "execution_count": 62,
   "metadata": {
    "scrolled": true
   },
   "outputs": [
    {
     "name": "stdout",
     "output_type": "stream",
     "text": [
      "              precision    recall  f1-score   support\n",
      "\n",
      "           0       0.89      1.00      0.94       180\n",
      "           1       0.00      0.00      0.00        23\n",
      "\n",
      "   micro avg       0.89      0.89      0.89       203\n",
      "   macro avg       0.44      0.50      0.47       203\n",
      "weighted avg       0.79      0.89      0.83       203\n",
      "\n"
     ]
    },
    {
     "name": "stderr",
     "output_type": "stream",
     "text": [
      "D:\\Anaconda3\\lib\\site-packages\\sklearn\\metrics\\classification.py:1143: UndefinedMetricWarning: Precision and F-score are ill-defined and being set to 0.0 in labels with no predicted samples.\n",
      "  'precision', 'predicted', average, warn_for)\n",
      "D:\\Anaconda3\\lib\\site-packages\\sklearn\\metrics\\classification.py:1143: UndefinedMetricWarning: Precision and F-score are ill-defined and being set to 0.0 in labels with no predicted samples.\n",
      "  'precision', 'predicted', average, warn_for)\n",
      "D:\\Anaconda3\\lib\\site-packages\\sklearn\\metrics\\classification.py:1143: UndefinedMetricWarning: Precision and F-score are ill-defined and being set to 0.0 in labels with no predicted samples.\n",
      "  'precision', 'predicted', average, warn_for)\n"
     ]
    }
   ],
   "source": [
    "print(classification_report(Y_test,predictions))"
   ]
  },
  {
   "cell_type": "code",
   "execution_count": 63,
   "metadata": {},
   "outputs": [],
   "source": [
    "from sklearn.metrics import confusion_matrix"
   ]
  },
  {
   "cell_type": "code",
   "execution_count": 64,
   "metadata": {},
   "outputs": [
    {
     "name": "stdout",
     "output_type": "stream",
     "text": [
      "[[180   0]\n",
      " [ 23   0]]\n"
     ]
    }
   ],
   "source": [
    "print(confusion_matrix(Y_test,predictions))"
   ]
  },
  {
   "cell_type": "code",
   "execution_count": 65,
   "metadata": {},
   "outputs": [
    {
     "data": {
      "text/plain": [
       "array([-5.10800815e-06,  4.20647530e-05, -3.08067537e-04,  1.50837456e-06,\n",
       "        1.14210448e-06, -1.48131039e-04,  2.45403167e-04, -1.44124894e-04,\n",
       "        5.50788462e-06, -1.04444959e-04,  2.28878466e-06,  1.56060871e-05])"
      ]
     },
     "execution_count": 65,
     "metadata": {},
     "output_type": "execute_result"
    }
   ],
   "source": [
    "logmodel.coef_[0]"
   ]
  },
  {
   "cell_type": "code",
   "execution_count": 66,
   "metadata": {},
   "outputs": [
    {
     "data": {
      "text/plain": [
       "Index(['no_inhabitants', 'ratio_urban_inhabitants', 'avg_salary',\n",
       "       'unemployment_rate95', 'unemployment_rate96', 'rate_entrepreneurs',\n",
       "       'no_crimes95', 'no_crimes96', 'amount', 'duration', 'gender', 'year'],\n",
       "      dtype='object')"
      ]
     },
     "execution_count": 66,
     "metadata": {},
     "output_type": "execute_result"
    }
   ],
   "source": [
    "X.columns"
   ]
  },
  {
   "cell_type": "code",
   "execution_count": 67,
   "metadata": {},
   "outputs": [
    {
     "data": {
      "text/html": [
       "<div>\n",
       "<style scoped>\n",
       "    .dataframe tbody tr th:only-of-type {\n",
       "        vertical-align: middle;\n",
       "    }\n",
       "\n",
       "    .dataframe tbody tr th {\n",
       "        vertical-align: top;\n",
       "    }\n",
       "\n",
       "    .dataframe thead th {\n",
       "        text-align: right;\n",
       "    }\n",
       "</style>\n",
       "<table border=\"1\" class=\"dataframe\">\n",
       "  <thead>\n",
       "    <tr style=\"text-align: right;\">\n",
       "      <th></th>\n",
       "      <th>Coefficient</th>\n",
       "    </tr>\n",
       "  </thead>\n",
       "  <tbody>\n",
       "    <tr>\n",
       "      <th>no_inhabitants</th>\n",
       "      <td>-0.000005</td>\n",
       "    </tr>\n",
       "    <tr>\n",
       "      <th>ratio_urban_inhabitants</th>\n",
       "      <td>0.000042</td>\n",
       "    </tr>\n",
       "    <tr>\n",
       "      <th>avg_salary</th>\n",
       "      <td>-0.000308</td>\n",
       "    </tr>\n",
       "    <tr>\n",
       "      <th>unemployment_rate95</th>\n",
       "      <td>0.000002</td>\n",
       "    </tr>\n",
       "    <tr>\n",
       "      <th>unemployment_rate96</th>\n",
       "      <td>0.000001</td>\n",
       "    </tr>\n",
       "    <tr>\n",
       "      <th>rate_entrepreneurs</th>\n",
       "      <td>-0.000148</td>\n",
       "    </tr>\n",
       "    <tr>\n",
       "      <th>no_crimes95</th>\n",
       "      <td>0.000245</td>\n",
       "    </tr>\n",
       "    <tr>\n",
       "      <th>no_crimes96</th>\n",
       "      <td>-0.000144</td>\n",
       "    </tr>\n",
       "    <tr>\n",
       "      <th>amount</th>\n",
       "      <td>0.000006</td>\n",
       "    </tr>\n",
       "    <tr>\n",
       "      <th>duration</th>\n",
       "      <td>-0.000104</td>\n",
       "    </tr>\n",
       "    <tr>\n",
       "      <th>gender</th>\n",
       "      <td>0.000002</td>\n",
       "    </tr>\n",
       "    <tr>\n",
       "      <th>year</th>\n",
       "      <td>0.000016</td>\n",
       "    </tr>\n",
       "  </tbody>\n",
       "</table>\n",
       "</div>"
      ],
      "text/plain": [
       "                         Coefficient\n",
       "no_inhabitants             -0.000005\n",
       "ratio_urban_inhabitants     0.000042\n",
       "avg_salary                 -0.000308\n",
       "unemployment_rate95         0.000002\n",
       "unemployment_rate96         0.000001\n",
       "rate_entrepreneurs         -0.000148\n",
       "no_crimes95                 0.000245\n",
       "no_crimes96                -0.000144\n",
       "amount                      0.000006\n",
       "duration                   -0.000104\n",
       "gender                      0.000002\n",
       "year                        0.000016"
      ]
     },
     "execution_count": 67,
     "metadata": {},
     "output_type": "execute_result"
    }
   ],
   "source": [
    "db_coef = pd.DataFrame(logmodel.coef_[0], X.columns, columns=['Coefficient'])\n",
    "db_coef"
   ]
  },
  {
   "cell_type": "code",
   "execution_count": 68,
   "metadata": {},
   "outputs": [],
   "source": [
    "db_coef.loc[db_coef['Coefficient'] > 0, 'Sinal Encontrado'] = 'Positivo'\n",
    "db_coef.loc[db_coef['Coefficient'] < 0, 'Sinal Encontrado'] = 'Negativo'"
   ]
  },
  {
   "cell_type": "code",
   "execution_count": 69,
   "metadata": {},
   "outputs": [
    {
     "data": {
      "text/html": [
       "<div>\n",
       "<style scoped>\n",
       "    .dataframe tbody tr th:only-of-type {\n",
       "        vertical-align: middle;\n",
       "    }\n",
       "\n",
       "    .dataframe tbody tr th {\n",
       "        vertical-align: top;\n",
       "    }\n",
       "\n",
       "    .dataframe thead th {\n",
       "        text-align: right;\n",
       "    }\n",
       "</style>\n",
       "<table border=\"1\" class=\"dataframe\">\n",
       "  <thead>\n",
       "    <tr style=\"text-align: right;\">\n",
       "      <th></th>\n",
       "      <th>Coefficient</th>\n",
       "      <th>Sinal Encontrado</th>\n",
       "    </tr>\n",
       "  </thead>\n",
       "  <tbody>\n",
       "    <tr>\n",
       "      <th>no_inhabitants</th>\n",
       "      <td>-0.000005</td>\n",
       "      <td>Negativo</td>\n",
       "    </tr>\n",
       "    <tr>\n",
       "      <th>ratio_urban_inhabitants</th>\n",
       "      <td>0.000042</td>\n",
       "      <td>Positivo</td>\n",
       "    </tr>\n",
       "    <tr>\n",
       "      <th>avg_salary</th>\n",
       "      <td>-0.000308</td>\n",
       "      <td>Negativo</td>\n",
       "    </tr>\n",
       "    <tr>\n",
       "      <th>unemployment_rate95</th>\n",
       "      <td>0.000002</td>\n",
       "      <td>Positivo</td>\n",
       "    </tr>\n",
       "    <tr>\n",
       "      <th>unemployment_rate96</th>\n",
       "      <td>0.000001</td>\n",
       "      <td>Positivo</td>\n",
       "    </tr>\n",
       "    <tr>\n",
       "      <th>rate_entrepreneurs</th>\n",
       "      <td>-0.000148</td>\n",
       "      <td>Negativo</td>\n",
       "    </tr>\n",
       "    <tr>\n",
       "      <th>no_crimes95</th>\n",
       "      <td>0.000245</td>\n",
       "      <td>Positivo</td>\n",
       "    </tr>\n",
       "    <tr>\n",
       "      <th>no_crimes96</th>\n",
       "      <td>-0.000144</td>\n",
       "      <td>Negativo</td>\n",
       "    </tr>\n",
       "    <tr>\n",
       "      <th>amount</th>\n",
       "      <td>0.000006</td>\n",
       "      <td>Positivo</td>\n",
       "    </tr>\n",
       "    <tr>\n",
       "      <th>duration</th>\n",
       "      <td>-0.000104</td>\n",
       "      <td>Negativo</td>\n",
       "    </tr>\n",
       "    <tr>\n",
       "      <th>gender</th>\n",
       "      <td>0.000002</td>\n",
       "      <td>Positivo</td>\n",
       "    </tr>\n",
       "    <tr>\n",
       "      <th>year</th>\n",
       "      <td>0.000016</td>\n",
       "      <td>Positivo</td>\n",
       "    </tr>\n",
       "  </tbody>\n",
       "</table>\n",
       "</div>"
      ],
      "text/plain": [
       "                         Coefficient Sinal Encontrado\n",
       "no_inhabitants             -0.000005         Negativo\n",
       "ratio_urban_inhabitants     0.000042         Positivo\n",
       "avg_salary                 -0.000308         Negativo\n",
       "unemployment_rate95         0.000002         Positivo\n",
       "unemployment_rate96         0.000001         Positivo\n",
       "rate_entrepreneurs         -0.000148         Negativo\n",
       "no_crimes95                 0.000245         Positivo\n",
       "no_crimes96                -0.000144         Negativo\n",
       "amount                      0.000006         Positivo\n",
       "duration                   -0.000104         Negativo\n",
       "gender                      0.000002         Positivo\n",
       "year                        0.000016         Positivo"
      ]
     },
     "execution_count": 69,
     "metadata": {},
     "output_type": "execute_result"
    }
   ],
   "source": [
    "db_coef.rename(columns={'Sinal':'Sinal Encontrado'})"
   ]
  },
  {
   "cell_type": "code",
   "execution_count": 70,
   "metadata": {},
   "outputs": [],
   "source": [
    "esp =['Negativo', 'Negativo', 'Negativo', 'Positivo', 'Positivo', 'Negativo', 'Positivo', 'Positivo', 'Positivo', 'Positivo',\n",
    "'Positivo', 'Negativo']"
   ]
  },
  {
   "cell_type": "code",
   "execution_count": 71,
   "metadata": {},
   "outputs": [],
   "source": [
    "db_coef['Sinal Esperado'] = esp"
   ]
  },
  {
   "cell_type": "markdown",
   "metadata": {},
   "source": [
    "### Analise de Betas e dos sinais encontrados"
   ]
  },
  {
   "cell_type": "code",
   "execution_count": 72,
   "metadata": {},
   "outputs": [
    {
     "data": {
      "text/html": [
       "<div>\n",
       "<style scoped>\n",
       "    .dataframe tbody tr th:only-of-type {\n",
       "        vertical-align: middle;\n",
       "    }\n",
       "\n",
       "    .dataframe tbody tr th {\n",
       "        vertical-align: top;\n",
       "    }\n",
       "\n",
       "    .dataframe thead th {\n",
       "        text-align: right;\n",
       "    }\n",
       "</style>\n",
       "<table border=\"1\" class=\"dataframe\">\n",
       "  <thead>\n",
       "    <tr style=\"text-align: right;\">\n",
       "      <th></th>\n",
       "      <th>Coefficient</th>\n",
       "      <th>Sinal Encontrado</th>\n",
       "      <th>Sinal Esperado</th>\n",
       "    </tr>\n",
       "  </thead>\n",
       "  <tbody>\n",
       "    <tr>\n",
       "      <th>no_inhabitants</th>\n",
       "      <td>-0.000005</td>\n",
       "      <td>Negativo</td>\n",
       "      <td>Negativo</td>\n",
       "    </tr>\n",
       "    <tr>\n",
       "      <th>ratio_urban_inhabitants</th>\n",
       "      <td>0.000042</td>\n",
       "      <td>Positivo</td>\n",
       "      <td>Negativo</td>\n",
       "    </tr>\n",
       "    <tr>\n",
       "      <th>avg_salary</th>\n",
       "      <td>-0.000308</td>\n",
       "      <td>Negativo</td>\n",
       "      <td>Negativo</td>\n",
       "    </tr>\n",
       "    <tr>\n",
       "      <th>unemployment_rate95</th>\n",
       "      <td>0.000002</td>\n",
       "      <td>Positivo</td>\n",
       "      <td>Positivo</td>\n",
       "    </tr>\n",
       "    <tr>\n",
       "      <th>unemployment_rate96</th>\n",
       "      <td>0.000001</td>\n",
       "      <td>Positivo</td>\n",
       "      <td>Positivo</td>\n",
       "    </tr>\n",
       "    <tr>\n",
       "      <th>rate_entrepreneurs</th>\n",
       "      <td>-0.000148</td>\n",
       "      <td>Negativo</td>\n",
       "      <td>Negativo</td>\n",
       "    </tr>\n",
       "    <tr>\n",
       "      <th>no_crimes95</th>\n",
       "      <td>0.000245</td>\n",
       "      <td>Positivo</td>\n",
       "      <td>Positivo</td>\n",
       "    </tr>\n",
       "    <tr>\n",
       "      <th>no_crimes96</th>\n",
       "      <td>-0.000144</td>\n",
       "      <td>Negativo</td>\n",
       "      <td>Positivo</td>\n",
       "    </tr>\n",
       "    <tr>\n",
       "      <th>amount</th>\n",
       "      <td>0.000006</td>\n",
       "      <td>Positivo</td>\n",
       "      <td>Positivo</td>\n",
       "    </tr>\n",
       "    <tr>\n",
       "      <th>duration</th>\n",
       "      <td>-0.000104</td>\n",
       "      <td>Negativo</td>\n",
       "      <td>Positivo</td>\n",
       "    </tr>\n",
       "    <tr>\n",
       "      <th>gender</th>\n",
       "      <td>0.000002</td>\n",
       "      <td>Positivo</td>\n",
       "      <td>Positivo</td>\n",
       "    </tr>\n",
       "    <tr>\n",
       "      <th>year</th>\n",
       "      <td>0.000016</td>\n",
       "      <td>Positivo</td>\n",
       "      <td>Negativo</td>\n",
       "    </tr>\n",
       "  </tbody>\n",
       "</table>\n",
       "</div>"
      ],
      "text/plain": [
       "                         Coefficient Sinal Encontrado Sinal Esperado\n",
       "no_inhabitants             -0.000005         Negativo       Negativo\n",
       "ratio_urban_inhabitants     0.000042         Positivo       Negativo\n",
       "avg_salary                 -0.000308         Negativo       Negativo\n",
       "unemployment_rate95         0.000002         Positivo       Positivo\n",
       "unemployment_rate96         0.000001         Positivo       Positivo\n",
       "rate_entrepreneurs         -0.000148         Negativo       Negativo\n",
       "no_crimes95                 0.000245         Positivo       Positivo\n",
       "no_crimes96                -0.000144         Negativo       Positivo\n",
       "amount                      0.000006         Positivo       Positivo\n",
       "duration                   -0.000104         Negativo       Positivo\n",
       "gender                      0.000002         Positivo       Positivo\n",
       "year                        0.000016         Positivo       Negativo"
      ]
     },
     "execution_count": 72,
     "metadata": {},
     "output_type": "execute_result"
    }
   ],
   "source": [
    "db_coef"
   ]
  },
  {
   "cell_type": "code",
   "execution_count": null,
   "metadata": {},
   "outputs": [],
   "source": [
    "db_coe"
   ]
  }
 ],
 "metadata": {
  "kernelspec": {
   "display_name": "Python 3",
   "language": "python",
   "name": "python3"
  },
  "language_info": {
   "codemirror_mode": {
    "name": "ipython",
    "version": 3
   },
   "file_extension": ".py",
   "mimetype": "text/x-python",
   "name": "python",
   "nbconvert_exporter": "python",
   "pygments_lexer": "ipython3",
   "version": "3.7.3"
  }
 },
 "nbformat": 4,
 "nbformat_minor": 2
}
