{
 "cells": [
  {
   "cell_type": "markdown",
   "metadata": {},
   "source": [
    "# Duel of sorcerers\n",
    "You are witnessing an epic battle between two powerful sorcerers: Gandalf and Saruman. Each sorcerer has 10 spells of variable power in their mind and they are going to throw them one after the other. The winner of the duel will be the one who wins more of those clashes between spells. Spells are represented as a list of 10 integers whose value equals the power of the spell.\n",
    "```\n",
    "gandalf = [10, 11, 13, 30, 22, 11, 10, 33, 22, 22]\n",
    "saruman = [23, 66, 12, 43, 12, 10, 44, 23, 12, 17]\n",
    "```\n",
    "For example:\n",
    "1. The first clash is won by Saruman: 10 against 23, wins 23\n",
    "2. The second clash wins Saruman: 11 against 66, wins 66\n",
    "3. etc.\n",
    "\n",
    "\n",
    "You will create two variables, one for each sorcerer, where the sum of clashes won will be stored. Depending on which variable is greater at the end of the duel, you will show one of the following three results on the screen:\n",
    "* Gandalf wins\n",
    "* Saruman wins\n",
    "* Tie\n",
    "\n",
    "<img src=\"images/content_lightning_bolt_big.jpg\" width=\"400\">"
   ]
  },
  {
   "cell_type": "markdown",
   "metadata": {},
   "source": [
    "## Solution"
   ]
  },
  {
   "cell_type": "code",
   "execution_count": 2,
   "metadata": {},
   "outputs": [],
   "source": [
    "# Assign spell power lists to variables\n",
    "\n",
    "gandalf = [10, 11, 13, 30, 22, 11, 10, 33, 22, 22]\n",
    "saruman = [23, 66, 12, 43, 12, 10, 44, 23, 12, 17]"
   ]
  },
  {
   "cell_type": "code",
   "execution_count": 3,
   "metadata": {},
   "outputs": [],
   "source": [
    "# Assign 0 to each variable that stores the victories\n",
    "\n",
    "gandalf_wins = 0\n",
    "saruman_wins = 0 \n",
    "ties = 0"
   ]
  },
  {
   "cell_type": "code",
   "execution_count": 4,
   "metadata": {},
   "outputs": [],
   "source": [
    "# Execution of spell clashes\n",
    "\n",
    "for i in range(len(gandalf)):\n",
    "    if gandalf[i] > saruman[i]:\n",
    "        gandalf_wins += 1\n",
    "    elif gandalf[i] < saruman[i]:\n",
    "        saruman_wins += 1\n",
    "    else:\n",
    "        ties += 1\n",
    "        "
   ]
  },
  {
   "cell_type": "code",
   "execution_count": 5,
   "metadata": {},
   "outputs": [
    {
     "name": "stdout",
     "output_type": "stream",
     "text": [
      "Gandalf is the winner with 6 victories!\n"
     ]
    }
   ],
   "source": [
    "# We check who has won, do not forget the possibility of a draw.\n",
    "# Print the result based on the winner.\n",
    "\n",
    "if gandalf_wins > saruman_wins:\n",
    "    print(\"Gandalf is the winner with\", gandalf_wins, \"victories!\")\n",
    "elif gandalf_wins < saruman_wins:\n",
    "    print(\"Saruman is the winner with\", saruman_wins, \"victories!\")\n",
    "else: print(\"There was a tie!\")"
   ]
  },
  {
   "cell_type": "markdown",
   "metadata": {},
   "source": [
    "## Goals\n",
    "\n",
    "1. Treatment of lists\n",
    "2. Use of **for loop**\n",
    "3. Use of conditional **if-elif-else**\n",
    "4. Use of the functions **range(), len()**\n",
    "5. Print"
   ]
  },
  {
   "cell_type": "markdown",
   "metadata": {},
   "source": [
    "## Bonus\n",
    "\n",
    "1. Spells now have a name and there is a dictionary that relates that name to a power.\n",
    "2. A sorcerer wins if he succeeds in winning 3 spell clashes in a row.\n",
    "3. Average of each of the spell lists.\n",
    "4. Standard deviation of each of the spell lists.\n",
    "\n",
    "```\n",
    "POWER = {\n",
    "    'Fireball': 50, \n",
    "    'Lightning bolt': 40, \n",
    "    'Magic arrow': 10, \n",
    "    'Black Tentacles': 25, \n",
    "    'Contagion': 45\n",
    "}\n",
    "\n",
    "gandalf = ['Fireball', 'Lightning bolt', 'Lightning bolt', 'Magic arrow', 'Fireball', \n",
    "           'Magic arrow', 'Lightning bolt', 'Fireball', 'Fireball', 'Fireball']\n",
    "saruman = ['Contagion', 'Contagion', 'Black Tentacles', 'Fireball', 'Black Tentacles', \n",
    "           'Lightning bolt', 'Magic arrow', 'Contagion', 'Magic arrow', 'Magic arrow']\n",
    "```\n",
    "\n",
    "Good luck!"
   ]
  },
  {
   "cell_type": "code",
   "execution_count": 18,
   "metadata": {},
   "outputs": [],
   "source": [
    "# 1. Spells now have a name and there is a dictionary that relates that name to a power.\n",
    "# variables\n",
    "\n",
    "power = {\n",
    "    'Fireball': 50, \n",
    "    'Lightning bolt': 40, \n",
    "    'Magic arrow': 10, \n",
    "    'Black Tentacles': 25, \n",
    "    'Contagion': 45\n",
    "}\n",
    "\n",
    "gandalf = ['Fireball', 'Lightning bolt', 'Lightning bolt', 'Magic arrow', 'Fireball', \n",
    "           'Magic arrow', 'Lightning bolt', 'Fireball', 'Magic arrow', 'Fireball']\n",
    "saruman = ['Contagion', 'Contagion', 'Black Tentacles', 'Fireball', 'Black Tentacles', \n",
    "           'Lightning bolt', 'Magic arrow', 'Contagion', 'Magic arrow', 'Magic arrow']"
   ]
  },
  {
   "cell_type": "code",
   "execution_count": 19,
   "metadata": {},
   "outputs": [],
   "source": [
    "# Assign spell power lists to variables\n",
    "gandalf_power = []\n",
    "saruman_power = []\n",
    "\n",
    "for i in gandalf:\n",
    "    gandalf_power.append(power[i])\n",
    "\n",
    "for j in saruman:\n",
    "    saruman_power.append(power[j])"
   ]
  },
  {
   "cell_type": "code",
   "execution_count": 37,
   "metadata": {},
   "outputs": [
    {
     "name": "stdout",
     "output_type": "stream",
     "text": [
      "No one won 3 clashes in a row.\n",
      "Gandalf is the winner!\n"
     ]
    }
   ],
   "source": [
    "# 2. A sorcerer wins if he succeeds in winning 3 spell clashes in a row.\n",
    "# Execution of spell clashes\n",
    "wins = []\n",
    "gwins = 0\n",
    "swins = 0\n",
    "\n",
    "for duel in range(len(gandalf)):\n",
    "    if gandalf_power[duel] > saruman_power[duel]:\n",
    "        wins.append(\"gandalf\")\n",
    "    elif gandalf_power[duel] < saruman_power[duel]:\n",
    "        wins.append(\"saruman\")\n",
    "    else:\n",
    "        wins.append(\"tie\")\n",
    "\n",
    "# check for 3 wins in a row\n",
    "for i in range(len(wins)-2):\n",
    "    if wins[i] == wins[i+1] == wins[i+2]:\n",
    "        print(i,\"won 3 clashes in a row.\")\n",
    "    else:\n",
    "        pass\n",
    "\n",
    "print(\"No one won 3 clashes in a row.\")\n",
    "\n",
    "# check the winner\n",
    "for j in wins:\n",
    "    if j == \"gandalf\":\n",
    "        gwins += 1\n",
    "    else:\n",
    "        swins += 1\n",
    "\n",
    "if gwins > swins:\n",
    "    print(\"Gandalf is the winner!\")\n",
    "elif gwins < swins:\n",
    "    print(\"Saruman is the winner!\")\n",
    "else:\n",
    "    print(\"Tie!\")"
   ]
  },
  {
   "cell_type": "code",
   "execution_count": 23,
   "metadata": {},
   "outputs": [
    {
     "name": "stdout",
     "output_type": "stream",
     "text": [
      "The average Gandalf's power is 35.0\n",
      "The average Saruman's power is 30.5\n"
     ]
    }
   ],
   "source": [
    "# 3. Average of each of the spell lists.\n",
    "avg_gandalf = 0\n",
    "avg_saruman = 0\n",
    "\n",
    "avg_gandalf = sum(gandalf_power)/len(gandalf_power)\n",
    "avg_saruman = sum(saruman_power)/len(saruman_power)\n",
    "\n",
    "print(\"The average Gandalf's power is\", avg_gandalf)\n",
    "print(\"The average Saruman's power is\", avg_saruman)"
   ]
  },
  {
   "cell_type": "code",
   "execution_count": 24,
   "metadata": {},
   "outputs": [
    {
     "name": "stdout",
     "output_type": "stream",
     "text": [
      "The standard deviation of Gandalf's spells is 16.881943016134134\n",
      "The standard deviation of Saruman's spells is 15.56438241627338\n"
     ]
    }
   ],
   "source": [
    "# 4. Standard deviation of each of the spell lists.\n",
    "stdv_gandalf = 0\n",
    "stdv_saruman = 0\n",
    "gandalf_distavg = []\n",
    "saruman_distavg = []\n",
    "\n",
    "for i in gandalf_power:\n",
    "    gandalf_distavg.append((i-avg_gandalf)**2)\n",
    "    \n",
    "for j in saruman_power:\n",
    "    saruman_distavg.append((j-avg_saruman)**2)\n",
    "    \n",
    "stdv_gandalf = (sum(gandalf_distavg)/len(gandalf_distavg))**0.5\n",
    "stdv_saruman = (sum(saruman_distavg)/len(saruman_distavg))**0.5\n",
    "\n",
    "print(\"The standard deviation of Gandalf's spells is\", stdv_gandalf)\n",
    "print(\"The standard deviation of Saruman's spells is\", stdv_saruman)"
   ]
  }
 ],
 "metadata": {
  "kernelspec": {
   "display_name": "Python 3",
   "language": "python",
   "name": "python3"
  },
  "language_info": {
   "codemirror_mode": {
    "name": "ipython",
    "version": 3
   },
   "file_extension": ".py",
   "mimetype": "text/x-python",
   "name": "python",
   "nbconvert_exporter": "python",
   "pygments_lexer": "ipython3",
   "version": "3.7.3"
  }
 },
 "nbformat": 4,
 "nbformat_minor": 2
}
