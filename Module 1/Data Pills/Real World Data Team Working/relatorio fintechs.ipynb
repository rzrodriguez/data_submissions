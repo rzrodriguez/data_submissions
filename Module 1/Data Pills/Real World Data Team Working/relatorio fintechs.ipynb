{
 "cells": [
  {
   "cell_type": "markdown",
   "metadata": {},
   "source": [
    "# Relatório Fintechs\n",
    "\n",
    "\n",
    "No mundo inteiro é possível observar um grande e rápido crescimento de fintechs. O Brasil aparece em um seleto grupo do países que possuem fintechs consideradas unicónio, isto é, startups que já passaram do valor de mercado de 1 bilhão de dólares. No mundo, o mercado de fintechs concentra-se principalmente na América do Norte (com destaque aos EUA), Ásia e Europa.\n",
    "    \n",
    "Único unicórnio do setor no caso brasileiro, o Nubank apresentava no primeiro trimestre de 2019, um valor de 48 bilhões de dólares. O Nubank se destaca não só nacionalmente mas também no mundo, sendo uma das fintechs com maior valor de mercado, além disso, segundo o site cbinsights, no primeiro trimestre desse ano, o banco digital liderou a captação de novos clientes no setor de cartão de crédito no mundo e sua conta corrente também apareceu entre um dos produtos que mais ganhou clientes no período.\n",
    "    \n",
    "Entre vários segmentos de fintechs no Brasil, em 2018, os que mais cresceram foi o de bancos digitais, seguido por corretoras online e empréstimos. Dado que o Nunbank já domida o setor de bancos digitais, recomendaríamos novas empresas  a atuarem no setor de empréstimos para micro e pequenas empresas além de pessoas físicas. Dado que no brasil, ainda existe um spread muito alto cobrado pelos pelos brancos tradicionais, utilizando data science acreditamos que seja possível realizar uma análise mais cuidadosa permitindo realizar mais empréstimos, com taxa mais acessíveis, para pessoas e empresas que antes não pelos grandes bancos. \n",
    "    \n",
    "O Brasil é um dos líderes mundiais no uso de dispositivos móveis para acesso à internet. Acreditamos que seja um melhor investimento para novas empresas utilizarem aplicativos para alcançarem seu público alvo. Por meio deles, o usúario pode obter um melhor atendimento, por exemplo por chat bots, que estão on-line 24 horas por dia e permitem uma atenção ao cliente muito mais rápida, podendo ser crucial para a realização de um negócio ou não. Também recomendamos, utilizar por meio dos chat bots, meios de comunicação por meio de Whatsapp e Facebook Messenger, dois dos aplicativos mais populares no Brasil.   \n",
    "\n",
    "### Weslley Maia / Rodrigo Zalli"
   ]
  }
 ],
 "metadata": {
  "kernelspec": {
   "display_name": "Python 3",
   "language": "python",
   "name": "python3"
  },
  "language_info": {
   "codemirror_mode": {
    "name": "ipython",
    "version": 3
   },
   "file_extension": ".py",
   "mimetype": "text/x-python",
   "name": "python",
   "nbconvert_exporter": "python",
   "pygments_lexer": "ipython3",
   "version": "3.7.3"
  }
 },
 "nbformat": 4,
 "nbformat_minor": 2
}
