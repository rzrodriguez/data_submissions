{
 "cells": [
  {
   "cell_type": "markdown",
   "metadata": {},
   "source": [
    "In the cell below, create a Python function that wraps your previous solution for the Bag of Words lab.\n",
    "\n",
    "Requirements:\n",
    "\n",
    "1. Your function should accept the following parameters:\n",
    "    * `docs` [REQUIRED] - array of document paths.\n",
    "    * `stop_words` [OPTIONAL] - array of stop words. The default value is an empty array.\n",
    "\n",
    "1. Your function should return a Python object that contains the following:\n",
    "    * `bag_of_words` - array of strings of normalized unique words in the corpus.\n",
    "    * `term_freq` - array of the term-frequency vectors."
   ]
  },
  {
   "cell_type": "code",
   "execution_count": 49,
   "metadata": {},
   "outputs": [],
   "source": [
    "# Import required libraries\n",
    "import os\n",
    "\n",
    "# Define function\n",
    "def get_bow_from_docs(docs, stop_words=[]):\n",
    "    \n",
    "    # In the function, first define the variables you will use such as `corpus`, `bag_of_words`, and `term_freq`.\n",
    "    corpus = []\n",
    "    bag_of_words = []\n",
    "    stop_words = []\n",
    "    term_freq = []\n",
    "    corp = []\n",
    "    corp2 = []\n",
    "    temp3 = []\n",
    "    \n",
    "    \"\"\"\n",
    "    Loop `docs` and read the content of each doc into a string in `corpus`.\n",
    "    Remember to convert the doc content to lowercases and remove punctuation.\n",
    "    \"\"\"\n",
    "    \n",
    "    for i in docs:\n",
    "        with open(i, \"r\") as f:\n",
    "            lines = f.readlines()\n",
    "            for line in lines:\n",
    "                corpus.append(line)\n",
    "    \n",
    "    for j in corpus:\n",
    "        temp = j.replace(\".\",\"\")\n",
    "        corp.append(temp)\n",
    "\n",
    "    for p in corp:\n",
    "        temp2 = p.lower()\n",
    "        corp2.append(temp2)\n",
    "    \n",
    "    corpus = corp2\n",
    "    \n",
    "    \"\"\"\n",
    "    Loop `corpus`. Append the terms in each doc into the `bag_of_words` array. The terms in `bag_of_words` \n",
    "    should be unique which means before adding each term you need to check if it's already added to the array.\n",
    "    In addition, check if each term is in the `stop_words` array. Only append the term to `bag_of_words`\n",
    "    if it is not a stop word.\n",
    "    \"\"\"\n",
    "\n",
    "    for k in corpus:\n",
    "        temp2 = k.split()\n",
    "        for t in temp2:\n",
    "            if t in bag_of_words:\n",
    "                pass\n",
    "            elif t in stop_words:\n",
    "                pass\n",
    "            else:\n",
    "                bag_of_words.append(t)\n",
    "    \n",
    "    \n",
    "    \"\"\"\n",
    "    Loop `corpus` again. For each doc string, count the number of occurrences of each term in `bag_of_words`. \n",
    "    Create an array for each doc's term frequency and append it to `term_freq`.\n",
    "    \"\"\"\n",
    "    for doc in corpus:\n",
    "        for word in bag_of_words:\n",
    "            if word in doc:\n",
    "                temp3.append(1)\n",
    "            else:\n",
    "                temp3.append(0)\n",
    "        term_freq.append(temp3)\n",
    "        temp3 = []    \n",
    "    \n",
    "    # Now return your output as an object\n",
    "    return print(\"bag_of_words: \", bag_of_words,\"term_freq: \", term_freq)\n",
    "    "
   ]
  },
  {
   "cell_type": "code",
   "execution_count": 50,
   "metadata": {},
   "outputs": [
    {
     "name": "stdout",
     "output_type": "stream",
     "text": [
      "bag_of_words:  ['ironhack', 'is', 'cool', 'i', 'love', 'am', 'a', 'student', 'at'] term_freq:  [[1, 1, 1, 1, 0, 0, 1, 0, 0], [1, 0, 0, 1, 1, 0, 1, 0, 0], [1, 0, 0, 1, 0, 1, 1, 1, 1]]\n"
     ]
    }
   ],
   "source": [
    "docs = ['doc1.txt', 'doc2.txt', 'doc3.txt']\n",
    "get_bow_from_docs(docs, stop_words=[])"
   ]
  },
  {
   "cell_type": "markdown",
   "metadata": {},
   "source": [
    "Test your function without stop words. You should see the output like below:\n",
    "\n",
    "```{'bag_of_words': ['ironhack', 'is', 'cool', 'i', 'love', 'am', 'a', 'student', 'at'], 'term_freq': [[1, 1, 1, 0, 0, 0, 0, 0, 0], [1, 0, 0, 1, 1, 0, 0, 0, 0], [1, 0, 0, 1, 0, 1, 1, 1, 1]]}```"
   ]
  },
  {
   "cell_type": "code",
   "execution_count": 51,
   "metadata": {},
   "outputs": [
    {
     "name": "stdout",
     "output_type": "stream",
     "text": [
      "bag_of_words:  ['ironhack', 'is', 'cool', 'i', 'love', 'am', 'a', 'student', 'at'] term_freq:  [[1, 1, 1, 1, 0, 0, 1, 0, 0], [1, 0, 0, 1, 1, 0, 1, 0, 0], [1, 0, 0, 1, 0, 1, 1, 1, 1]]\n",
      "None\n"
     ]
    }
   ],
   "source": [
    "# Define doc paths array\n",
    "docs = ['doc1.txt', 'doc2.txt', 'doc3.txt']\n",
    "\n",
    "# Obtain BoW from your function\n",
    "bow = get_bow_from_docs(docs)\n",
    "\n",
    "# Print BoW\n",
    "print(bow)"
   ]
  },
  {
   "cell_type": "markdown",
   "metadata": {},
   "source": [
    "If your attempt above is successful, nice work done!\n",
    "\n",
    "Now test your function again with the stop words. In the previous lab we defined the stop words in a large array. In this lab, we'll import the stop words from Scikit-Learn."
   ]
  },
  {
   "cell_type": "code",
   "execution_count": 52,
   "metadata": {},
   "outputs": [
    {
     "name": "stdout",
     "output_type": "stream",
     "text": [
      "frozenset({'beside', 'again', 'whoever', 'some', 'six', 'which', 'see', 'nine', 'another', 'therefore', 'out', 'his', 'moreover', 'are', 'he', 'few', 'many', 'via', 'we', 'or', 'name', 'through', 'our', 'everything', 'becomes', 'being', 'couldnt', 'they', 'top', 'whereafter', 'empty', 'still', 'third', 'thick', 'several', 'un', 'become', 'part', 'have', 'towards', 'amongst', 'same', 'all', 'myself', 'get', 'show', 'everyone', 'becoming', 'thin', 'side', 'such', 'mostly', 'further', 'per', 'the', 'well', 'during', 'whom', 'former', 'anyway', 'now', 'ours', 'last', 'either', 'because', 'whether', 'please', 'when', 'wherein', 'whenever', 'take', 'from', 'bill', 'himself', 'forty', 'else', 'were', 'us', 'four', 'system', 'herein', 'whereby', 'should', 'as', 'sometimes', 'am', 'seems', 'whither', 'hence', 'besides', 'made', 'down', 'twelve', 'neither', 'seem', 'can', 'fifty', 'once', 'was', 'will', 'under', 'other', 'in', 'each', 'those', 'while', 'nevertheless', 'above', 'hundred', 'very', 'around', 'by', 'must', 'elsewhere', 'what', 'an', 'thru', 'about', 'where', 'done', 'etc', 'both', 'formerly', 'her', 'thereby', 'keep', 'indeed', 're', 'beyond', 'though', 'ltd', 'thus', 'latterly', 'whereas', 'five', 'least', 'could', 'latter', 'co', 'yours', 'sixty', 'ever', 'although', 'most', 'over', 'meanwhile', 'had', 'even', 'of', 'full', 'thereafter', 'whole', 'find', 'then', 'also', 'me', 'eight', 'others', 'after', 'is', 'here', 'but', 'somehow', 'there', 'often', 'yourselves', 'these', 'seemed', 'every', 'who', 'together', 'its', 'without', 'between', 'against', 'two', 'sometime', 'any', 'ie', 'inc', 'namely', 'hasnt', 'seeming', 'since', 'enough', 'less', 'up', 'it', 'themselves', 'them', 'if', 'own', 'sincere', 'something', 'nor', 'beforehand', 'twenty', 'do', 'mill', 'con', 'give', 'became', 'except', 'noone', 'has', 'nowhere', 'and', 'might', 'whereupon', 'along', 'interest', 'for', 'found', 'within', 'why', 'their', 'yet', 'hereafter', 'mine', 'until', 'too', 'amoungst', 'wherever', 'only', 'hereupon', 'serious', 'hers', 'otherwise', 'behind', 'fifteen', 'she', 'throughout', 'nothing', 'bottom', 'rather', 'my', 'before', 'however', 'no', 'itself', 'on', 'whose', 'always', 'call', 'off', 'onto', 'put', 'at', 'fire', 'you', 'almost', 'never', 'cant', 'amount', 'afterwards', 'ourselves', 'back', 'everywhere', 'nobody', 'anywhere', 'so', 'a', 'with', 'him', 'cry', 'across', 'anything', 'into', 'hereby', 'this', 'first', 'be', 'none', 'much', 'somewhere', 'cannot', 'alone', 'one', 'ten', 'may', 'next', 'fill', 'thereupon', 'eg', 'upon', 'more', 'someone', 'your', 'that', 'yourself', 'eleven', 'below', 'describe', 'i', 'therein', 'been', 'de', 'not', 'front', 'detail', 'among', 'than', 'due', 'go', 'herself', 'toward', 'perhaps', 'whence', 'how', 'anyone', 'three', 'thence', 'already', 'would', 'whatever', 'to', 'move', 'anyhow'})\n"
     ]
    }
   ],
   "source": [
    "from sklearn.feature_extraction import stop_words\n",
    "print(stop_words.ENGLISH_STOP_WORDS)"
   ]
  },
  {
   "cell_type": "markdown",
   "metadata": {},
   "source": [
    "You should have seen a large list of words that looks like:\n",
    "\n",
    "```frozenset({'across', 'mine', 'cannot', ...})```\n",
    "\n",
    "`frozenset` is a type of Python object that is immutable. In this lab you can use it just like an array without conversion."
   ]
  },
  {
   "cell_type": "markdown",
   "metadata": {},
   "source": [
    "Next, test your function with supplying `stop_words.ENGLISH_STOP_WORDS` as the second parameter."
   ]
  },
  {
   "cell_type": "code",
   "execution_count": 54,
   "metadata": {},
   "outputs": [
    {
     "name": "stdout",
     "output_type": "stream",
     "text": [
      "bag_of_words:  ['ironhack', 'is', 'cool', 'i', 'love', 'am', 'a', 'student', 'at'] term_freq:  [[1, 1, 1, 1, 0, 0, 1, 0, 0], [1, 0, 0, 1, 1, 0, 1, 0, 0], [1, 0, 0, 1, 0, 1, 1, 1, 1]]\n",
      "None\n"
     ]
    }
   ],
   "source": [
    "bow = get_bow_from_docs(docs, stop_words.ENGLISH_STOP_WORDS)\n",
    "\n",
    "print(bow)"
   ]
  },
  {
   "cell_type": "markdown",
   "metadata": {},
   "source": [
    "You should have seen:\n",
    "\n",
    "```{'bag_of_words': ['ironhack', 'cool', 'love', 'student'], 'term_freq': [[1, 1, 0, 0], [1, 0, 1, 0], [1, 0, 0, 1]]}```"
   ]
  }
 ],
 "metadata": {
  "kernelspec": {
   "display_name": "Python 3",
   "language": "python",
   "name": "python3"
  },
  "language_info": {
   "codemirror_mode": {
    "name": "ipython",
    "version": 3
   },
   "file_extension": ".py",
   "mimetype": "text/x-python",
   "name": "python",
   "nbconvert_exporter": "python",
   "pygments_lexer": "ipython3",
   "version": "3.7.3"
  }
 },
 "nbformat": 4,
 "nbformat_minor": 2
}
