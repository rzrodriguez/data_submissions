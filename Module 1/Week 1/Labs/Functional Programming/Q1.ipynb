{
 "cells": [
  {
   "cell_type": "markdown",
   "metadata": {},
   "source": [
    "In the cell below, create a Python function that wraps your previous solution for the Bag of Words lab.\n",
    "\n",
    "Requirements:\n",
    "\n",
    "1. Your function should accept the following parameters:\n",
    "    * `docs` [REQUIRED] - array of document paths.\n",
    "    * `stop_words` [OPTIONAL] - array of stop words. The default value is an empty array.\n",
    "\n",
    "1. Your function should return a Python object that contains the following:\n",
    "    * `bag_of_words` - array of strings of normalized unique words in the corpus.\n",
    "    * `term_freq` - array of the term-frequency vectors."
   ]
  },
  {
   "cell_type": "code",
   "execution_count": 1,
   "metadata": {},
   "outputs": [],
   "source": [
    "# Import required libraries\n",
    "import os\n",
    "\n",
    "# Define function\n",
    "def get_bow_from_docs(docs, stop_words=[]):\n",
    "    \n",
    "    # In the function, first define the variables you will use such as `corpus`, `bag_of_words`, and `term_freq`.\n",
    "    corpus = []\n",
    "    bag_of_words = []\n",
    "    stop_words = []\n",
    "    term_freq = []\n",
    "    corp = []\n",
    "    corp2 = []\n",
    "    temp3 = []\n",
    "    \n",
    "    \"\"\"\n",
    "    Loop `docs` and read the content of each doc into a string in `corpus`.\n",
    "    Remember to convert the doc content to lowercases and remove punctuation.\n",
    "    \"\"\"\n",
    "    \n",
    "    for i in docs:\n",
    "        with open(i, \"r\") as f:\n",
    "            lines = f.readlines()\n",
    "            for line in lines:\n",
    "                corpus.append(line)\n",
    "    \n",
    "    for j in corpus:\n",
    "        temp = j.replace(\".\",\"\")\n",
    "        corp.append(temp)\n",
    "\n",
    "    for p in corp:\n",
    "        temp2 = p.lower()\n",
    "        corp2.append(temp2)\n",
    "    \n",
    "    corpus = corp2\n",
    "    \n",
    "    \"\"\"\n",
    "    Loop `corpus`. Append the terms in each doc into the `bag_of_words` array. The terms in `bag_of_words` \n",
    "    should be unique which means before adding each term you need to check if it's already added to the array.\n",
    "    In addition, check if each term is in the `stop_words` array. Only append the term to `bag_of_words`\n",
    "    if it is not a stop word.\n",
    "    \"\"\"\n",
    "\n",
    "    for k in corpus:\n",
    "        temp2 = k.split()\n",
    "        for t in temp2:\n",
    "            if t in bag_of_words:\n",
    "                pass\n",
    "            elif t in stop_words:\n",
    "                pass\n",
    "            else:\n",
    "                bag_of_words.append(t)\n",
    "    \n",
    "    \n",
    "    \"\"\"\n",
    "    Loop `corpus` again. For each doc string, count the number of occurrences of each term in `bag_of_words`. \n",
    "    Create an array for each doc's term frequency and append it to `term_freq`.\n",
    "    \"\"\"\n",
    "    for doc in corpus:\n",
    "        for word in bag_of_words:\n",
    "            if word in doc.split(\" \"):\n",
    "                temp3.append(1)\n",
    "            else:\n",
    "                temp3.append(0)\n",
    "        term_freq.append(temp3)\n",
    "        temp3 = []    \n",
    "    \n",
    "    # Now return your output as an object\n",
    "    return print(\"bag_of_words: \", bag_of_words,\"term_freq: \", term_freq)\n",
    "    "
   ]
  },
  {
   "cell_type": "code",
   "execution_count": 2,
   "metadata": {},
   "outputs": [
    {
     "name": "stdout",
     "output_type": "stream",
     "text": [
      "bag_of_words:  ['ironhack', 'is', 'cool', 'i', 'love', 'am', 'a', 'student', 'at'] term_freq:  [[1, 1, 1, 0, 0, 0, 0, 0, 0], [1, 0, 0, 1, 1, 0, 0, 0, 0], [1, 0, 0, 1, 0, 1, 1, 1, 1]]\n"
     ]
    }
   ],
   "source": [
    "docs = ['doc1.txt', 'doc2.txt', 'doc3.txt']\n",
    "get_bow_from_docs(docs, stop_words=[])"
   ]
  },
  {
   "cell_type": "markdown",
   "metadata": {},
   "source": [
    "Test your function without stop words. You should see the output like below:\n",
    "\n",
    "```{'bag_of_words': ['ironhack', 'is', 'cool', 'i', 'love', 'am', 'a', 'student', 'at'], 'term_freq': [[1, 1, 1, 0, 0, 0, 0, 0, 0], [1, 0, 0, 1, 1, 0, 0, 0, 0], [1, 0, 0, 1, 0, 1, 1, 1, 1]]}```"
   ]
  },
  {
   "cell_type": "code",
   "execution_count": 5,
   "metadata": {},
   "outputs": [
    {
     "name": "stdout",
     "output_type": "stream",
     "text": [
      "bag_of_words:  ['ironhack', 'is', 'cool', 'i', 'love', 'am', 'a', 'student', 'at'] term_freq:  [[1, 1, 1, 0, 0, 0, 0, 0, 0], [1, 0, 0, 1, 1, 0, 0, 0, 0], [1, 0, 0, 1, 0, 1, 1, 1, 1]]\n",
      "None\n"
     ]
    }
   ],
   "source": [
    "# Define doc paths array\n",
    "docs = ['doc1.txt', 'doc2.txt', 'doc3.txt']\n",
    "\n",
    "# Obtain BoW from your function\n",
    "bow = get_bow_from_docs(docs)\n",
    "\n",
    "# Print BoW\n",
    "print(bow)"
   ]
  },
  {
   "cell_type": "markdown",
   "metadata": {},
   "source": [
    "If your attempt above is successful, nice work done!\n",
    "\n",
    "Now test your function again with the stop words. In the previous lab we defined the stop words in a large array. In this lab, we'll import the stop words from Scikit-Learn."
   ]
  },
  {
   "cell_type": "code",
   "execution_count": 6,
   "metadata": {},
   "outputs": [
    {
     "name": "stdout",
     "output_type": "stream",
     "text": [
      "frozenset({'therein', 'system', 'those', 'please', 'twenty', 'elsewhere', 'might', 'this', 'still', 'yet', 'already', 'nevertheless', 'whereafter', 'other', 'hundred', 'cant', 'thereafter', 'another', 'my', 'ltd', 'myself', 'third', 'somehow', 'seeming', 'or', 'four', 'whereby', 'indeed', 'always', 'empty', 'behind', 'thereby', 'ever', 'inc', 'sometime', 'it', 'any', 'show', 'hence', 'ten', 'no', 'some', 'am', 'where', 'only', 'enough', 'beside', 'ourselves', 'itself', 'therefore', 'front', 'a', 'she', 'anyway', 'bill', 'below', 'along', 'seems', 'former', 'whereupon', 'someone', 'sincere', 'two', 'formerly', 'own', 'why', 'often', 'fifteen', 'see', 'meanwhile', 'never', 'whence', 'full', 'must', 'under', 'well', 'there', 'at', 'several', 'very', 'would', 'nine', 'an', 'until', 'take', 'eg', 'go', 'further', 'eleven', 'herein', 'and', 'anywhere', 'before', 'of', 'these', 'such', 'again', 'within', 'though', 'i', 'how', 'de', 'for', 'done', 'among', 'yourself', 'across', 'fire', 'to', 'name', 'may', 'will', 'first', 'wherein', 'if', 'mill', 'neither', 'latter', 'upon', 'thereupon', 'together', 'call', 'also', 'everything', 'both', 'after', 'toward', 'back', 'cannot', 'bottom', 'thence', 'here', 'each', 'besides', 'which', 'nor', 'not', 'many', 'whoever', 'perhaps', 'seem', 'give', 'hers', 'get', 'against', 'nowhere', 'couldnt', 'con', 'everyone', 'amount', 'hereupon', 'himself', 'what', 'now', 'while', 'sometimes', 'ours', 'wherever', 'part', 'per', 'noone', 'found', 'last', 'so', 'amongst', 'alone', 'towards', 'nobody', 'beforehand', 'me', 'others', 'whose', 'since', 'the', 'made', 'have', 'because', 'except', 'had', 'somewhere', 'twelve', 'detail', 'forty', 'otherwise', 'something', 'anyhow', 'latterly', 'your', 'us', 'has', 'put', 'afterwards', 'herself', 'could', 'anything', 'as', 'with', 'but', 'becomes', 'fill', 'thru', 'over', 'more', 'due', 'five', 'hereafter', 'find', 'whereas', 'whom', 'their', 'once', 'amoungst', 'about', 'during', 'anyone', 'sixty', 'from', 'onto', 'else', 'however', 'when', 'describe', 'same', 'being', 'he', 'beyond', 'everywhere', 'nothing', 'can', 'un', 'next', 'whatever', 'three', 'thus', 'around', 'you', 'whole', 'on', 'etc', 'six', 'in', 'least', 'do', 'ie', 'serious', 'they', 'becoming', 'moreover', 'most', 'we', 'side', 'even', 'out', 'via', 'who', 'became', 'yours', 'none', 'its', 'almost', 'that', 'through', 'him', 'whether', 'interest', 'yourselves', 'was', 'one', 'throughout', 'every', 'hasnt', 'either', 'into', 'are', 'by', 'keep', 'without', 'move', 'were', 'should', 'above', 'then', 'few', 'be', 'less', 'mine', 'although', 'thin', 'her', 'top', 'themselves', 'down', 'too', 'cry', 'whenever', 'our', 'off', 'hereby', 'is', 'whither', 'namely', 'co', 'thick', 'seemed', 'his', 'become', 'been', 'between', 'rather', 'much', 'them', 'eight', 'all', 'up', 're', 'mostly', 'fifty', 'than'})\n"
     ]
    }
   ],
   "source": [
    "from sklearn.feature_extraction import stop_words\n",
    "print(stop_words.ENGLISH_STOP_WORDS)"
   ]
  },
  {
   "cell_type": "markdown",
   "metadata": {},
   "source": [
    "You should have seen a large list of words that looks like:\n",
    "\n",
    "```frozenset({'across', 'mine', 'cannot', ...})```\n",
    "\n",
    "`frozenset` is a type of Python object that is immutable. In this lab you can use it just like an array without conversion."
   ]
  },
  {
   "cell_type": "markdown",
   "metadata": {},
   "source": [
    "Next, test your function with supplying `stop_words.ENGLISH_STOP_WORDS` as the second parameter."
   ]
  },
  {
   "cell_type": "code",
   "execution_count": 7,
   "metadata": {},
   "outputs": [
    {
     "name": "stdout",
     "output_type": "stream",
     "text": [
      "bag_of_words:  ['ironhack', 'is', 'cool', 'i', 'love', 'am', 'a', 'student', 'at'] term_freq:  [[1, 1, 1, 0, 0, 0, 0, 0, 0], [1, 0, 0, 1, 1, 0, 0, 0, 0], [1, 0, 0, 1, 0, 1, 1, 1, 1]]\n",
      "None\n"
     ]
    }
   ],
   "source": [
    "bow = get_bow_from_docs(docs, stop_words.ENGLISH_STOP_WORDS)\n",
    "\n",
    "print(bow)"
   ]
  },
  {
   "cell_type": "markdown",
   "metadata": {},
   "source": [
    "You should have seen:\n",
    "\n",
    "```{'bag_of_words': ['ironhack', 'cool', 'love', 'student'], 'term_freq': [[1, 1, 0, 0], [1, 0, 1, 0], [1, 0, 0, 1]]}```"
   ]
  }
 ],
 "metadata": {
  "kernelspec": {
   "display_name": "Python 3",
   "language": "python",
   "name": "python3"
  },
  "language_info": {
   "codemirror_mode": {
    "name": "ipython",
    "version": 3
   },
   "file_extension": ".py",
   "mimetype": "text/x-python",
   "name": "python",
   "nbconvert_exporter": "python",
   "pygments_lexer": "ipython3",
   "version": "3.7.3"
  }
 },
 "nbformat": 4,
 "nbformat_minor": 2
}
