{
 "cells": [
  {
   "cell_type": "code",
   "execution_count": null,
   "metadata": {},
   "outputs": [],
   "source": [
    "You wake up on a couch and find yourself in a strange house with no windows which you have never been to before. \n",
    "You don't remember why you are here and what had happened before. \n",
    "\n",
    "You feel some unknown danger is approaching and you must get out of the house, NOW!"
   ]
  },
  {
   "cell_type": "code",
   "execution_count": null,
   "metadata": {},
   "outputs": [],
   "source": [
    "Você acordou em um sofá e está em uma casa estranha, sem janelas e que você nunca esteve antes. Você não se lembra porque você está aqui e o que aconteceu. Você sente que algum perigo está por vir e você deve fugir da casa RÁPIDO!"
   ]
  }
 ],
 "metadata": {
  "kernelspec": {
   "display_name": "Python 3",
   "language": "python",
   "name": "python3"
  },
  "language_info": {
   "codemirror_mode": {
    "name": "ipython",
    "version": 3
   },
   "file_extension": ".py",
   "mimetype": "text/x-python",
   "name": "python",
   "nbconvert_exporter": "python",
   "pygments_lexer": "ipython3",
   "version": "3.7.3"
  }
 },
 "nbformat": 4,
 "nbformat_minor": 2
}
