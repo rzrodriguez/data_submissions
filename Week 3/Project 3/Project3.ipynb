{
 "cells": [
  {
   "cell_type": "markdown",
   "metadata": {},
   "source": [
    "# Projeto 3 - Data Pipeline - Brazilian E-Commerce Public Dataset by Olist\n",
    "https://www.kaggle.com/olistbr/brazilian-ecommerce\n",
    "\n",
    "This is a Brazilian ecommerce public dataset of orders made at Olist Store. The dataset has information of 100k orders from 2016 to 2018 made at multiple marketplaces in Brazil. Its features allows viewing an order from multiple dimensions: from order status, price, payment and freight performance to customer location, product attributes and finally reviews written by customers. We also released a geolocation dataset that relates Brazilian zip codes to lat/lng coordinates.\n",
    "\n",
    "This is real commercial data, it has been anonymised, and references to the companies and partners in the review text have been replaced with the names of Game of Thrones great houses.\n",
    "\n",
    "Data Schema\n",
    "![image.png](attachment:image.png)"
   ]
  },
  {
   "cell_type": "code",
   "execution_count": 1,
   "metadata": {},
   "outputs": [],
   "source": [
    "#Importando bibliotecas\n",
    "import pandas as pd\n",
    "import numpy as np\n",
    "import os\n",
    "import seaborn as sns\n",
    "import matplotlib.pyplot as plt\n",
    "%matplotlib inline"
   ]
  },
  {
   "cell_type": "markdown",
   "metadata": {},
   "source": [
    "## Questões\n",
    "*Quais estados/cidades compram mais?\n",
    "\n",
    "*Quais os tickets médios?\n",
    "\n",
    "*Quais as categorias dos produtos mais vendidos? Todos os estados são iguais?\n",
    "\n",
    "*Quais as formas de pagamentos mais comuns? Varia entre estados e cidades?"
   ]
  },
  {
   "cell_type": "markdown",
   "metadata": {},
   "source": [
    "### Montando a base de dados para tentar responder estas questões\n",
    "#### Dados estão em bases diferentes. Formatação das bases está em estilo SQL, o que facilita o merge"
   ]
  },
  {
   "cell_type": "code",
   "execution_count": 2,
   "metadata": {},
   "outputs": [],
   "source": [
    "#importando bases necessarias para o merge\n",
    "items = pd.read_csv('./brazilian-ecommerce/olist_order_items_dataset.csv')\n",
    "customers = pd.read_csv('./brazilian-ecommerce/olist_customers_dataset.csv')\n",
    "orders = pd.read_csv('./brazilian-ecommerce/olist_orders_dataset.csv')\n",
    "payments = pd.read_csv('./brazilian-ecommerce/olist_order_payments_dataset.csv')\n",
    "products = pd.read_csv('./brazilian-ecommerce/olist_products_dataset.csv')\n",
    "geo = pd.read_csv('./brazilian-ecommerce/olist_geolocation_dataset.csv', dtype={'geolocation_zip_code_prefix': str})"
   ]
  },
  {
   "cell_type": "code",
   "execution_count": 3,
   "metadata": {},
   "outputs": [
    {
     "data": {
      "text/plain": [
       "Index(['order_id', 'order_item_id', 'product_id', 'seller_id',\n",
       "       'shipping_limit_date', 'price', 'freight_value'],\n",
       "      dtype='object')"
      ]
     },
     "execution_count": 3,
     "metadata": {},
     "output_type": "execute_result"
    }
   ],
   "source": [
    "items.columns"
   ]
  },
  {
   "cell_type": "code",
   "execution_count": 4,
   "metadata": {},
   "outputs": [],
   "source": [
    "db = items.drop(['order_item_id', 'seller_id','shipping_limit_date'],axis=1)"
   ]
  },
  {
   "cell_type": "code",
   "execution_count": 5,
   "metadata": {},
   "outputs": [
    {
     "data": {
      "text/html": [
       "<div>\n",
       "<style scoped>\n",
       "    .dataframe tbody tr th:only-of-type {\n",
       "        vertical-align: middle;\n",
       "    }\n",
       "\n",
       "    .dataframe tbody tr th {\n",
       "        vertical-align: top;\n",
       "    }\n",
       "\n",
       "    .dataframe thead th {\n",
       "        text-align: right;\n",
       "    }\n",
       "</style>\n",
       "<table border=\"1\" class=\"dataframe\">\n",
       "  <thead>\n",
       "    <tr style=\"text-align: right;\">\n",
       "      <th></th>\n",
       "      <th>order_id</th>\n",
       "      <th>product_id</th>\n",
       "      <th>price</th>\n",
       "      <th>freight_value</th>\n",
       "    </tr>\n",
       "  </thead>\n",
       "  <tbody>\n",
       "    <tr>\n",
       "      <th>0</th>\n",
       "      <td>00010242fe8c5a6d1ba2dd792cb16214</td>\n",
       "      <td>4244733e06e7ecb4970a6e2683c13e61</td>\n",
       "      <td>58.90</td>\n",
       "      <td>13.29</td>\n",
       "    </tr>\n",
       "    <tr>\n",
       "      <th>1</th>\n",
       "      <td>00018f77f2f0320c557190d7a144bdd3</td>\n",
       "      <td>e5f2d52b802189ee658865ca93d83a8f</td>\n",
       "      <td>239.90</td>\n",
       "      <td>19.93</td>\n",
       "    </tr>\n",
       "    <tr>\n",
       "      <th>2</th>\n",
       "      <td>000229ec398224ef6ca0657da4fc703e</td>\n",
       "      <td>c777355d18b72b67abbeef9df44fd0fd</td>\n",
       "      <td>199.00</td>\n",
       "      <td>17.87</td>\n",
       "    </tr>\n",
       "    <tr>\n",
       "      <th>3</th>\n",
       "      <td>00024acbcdf0a6daa1e931b038114c75</td>\n",
       "      <td>7634da152a4610f1595efa32f14722fc</td>\n",
       "      <td>12.99</td>\n",
       "      <td>12.79</td>\n",
       "    </tr>\n",
       "    <tr>\n",
       "      <th>4</th>\n",
       "      <td>00042b26cf59d7ce69dfabb4e55b4fd9</td>\n",
       "      <td>ac6c3623068f30de03045865e4e10089</td>\n",
       "      <td>199.90</td>\n",
       "      <td>18.14</td>\n",
       "    </tr>\n",
       "  </tbody>\n",
       "</table>\n",
       "</div>"
      ],
      "text/plain": [
       "                           order_id                        product_id   price  \\\n",
       "0  00010242fe8c5a6d1ba2dd792cb16214  4244733e06e7ecb4970a6e2683c13e61   58.90   \n",
       "1  00018f77f2f0320c557190d7a144bdd3  e5f2d52b802189ee658865ca93d83a8f  239.90   \n",
       "2  000229ec398224ef6ca0657da4fc703e  c777355d18b72b67abbeef9df44fd0fd  199.00   \n",
       "3  00024acbcdf0a6daa1e931b038114c75  7634da152a4610f1595efa32f14722fc   12.99   \n",
       "4  00042b26cf59d7ce69dfabb4e55b4fd9  ac6c3623068f30de03045865e4e10089  199.90   \n",
       "\n",
       "   freight_value  \n",
       "0          13.29  \n",
       "1          19.93  \n",
       "2          17.87  \n",
       "3          12.79  \n",
       "4          18.14  "
      ]
     },
     "execution_count": 5,
     "metadata": {},
     "output_type": "execute_result"
    }
   ],
   "source": [
    "db.head()"
   ]
  },
  {
   "cell_type": "code",
   "execution_count": 6,
   "metadata": {},
   "outputs": [
    {
     "data": {
      "text/plain": [
       "(112650, 4)"
      ]
     },
     "execution_count": 6,
     "metadata": {},
     "output_type": "execute_result"
    }
   ],
   "source": [
    "db.shape"
   ]
  },
  {
   "cell_type": "code",
   "execution_count": 7,
   "metadata": {},
   "outputs": [
    {
     "data": {
      "text/plain": [
       "Index(['order_id', 'customer_id', 'order_status', 'order_purchase_timestamp',\n",
       "       'order_approved_at', 'order_delivered_carrier_date',\n",
       "       'order_delivered_customer_date', 'order_estimated_delivery_date'],\n",
       "      dtype='object')"
      ]
     },
     "execution_count": 7,
     "metadata": {},
     "output_type": "execute_result"
    }
   ],
   "source": [
    "orders.columns"
   ]
  },
  {
   "cell_type": "code",
   "execution_count": 8,
   "metadata": {},
   "outputs": [],
   "source": [
    "db = db.merge(orders[['order_id','customer_id']], on='order_id')"
   ]
  },
  {
   "cell_type": "code",
   "execution_count": 9,
   "metadata": {},
   "outputs": [],
   "source": [
    "db = db.merge(customers[['customer_id','customer_city', 'customer_state']], on='customer_id')"
   ]
  },
  {
   "cell_type": "code",
   "execution_count": 10,
   "metadata": {},
   "outputs": [],
   "source": [
    "db = db.merge(payments[['payment_type', 'payment_installments', 'payment_value','order_id']], on= 'order_id')"
   ]
  },
  {
   "cell_type": "code",
   "execution_count": 11,
   "metadata": {},
   "outputs": [],
   "source": [
    "db = db.merge(products[['product_id', 'product_category_name']], on='product_id')"
   ]
  },
  {
   "cell_type": "code",
   "execution_count": 12,
   "metadata": {},
   "outputs": [
    {
     "data": {
      "text/plain": [
       "Index(['order_id', 'product_id', 'price', 'freight_value', 'customer_id',\n",
       "       'customer_city', 'customer_state', 'payment_type',\n",
       "       'payment_installments', 'payment_value', 'product_category_name'],\n",
       "      dtype='object')"
      ]
     },
     "execution_count": 12,
     "metadata": {},
     "output_type": "execute_result"
    }
   ],
   "source": [
    "#Ajustando ordem das colunas \n",
    "db.columns"
   ]
  },
  {
   "cell_type": "code",
   "execution_count": 13,
   "metadata": {},
   "outputs": [],
   "source": [
    "cols = ['order_id', 'product_id','customer_id', 'price','freight_value', 'payment_value','payment_type', 'payment_installments','product_category_name', 'customer_city', 'customer_state']"
   ]
  },
  {
   "cell_type": "code",
   "execution_count": 14,
   "metadata": {},
   "outputs": [],
   "source": [
    "db = db[cols]"
   ]
  },
  {
   "cell_type": "code",
   "execution_count": 15,
   "metadata": {},
   "outputs": [
    {
     "data": {
      "text/html": [
       "<div>\n",
       "<style scoped>\n",
       "    .dataframe tbody tr th:only-of-type {\n",
       "        vertical-align: middle;\n",
       "    }\n",
       "\n",
       "    .dataframe tbody tr th {\n",
       "        vertical-align: top;\n",
       "    }\n",
       "\n",
       "    .dataframe thead th {\n",
       "        text-align: right;\n",
       "    }\n",
       "</style>\n",
       "<table border=\"1\" class=\"dataframe\">\n",
       "  <thead>\n",
       "    <tr style=\"text-align: right;\">\n",
       "      <th></th>\n",
       "      <th>order_id</th>\n",
       "      <th>product_id</th>\n",
       "      <th>customer_id</th>\n",
       "      <th>price</th>\n",
       "      <th>freight_value</th>\n",
       "      <th>payment_value</th>\n",
       "      <th>payment_type</th>\n",
       "      <th>payment_installments</th>\n",
       "      <th>product_category_name</th>\n",
       "      <th>customer_city</th>\n",
       "      <th>customer_state</th>\n",
       "    </tr>\n",
       "  </thead>\n",
       "  <tbody>\n",
       "    <tr>\n",
       "      <th>0</th>\n",
       "      <td>00010242fe8c5a6d1ba2dd792cb16214</td>\n",
       "      <td>4244733e06e7ecb4970a6e2683c13e61</td>\n",
       "      <td>3ce436f183e68e07877b285a838db11a</td>\n",
       "      <td>58.9</td>\n",
       "      <td>13.29</td>\n",
       "      <td>72.19</td>\n",
       "      <td>credit_card</td>\n",
       "      <td>2</td>\n",
       "      <td>cool_stuff</td>\n",
       "      <td>campos dos goytacazes</td>\n",
       "      <td>RJ</td>\n",
       "    </tr>\n",
       "    <tr>\n",
       "      <th>1</th>\n",
       "      <td>130898c0987d1801452a8ed92a670612</td>\n",
       "      <td>4244733e06e7ecb4970a6e2683c13e61</td>\n",
       "      <td>e6eecc5a77de221464d1c4eaff0a9b64</td>\n",
       "      <td>55.9</td>\n",
       "      <td>17.96</td>\n",
       "      <td>73.86</td>\n",
       "      <td>boleto</td>\n",
       "      <td>1</td>\n",
       "      <td>cool_stuff</td>\n",
       "      <td>jatai</td>\n",
       "      <td>GO</td>\n",
       "    </tr>\n",
       "    <tr>\n",
       "      <th>2</th>\n",
       "      <td>532ed5e14e24ae1f0d735b91524b98b9</td>\n",
       "      <td>4244733e06e7ecb4970a6e2683c13e61</td>\n",
       "      <td>4ef55bf80f711b372afebcb7c715344a</td>\n",
       "      <td>64.9</td>\n",
       "      <td>18.33</td>\n",
       "      <td>83.23</td>\n",
       "      <td>credit_card</td>\n",
       "      <td>2</td>\n",
       "      <td>cool_stuff</td>\n",
       "      <td>belo horizonte</td>\n",
       "      <td>MG</td>\n",
       "    </tr>\n",
       "    <tr>\n",
       "      <th>3</th>\n",
       "      <td>6f8c31653edb8c83e1a739408b5ff750</td>\n",
       "      <td>4244733e06e7ecb4970a6e2683c13e61</td>\n",
       "      <td>30407a72ad8b3f4df4d15369126b20c9</td>\n",
       "      <td>58.9</td>\n",
       "      <td>16.17</td>\n",
       "      <td>75.07</td>\n",
       "      <td>credit_card</td>\n",
       "      <td>3</td>\n",
       "      <td>cool_stuff</td>\n",
       "      <td>sao jose dos pinhais</td>\n",
       "      <td>PR</td>\n",
       "    </tr>\n",
       "    <tr>\n",
       "      <th>4</th>\n",
       "      <td>7d19f4ef4d04461989632411b7e588b9</td>\n",
       "      <td>4244733e06e7ecb4970a6e2683c13e61</td>\n",
       "      <td>91a792fef70ecd8cc69d3c7feb3d12da</td>\n",
       "      <td>58.9</td>\n",
       "      <td>13.29</td>\n",
       "      <td>72.19</td>\n",
       "      <td>credit_card</td>\n",
       "      <td>4</td>\n",
       "      <td>cool_stuff</td>\n",
       "      <td>conselheiro lafaiete</td>\n",
       "      <td>MG</td>\n",
       "    </tr>\n",
       "  </tbody>\n",
       "</table>\n",
       "</div>"
      ],
      "text/plain": [
       "                           order_id                        product_id  \\\n",
       "0  00010242fe8c5a6d1ba2dd792cb16214  4244733e06e7ecb4970a6e2683c13e61   \n",
       "1  130898c0987d1801452a8ed92a670612  4244733e06e7ecb4970a6e2683c13e61   \n",
       "2  532ed5e14e24ae1f0d735b91524b98b9  4244733e06e7ecb4970a6e2683c13e61   \n",
       "3  6f8c31653edb8c83e1a739408b5ff750  4244733e06e7ecb4970a6e2683c13e61   \n",
       "4  7d19f4ef4d04461989632411b7e588b9  4244733e06e7ecb4970a6e2683c13e61   \n",
       "\n",
       "                        customer_id  price  freight_value  payment_value  \\\n",
       "0  3ce436f183e68e07877b285a838db11a   58.9          13.29          72.19   \n",
       "1  e6eecc5a77de221464d1c4eaff0a9b64   55.9          17.96          73.86   \n",
       "2  4ef55bf80f711b372afebcb7c715344a   64.9          18.33          83.23   \n",
       "3  30407a72ad8b3f4df4d15369126b20c9   58.9          16.17          75.07   \n",
       "4  91a792fef70ecd8cc69d3c7feb3d12da   58.9          13.29          72.19   \n",
       "\n",
       "  payment_type  payment_installments product_category_name  \\\n",
       "0  credit_card                     2            cool_stuff   \n",
       "1       boleto                     1            cool_stuff   \n",
       "2  credit_card                     2            cool_stuff   \n",
       "3  credit_card                     3            cool_stuff   \n",
       "4  credit_card                     4            cool_stuff   \n",
       "\n",
       "           customer_city customer_state  \n",
       "0  campos dos goytacazes             RJ  \n",
       "1                  jatai             GO  \n",
       "2         belo horizonte             MG  \n",
       "3   sao jose dos pinhais             PR  \n",
       "4   conselheiro lafaiete             MG  "
      ]
     },
     "execution_count": 15,
     "metadata": {},
     "output_type": "execute_result"
    }
   ],
   "source": [
    "#Observando dados, primeiras linhas e colunas\n",
    "db.head()"
   ]
  },
  {
   "cell_type": "code",
   "execution_count": 16,
   "metadata": {},
   "outputs": [
    {
     "data": {
      "text/plain": [
       "(117601, 11)"
      ]
     },
     "execution_count": 16,
     "metadata": {},
     "output_type": "execute_result"
    }
   ],
   "source": [
    "db.shape"
   ]
  },
  {
   "cell_type": "code",
   "execution_count": 17,
   "metadata": {},
   "outputs": [
    {
     "name": "stdout",
     "output_type": "stream",
     "text": [
      "<class 'pandas.core.frame.DataFrame'>\n",
      "Int64Index: 117601 entries, 0 to 117600\n",
      "Data columns (total 11 columns):\n",
      "order_id                 117601 non-null object\n",
      "product_id               117601 non-null object\n",
      "customer_id              117601 non-null object\n",
      "price                    117601 non-null float64\n",
      "freight_value            117601 non-null float64\n",
      "payment_value            117601 non-null float64\n",
      "payment_type             117601 non-null object\n",
      "payment_installments     117601 non-null int64\n",
      "product_category_name    115903 non-null object\n",
      "customer_city            117601 non-null object\n",
      "customer_state           117601 non-null object\n",
      "dtypes: float64(3), int64(1), object(7)\n",
      "memory usage: 10.8+ MB\n"
     ]
    }
   ],
   "source": [
    "db.info()"
   ]
  },
  {
   "cell_type": "code",
   "execution_count": 18,
   "metadata": {},
   "outputs": [],
   "source": [
    "#criando uma db para cada estado\n",
    "dic_estados = {estado:db[db['customer_state'] == str(estado)] for estado in db['customer_state'].unique()}"
   ]
  },
  {
   "cell_type": "markdown",
   "metadata": {},
   "source": [
    "### Alguns itens vendidos não possuem a categoria do produto informada, vamos analisar esta coluna com mais cuidado e preencher os valores nulos com 'sem categoria'"
   ]
  },
  {
   "cell_type": "code",
   "execution_count": 19,
   "metadata": {},
   "outputs": [
    {
     "data": {
      "text/plain": [
       "cama_mesa_banho                                  11823\n",
       "beleza_saude                                      9972\n",
       "esporte_lazer                                     8945\n",
       "moveis_decoracao                                  8744\n",
       "informatica_acessorios                            8082\n",
       "utilidades_domesticas                             7355\n",
       "relogios_presentes                                6201\n",
       "telefonia                                         4721\n",
       "ferramentas_jardim                                4574\n",
       "automotivo                                        4379\n",
       "brinquedos                                        4273\n",
       "cool_stuff                                        3987\n",
       "perfumaria                                        3560\n",
       "bebes                                             3196\n",
       "eletronicos                                       2845\n",
       "papelaria                                         2617\n",
       "fashion_bolsas_e_acessorios                       2151\n",
       "pet_shop                                          2028\n",
       "moveis_escritorio                                 1778\n",
       "consoles_games                                    1191\n",
       "malas_acessorios                                  1163\n",
       "construcao_ferramentas_construcao                  951\n",
       "eletrodomesticos                                   788\n",
       "instrumentos_musicais                              718\n",
       "eletroportateis                                    701\n",
       "casa_construcao                                    634\n",
       "livros_interesse_geral                             565\n",
       "moveis_sala                                        528\n",
       "alimentos                                          526\n",
       "casa_conforto                                      475\n",
       "                                                 ...  \n",
       "construcao_ferramentas_jardim                      245\n",
       "pcs                                                220\n",
       "artes                                              219\n",
       "sinalizacao_e_seguranca                            201\n",
       "construcao_ferramentas_seguranca                   199\n",
       "artigos_de_natal                                   155\n",
       "fashion_roupa_masculina                            145\n",
       "fashion_underwear_e_moda_praia                     144\n",
       "moveis_quarto                                      125\n",
       "construcao_ferramentas_ferramentas                 105\n",
       "tablets_impressao_imagem                            87\n",
       "portateis_casa_forno_e_cafe                         78\n",
       "cine_foto                                           73\n",
       "dvds_blu_ray                                        71\n",
       "livros_importados                                   62\n",
       "fashion_roupa_feminina                              48\n",
       "artigos_de_festas                                   46\n",
       "moveis_colchao_e_estofado                           41\n",
       "musica                                              40\n",
       "fraldas_higiene                                     39\n",
       "flores                                              33\n",
       "casa_conforto_2                                     31\n",
       "fashion_esporte                                     30\n",
       "artes_e_artesanato                                  24\n",
       "la_cuisine                                          16\n",
       "portateis_cozinha_e_preparadores_de_alimentos       15\n",
       "cds_dvds_musicais                                   14\n",
       "pc_gamer                                            10\n",
       "fashion_roupa_infanto_juvenil                        8\n",
       "seguros_e_servicos                                   2\n",
       "Name: product_category_name, Length: 73, dtype: int64"
      ]
     },
     "execution_count": 19,
     "metadata": {},
     "output_type": "execute_result"
    }
   ],
   "source": [
    "db.product_category_name.value_counts()"
   ]
  },
  {
   "cell_type": "code",
   "execution_count": 20,
   "metadata": {},
   "outputs": [],
   "source": [
    "db.product_category_name.fillna(\"sem_categoria\", inplace=True)"
   ]
  },
  {
   "cell_type": "markdown",
   "metadata": {},
   "source": [
    "#### Logo vemos algums problemas com as categorias de produtos (ex. casa_conforto_2), sites diferentes devem utilizar classificações diferentes. Além disso, algumas categorias apresentam poucas vendas para produtos populares em uma janela de 2 anos (ex. fashion_roupa_feminina). A heterogeneidade entre como diferentes sites classificam seus produtos pode comprometer a análise das categorias mais vendidas. Apesar disso, segue as categorias mais vendidas nos estados brasileiros e nas principais capitais."
   ]
  },
  {
   "cell_type": "code",
   "execution_count": 21,
   "metadata": {},
   "outputs": [],
   "source": [
    "#Brasil\n",
    "category_top5 = db.product_category_name.value_counts().nlargest(5)"
   ]
  },
  {
   "cell_type": "code",
   "execution_count": 25,
   "metadata": {},
   "outputs": [
    {
     "data": {
      "image/png": "[encoded data removed]",
      "text/plain": [
       "<Figure size 432x288 with 1 Axes>"
      ]
     },
     "metadata": {
      "needs_background": "light"
     },
     "output_type": "display_data"
    }
   ],
   "source": [
    "plt.title('Top 5 Categorias de produtos vendidos de 2016 a 2018')\n",
    "plt.xlabel('Vendas')\n",
    "plt.ylabel('Categorias')\n",
    "category_top5.plot.barh();\n",
    "sns.despine()"
   ]
  },
  {
   "cell_type": "code",
   "execution_count": 84,
   "metadata": {},
   "outputs": [
    {
     "data": {
      "image/png": "[encoded data removed]",
      "text/plain": [
       "<Figure size 432x288 with 1 Axes>"
      ]
     },
     "metadata": {
      "needs_background": "light"
     },
     "output_type": "display_data"
    }
   ],
   "source": [
    "plt.title('Top 5 Categorias de produtos vendidos de 2016 a 2018')\n",
    "ax = sns.barplot(x=category_top5, y=category_top5.index);\n",
    "ax.set(xlabel='Vendas', ylabel='Categorias')\n",
    "sns.despine()"
   ]
  },
  {
   "cell_type": "markdown",
   "metadata": {},
   "source": [
    "### Quais estados/cidades compram mais?"
   ]
  },
  {
   "cell_type": "code",
   "execution_count": 26,
   "metadata": {},
   "outputs": [],
   "source": [
    "orders_states = db.customer_state.value_counts()"
   ]
  },
  {
   "cell_type": "code",
   "execution_count": 27,
   "metadata": {},
   "outputs": [
    {
     "data": {
      "text/plain": [
       "SP    49566\n",
       "RJ    15327\n",
       "MG    13638\n",
       "RS     6486\n",
       "PR     5962\n",
       "SC     4302\n",
       "BA     4048\n",
       "DF     2473\n",
       "GO     2430\n",
       "ES     2338\n",
       "PE     1889\n",
       "CE     1551\n",
       "MT     1125\n",
       "PA     1116\n",
       "MA      844\n",
       "MS      843\n",
       "PB      639\n",
       "PI      573\n",
       "RN      569\n",
       "AL      458\n",
       "SE      397\n",
       "TO      339\n",
       "RO      286\n",
       "AM      171\n",
       "AC       95\n",
       "AP       84\n",
       "RR       52\n",
       "Name: customer_state, dtype: int64"
      ]
     },
     "execution_count": 27,
     "metadata": {},
     "output_type": "execute_result"
    }
   ],
   "source": [
    "orders_states"
   ]
  },
  {
   "cell_type": "code",
   "execution_count": 28,
   "metadata": {},
   "outputs": [
    {
     "data": {
      "image/png": "[encoded data removed]",
      "text/plain": [
       "<Figure size 1080x360 with 1 Axes>"
      ]
     },
     "metadata": {
      "needs_background": "light"
     },
     "output_type": "display_data"
    }
   ],
   "source": [
    "plt.figure(figsize=(15,5))\n",
    "plt.title('Número de compras por estado brasileiro nos anos de 2016 a 2018')\n",
    "sns.countplot(x='customer_state',data=db, order=db['customer_state'].value_counts().index);\n",
    "sns.despine()"
   ]
  },
  {
   "cell_type": "code",
   "execution_count": 29,
   "metadata": {},
   "outputs": [
    {
     "data": {
      "image/png": "[encoded data removed]",
      "text/plain": [
       "<Figure size 1080x360 with 1 Axes>"
      ]
     },
     "metadata": {
      "needs_background": "light"
     },
     "output_type": "display_data"
    }
   ],
   "source": [
    "db_semSP = db[db['customer_state'] != 'SP'].copy()\n",
    "plt.figure(figsize=(15,5))\n",
    "plt.title('Número de compras por estado brasileiro (sem SP) nos anos de 2016 a 2018')\n",
    "sns.countplot(x='customer_state',data=db_semSP,order=db_semSP['customer_state'].value_counts().index);\n",
    "sns.despine()"
   ]
  },
  {
   "cell_type": "markdown",
   "metadata": {},
   "source": [
    "### Naturalmente, os estados do sudeste são os maiores compradores, pois possuem populações maiores. Com isso, a análise de ticket médio talvez faça mais sentido."
   ]
  },
  {
   "cell_type": "code",
   "execution_count": 30,
   "metadata": {},
   "outputs": [],
   "source": [
    "#calculando o ticket medio de cada order"
   ]
  },
  {
   "cell_type": "code",
   "execution_count": 31,
   "metadata": {},
   "outputs": [],
   "source": [
    "ticket_medio = []\n",
    "estados = db['customer_state'].unique()\n",
    "for estado in estados:\n",
    "    ticket_medio.append(dic_estados[estado]['price'].sum() / dic_estados[estado]['order_id'].count())"
   ]
  },
  {
   "cell_type": "code",
   "execution_count": 32,
   "metadata": {},
   "outputs": [
    {
     "data": {
      "text/plain": [
       "array(['RJ', 'GO', 'MG', 'PR', 'BA', 'PE', 'SP', 'DF', 'MA', 'RS', 'SC',\n",
       "       'ES', 'AM', 'MT', 'SE', 'AL', 'RO', 'CE', 'PB', 'MS', 'PI', 'PA',\n",
       "       'RN', 'RR', 'AC', 'TO', 'AP'], dtype=object)"
      ]
     },
     "execution_count": 32,
     "metadata": {},
     "output_type": "execute_result"
    }
   ],
   "source": [
    "estados"
   ]
  },
  {
   "cell_type": "code",
   "execution_count": 33,
   "metadata": {},
   "outputs": [
    {
     "name": "stdout",
     "output_type": "stream",
     "text": [
      "[124.84923076923077, 127.50379423868311, 120.22560712714477, 118.39256457564575, 133.74782608695654, 143.59892006352567, 109.91741818988822, 126.5944439951476, 145.59453791469195, 121.45706598828247, 125.10819386331937, 121.42768605645854, 133.38807017543857, 151.8418133333333, 153.53803526448365, 181.46366812227078, 164.2098951048951, 154.3637911025145, 193.62494522691705, 142.13927639383155, 160.85113438045374, 165.2400358422939, 166.1767135325132, 150.56596153846152, 179.57305263157897, 165.9348377581121, 162.55119047619047]\n"
     ]
    }
   ],
   "source": [
    "print(ticket_medio)"
   ]
  },
  {
   "cell_type": "code",
   "execution_count": 34,
   "metadata": {},
   "outputs": [],
   "source": [
    "ticket_medio_estados = []\n",
    "\n",
    "for i in range(27):\n",
    "    ticket_medio_estados.append([estados[i],ticket_medio[i]])\n"
   ]
  },
  {
   "cell_type": "code",
   "execution_count": 35,
   "metadata": {},
   "outputs": [],
   "source": [
    "db_medias = pd.DataFrame(ticket_medio_estados, columns = ['estado', 'ticket_medio'])"
   ]
  },
  {
   "cell_type": "code",
   "execution_count": 36,
   "metadata": {},
   "outputs": [],
   "source": [
    "db_medias.loc[27] = ['BR', db_medias.ticket_medio.mean()]"
   ]
  },
  {
   "cell_type": "code",
   "execution_count": 37,
   "metadata": {},
   "outputs": [
    {
     "data": {
      "text/plain": [
       "array(['PB', 'AL', 'AC', 'RN', 'TO', 'PA', 'RO', 'AP', 'PI', 'CE', 'SE',\n",
       "       'MT', 'RR', 'BR', 'MA', 'PE', 'MS', 'BA', 'AM', 'GO', 'DF', 'SC',\n",
       "       'RJ', 'RS', 'ES', 'MG', 'PR', 'SP'], dtype=object)"
      ]
     },
     "execution_count": 37,
     "metadata": {},
     "output_type": "execute_result"
    }
   ],
   "source": [
    "db_medias[['estado','ticket_medio']].sort_values(by='ticket_medio',ascending=False)['estado'].values"
   ]
  },
  {
   "cell_type": "code",
   "execution_count": 38,
   "metadata": {},
   "outputs": [
    {
     "data": {
      "text/html": [
       "<div>\n",
       "<style scoped>\n",
       "    .dataframe tbody tr th:only-of-type {\n",
       "        vertical-align: middle;\n",
       "    }\n",
       "\n",
       "    .dataframe tbody tr th {\n",
       "        vertical-align: top;\n",
       "    }\n",
       "\n",
       "    .dataframe thead th {\n",
       "        text-align: right;\n",
       "    }\n",
       "</style>\n",
       "<table border=\"1\" class=\"dataframe\">\n",
       "  <thead>\n",
       "    <tr style=\"text-align: right;\">\n",
       "      <th></th>\n",
       "      <th>estado</th>\n",
       "      <th>ticket_medio</th>\n",
       "    </tr>\n",
       "  </thead>\n",
       "  <tbody>\n",
       "    <tr>\n",
       "      <th>6</th>\n",
       "      <td>SP</td>\n",
       "      <td>109.917418</td>\n",
       "    </tr>\n",
       "    <tr>\n",
       "      <th>27</th>\n",
       "      <td>BR</td>\n",
       "      <td>146.069619</td>\n",
       "    </tr>\n",
       "  </tbody>\n",
       "</table>\n",
       "</div>"
      ],
      "text/plain": [
       "   estado  ticket_medio\n",
       "6      SP    109.917418\n",
       "27     BR    146.069619"
      ]
     },
     "execution_count": 38,
     "metadata": {},
     "output_type": "execute_result"
    }
   ],
   "source": [
    "db_medias[db_medias['estado'].isin(['BR','SP'])]"
   ]
  },
  {
   "cell_type": "code",
   "execution_count": 39,
   "metadata": {},
   "outputs": [],
   "source": [
    "db_medias.loc[db_medias['estado'] == 'BR', 'clrs'] = '#68FF1B'\n",
    "db_medias.loc[db_medias['estado'] != 'BR', 'clrs'] = '#E4E4E4'"
   ]
  },
  {
   "cell_type": "code",
   "execution_count": 40,
   "metadata": {},
   "outputs": [
    {
     "data": {
      "image/png": "[encoded data removed]",
      "text/plain": [
       "<Figure size 1080x360 with 1 Axes>"
      ]
     },
     "metadata": {
      "needs_background": "light"
     },
     "output_type": "display_data"
    }
   ],
   "source": [
    "plt.figure(figsize=(15,5))\n",
    "plt.title('Ticket médio por estado de 2016 a 2018')\n",
    "sns.barplot(x='estado',\n",
    "            y='ticket_medio',\n",
    "            data=db_medias,\n",
    "            palette=db_medias[['estado','ticket_medio','clrs']].sort_values(by='ticket_medio',ascending=False)['clrs'],\n",
    "            order=db_medias[['estado','ticket_medio']].sort_values(by='ticket_medio',ascending=False)['estado'].values);\n",
    "sns.despine()"
   ]
  },
  {
   "cell_type": "code",
   "execution_count": 41,
   "metadata": {},
   "outputs": [],
   "source": [
    "#db_medias.set_index('estado', inplace=True)"
   ]
  },
  {
   "cell_type": "code",
   "execution_count": 42,
   "metadata": {},
   "outputs": [],
   "source": [
    "#db_medias.ticket_medio.sort_values(ascending=False).plot.bar(figsize=(15,5), colormap='rainbow', title= 'Ticket médio por estado de 2016 a 2018');"
   ]
  },
  {
   "cell_type": "markdown",
   "metadata": {},
   "source": [
    "### Talvez, o preço do frente tenha uma relação importante com o ticket médio do estados"
   ]
  },
  {
   "cell_type": "code",
   "execution_count": 43,
   "metadata": {},
   "outputs": [],
   "source": [
    "fretes_estados = db.pivot_table(index=['customer_state'], values=['freight_value'])"
   ]
  },
  {
   "cell_type": "code",
   "execution_count": 44,
   "metadata": {},
   "outputs": [],
   "source": [
    "db_medias.set_index('estado', inplace=True)"
   ]
  },
  {
   "cell_type": "code",
   "execution_count": 45,
   "metadata": {},
   "outputs": [],
   "source": [
    "db_medias['frete_medio'] = fretes_estados"
   ]
  },
  {
   "cell_type": "code",
   "execution_count": 46,
   "metadata": {},
   "outputs": [],
   "source": [
    "db_medias['frete_medio'].fillna(db_medias[db_medias['frete_medio'].notnull()]['frete_medio'].mean(),inplace=True)"
   ]
  },
  {
   "cell_type": "code",
   "execution_count": 47,
   "metadata": {},
   "outputs": [],
   "source": [
    "db_medias.reset_index(inplace=True)"
   ]
  },
  {
   "cell_type": "code",
   "execution_count": 48,
   "metadata": {},
   "outputs": [
    {
     "data": {
      "image/png": "[encoded data removed]",
      "text/plain": [
       "<Figure size 1080x360 with 1 Axes>"
      ]
     },
     "metadata": {
      "needs_background": "light"
     },
     "output_type": "display_data"
    }
   ],
   "source": [
    "plt.figure(figsize=(15,5))\n",
    "plt.title('Custo médio de frente por estado de 2016 a 2018')\n",
    "sns.barplot(x='estado',\n",
    "            y='frete_medio',\n",
    "            data=db_medias,\n",
    "            palette=db_medias[['estado','frete_medio','clrs']].sort_values(by='frete_medio',ascending=False)['clrs'],\n",
    "            order=db_medias[['estado','frete_medio']].sort_values(by='frete_medio',ascending=False)['estado'].values);\n",
    "sns.despine()"
   ]
  },
  {
   "cell_type": "code",
   "execution_count": 49,
   "metadata": {},
   "outputs": [],
   "source": [
    "#db_medias.frete_medio.sort_values(ascending=False).plot.bar(figsize=(15,5), colormap='rainbow', title= 'Custo médio de frente por estado de 2016 a 2018');"
   ]
  },
  {
   "cell_type": "markdown",
   "metadata": {},
   "source": [
    "### Os estados do Norte e Nordeste apresentam um frete médio maior que os estados do Sul e Sudeste"
   ]
  },
  {
   "cell_type": "markdown",
   "metadata": {},
   "source": [
    "### Calculando a correlação entre o ticket médio do estado e seu frete médio"
   ]
  },
  {
   "cell_type": "code",
   "execution_count": 50,
   "metadata": {},
   "outputs": [
    {
     "data": {
      "image/png": "[encoded data removed]",
      "text/plain": [
       "<Figure size 360x360 with 1 Axes>"
      ]
     },
     "metadata": {
      "needs_background": "light"
     },
     "output_type": "display_data"
    }
   ],
   "source": [
    "sns.lmplot(x='ticket_medio', y='frete_medio', data=db_medias);"
   ]
  },
  {
   "cell_type": "code",
   "execution_count": 51,
   "metadata": {},
   "outputs": [
    {
     "data": {
      "image/png": "[encoded data removed]",
      "text/plain": [
       "<Figure size 432x288 with 2 Axes>"
      ]
     },
     "metadata": {
      "needs_background": "light"
     },
     "output_type": "display_data"
    }
   ],
   "source": [
    "sns.heatmap(db_medias.corr(),cmap='coolwarm',annot=True);"
   ]
  },
  {
   "cell_type": "markdown",
   "metadata": {},
   "source": [
    "### Quais as formas de pagamento mais utilizadas? Isto varia entre estados?"
   ]
  },
  {
   "cell_type": "code",
   "execution_count": 52,
   "metadata": {},
   "outputs": [],
   "source": [
    "pagamentos = db.payment_type.value_counts()"
   ]
  },
  {
   "cell_type": "code",
   "execution_count": 53,
   "metadata": {},
   "outputs": [
    {
     "data": {
      "image/png": "[encoded data removed]",
      "text/plain": [
       "<Figure size 432x288 with 1 Axes>"
      ]
     },
     "metadata": {
      "needs_background": "light"
     },
     "output_type": "display_data"
    }
   ],
   "source": [
    "plt.title('Métodos de pagamento utilizados')\n",
    "sns.countplot(x='payment_type',data=db);\n",
    "sns.despine()"
   ]
  },
  {
   "cell_type": "code",
   "execution_count": 54,
   "metadata": {},
   "outputs": [
    {
     "data": {
      "image/png": "[encoded data removed]",
      "text/plain": [
       "<Figure size 1080x360 with 1 Axes>"
      ]
     },
     "metadata": {
      "needs_background": "light"
     },
     "output_type": "display_data"
    }
   ],
   "source": [
    "#SEGREGAR POR ESTADOS\n",
    "plt.figure(figsize=(15,5))\n",
    "plt.title('Métodos de pagamento utilizados')\n",
    "sns.countplot(x='customer_state', hue='payment_type',data=db);\n",
    "sns.despine()"
   ]
  },
  {
   "cell_type": "code",
   "execution_count": 55,
   "metadata": {},
   "outputs": [
    {
     "data": {
      "image/png": "[encoded data removed]",
      "text/plain": [
       "<Figure size 1080x360 with 1 Axes>"
      ]
     },
     "metadata": {
      "needs_background": "light"
     },
     "output_type": "display_data"
    }
   ],
   "source": [
    "#SEM SP\n",
    "plt.figure(figsize=(15,5))\n",
    "plt.title('Métodos de pagamento utilizados')\n",
    "sns.countplot(x='customer_state', hue='payment_type',data=db_semSP);\n",
    "sns.despine()"
   ]
  },
  {
   "cell_type": "markdown",
   "metadata": {},
   "source": [
    "### Cartão de crédito é, com folga, o maior meio de pagamento. Vamos verificar, em média, quantas vezes os pagamentos são parcelados"
   ]
  },
  {
   "cell_type": "code",
   "execution_count": 56,
   "metadata": {},
   "outputs": [],
   "source": [
    "#media de parcelamento por estado\n",
    "\n",
    "parcela_media = []\n",
    "for estado in estados:\n",
    "    parcela_media.append(dic_estados[estado]['payment_installments'].sum() / dic_estados[estado]['order_id'].count())\n"
   ]
  },
  {
   "cell_type": "code",
   "execution_count": 57,
   "metadata": {},
   "outputs": [],
   "source": [
    "parcela_media.append(sum(parcela_media)/len(parcela_media))"
   ]
  },
  {
   "cell_type": "code",
   "execution_count": 58,
   "metadata": {},
   "outputs": [],
   "source": [
    "db_medias['parcelas_medias'] = parcela_media"
   ]
  },
  {
   "cell_type": "code",
   "execution_count": 59,
   "metadata": {},
   "outputs": [
    {
     "data": {
      "image/png": "[encoded data removed]",
      "text/plain": [
       "<Figure size 1080x360 with 1 Axes>"
      ]
     },
     "metadata": {
      "needs_background": "light"
     },
     "output_type": "display_data"
    }
   ],
   "source": [
    "plt.figure(figsize=(15,5))\n",
    "plt.title('Parcelamento médio por estado de 2016 a 2018')\n",
    "sns.barplot(x='estado',\n",
    "            y='parcelas_medias',\n",
    "            data=db_medias,\n",
    "            palette=db_medias[['estado','parcelas_medias','clrs']].sort_values(by='parcelas_medias',ascending=False)['clrs'],\n",
    "            order=db_medias[['estado','parcelas_medias']].sort_values(by='parcelas_medias',ascending=False)['estado'].values);\n",
    "sns.despine()"
   ]
  },
  {
   "cell_type": "code",
   "execution_count": 66,
   "metadata": {},
   "outputs": [
    {
     "data": {
      "image/png": "[encoded data removed]",
      "text/plain": [
       "<Figure size 432x288 with 2 Axes>"
      ]
     },
     "metadata": {
      "needs_background": "light"
     },
     "output_type": "display_data"
    }
   ],
   "source": [
    "sns.heatmap(db_medias.corr(), cmap='coolwarm',annot=True);"
   ]
  },
  {
   "cell_type": "code",
   "execution_count": 60,
   "metadata": {},
   "outputs": [],
   "source": [
    "#db_medias.parcelas_medias.sort_values(ascending=False).plot.bar(figsize=(15,5), colormap='rainbow', title= 'Parcelamento médio por estado de 2016 a 2018');"
   ]
  },
  {
   "cell_type": "markdown",
   "metadata": {},
   "source": [
    "### Analisando geolocalização dos pedidos"
   ]
  },
  {
   "cell_type": "code",
   "execution_count": 61,
   "metadata": {},
   "outputs": [],
   "source": [
    "# Gets the first three and four first digits of zip codes, we will explore this further to understand how zip codes works\n",
    "geo['geolocation_zip_code_prefix_1_digits'] = geo['geolocation_zip_code_prefix'].str[0:1]\n",
    "geo['geolocation_zip_code_prefix_2_digits'] = geo['geolocation_zip_code_prefix'].str[0:2]\n",
    "geo['geolocation_zip_code_prefix_3_digits'] = geo['geolocation_zip_code_prefix'].str[0:3]\n",
    "geo['geolocation_zip_code_prefix_4_digits'] = geo['geolocation_zip_code_prefix'].str[0:4]"
   ]
  },
  {
   "cell_type": "code",
   "execution_count": 62,
   "metadata": {},
   "outputs": [
    {
     "data": {
      "text/html": [
       "<div>\n",
       "<style scoped>\n",
       "    .dataframe tbody tr th:only-of-type {\n",
       "        vertical-align: middle;\n",
       "    }\n",
       "\n",
       "    .dataframe tbody tr th {\n",
       "        vertical-align: top;\n",
       "    }\n",
       "\n",
       "    .dataframe thead th {\n",
       "        text-align: right;\n",
       "    }\n",
       "</style>\n",
       "<table border=\"1\" class=\"dataframe\">\n",
       "  <thead>\n",
       "    <tr style=\"text-align: right;\">\n",
       "      <th></th>\n",
       "      <th>geolocation_zip_code_prefix</th>\n",
       "    </tr>\n",
       "  </thead>\n",
       "  <tbody>\n",
       "    <tr>\n",
       "      <th>count</th>\n",
       "      <td>1000163</td>\n",
       "    </tr>\n",
       "    <tr>\n",
       "      <th>unique</th>\n",
       "      <td>19015</td>\n",
       "    </tr>\n",
       "    <tr>\n",
       "      <th>top</th>\n",
       "      <td>24220</td>\n",
       "    </tr>\n",
       "    <tr>\n",
       "      <th>freq</th>\n",
       "      <td>1146</td>\n",
       "    </tr>\n",
       "  </tbody>\n",
       "</table>\n",
       "</div>"
      ],
      "text/plain": [
       "       geolocation_zip_code_prefix\n",
       "count                      1000163\n",
       "unique                       19015\n",
       "top                          24220\n",
       "freq                          1146"
      ]
     },
     "execution_count": 62,
     "metadata": {},
     "output_type": "execute_result"
    }
   ],
   "source": [
    "brazil = geo\n",
    "agg_name = 'geolocation_zip_code_prefix'\n",
    "brazil[agg_name].describe().to_frame()"
   ]
  },
  {
   "cell_type": "code",
   "execution_count": 63,
   "metadata": {},
   "outputs": [
    {
     "ename": "ModuleNotFoundError",
     "evalue": "No module named 'geoviews'",
     "output_type": "error",
     "traceback": [
      "\u001b[1;31m---------------------------------------------------------------------------\u001b[0m",
      "\u001b[1;31mModuleNotFoundError\u001b[0m                       Traceback (most recent call last)",
      "\u001b[1;32m<ipython-input-63-766328b84173>\u001b[0m in \u001b[0;36m<module>\u001b[1;34m\u001b[0m\n\u001b[0;32m      1\u001b[0m \u001b[1;31m# plot wtih holoviews + datashader - bokeh with map background\u001b[0m\u001b[1;33m\u001b[0m\u001b[1;33m\u001b[0m\u001b[1;33m\u001b[0m\u001b[0m\n\u001b[0;32m      2\u001b[0m \u001b[1;32mimport\u001b[0m \u001b[0mholoviews\u001b[0m \u001b[1;32mas\u001b[0m \u001b[0mhv\u001b[0m\u001b[1;33m\u001b[0m\u001b[1;33m\u001b[0m\u001b[0m\n\u001b[1;32m----> 3\u001b[1;33m \u001b[1;32mimport\u001b[0m \u001b[0mgeoviews\u001b[0m \u001b[1;32mas\u001b[0m \u001b[0mgv\u001b[0m\u001b[1;33m\u001b[0m\u001b[1;33m\u001b[0m\u001b[0m\n\u001b[0m\u001b[0;32m      4\u001b[0m \u001b[1;32mimport\u001b[0m \u001b[0mdatashader\u001b[0m \u001b[1;32mas\u001b[0m \u001b[0mds\u001b[0m\u001b[1;33m\u001b[0m\u001b[1;33m\u001b[0m\u001b[0m\n\u001b[0;32m      5\u001b[0m \u001b[1;32mfrom\u001b[0m \u001b[0mcolorcet\u001b[0m \u001b[1;32mimport\u001b[0m \u001b[0mfire\u001b[0m\u001b[1;33m,\u001b[0m \u001b[0mrainbow\u001b[0m\u001b[1;33m,\u001b[0m \u001b[0mbgy\u001b[0m\u001b[1;33m,\u001b[0m \u001b[0mbjy\u001b[0m\u001b[1;33m,\u001b[0m \u001b[0mbkr\u001b[0m\u001b[1;33m,\u001b[0m \u001b[0mkb\u001b[0m\u001b[1;33m,\u001b[0m \u001b[0mkr\u001b[0m\u001b[1;33m\u001b[0m\u001b[1;33m\u001b[0m\u001b[0m\n",
      "\u001b[1;31mModuleNotFoundError\u001b[0m: No module named 'geoviews'"
     ]
    }
   ],
   "source": [
    "# plot wtih holoviews + datashader - bokeh with map background\n",
    "import holoviews as hv\n",
    "import geoviews as gv\n",
    "import datashader as ds\n",
    "from colorcet import fire, rainbow, bgy, bjy, bkr, kb, kr\n",
    "from datashader.colors import colormap_select, Greys9\n",
    "from holoviews.streams import RangeXY\n",
    "from holoviews.operation.datashader import datashade, dynspread, rasterize\n",
    "from bokeh.io import push_notebook, show, output_notebook\n",
    "output_notebook()\n",
    "hv.extension('bokeh')\n",
    "\n",
    "%opts Overlay [width=800 height=600 toolbar='above' xaxis=None yaxis=None]\n",
    "%opts QuadMesh [tools=['hover'] colorbar=True] (alpha=0 hover_alpha=0.2)\n",
    "\n",
    "T = 0.05\n",
    "PX = 1\n",
    "\n",
    "def plot_map(data, label, agg_data, agg_name, cmap):\n",
    "    url=\"http://server.arcgisonline.com/ArcGIS/rest/services/Canvas/World_Dark_Gray_Base/MapServer/tile/{Z}/{Y}/{X}.png\"\n",
    "    geomap = gv.WMTS(url)\n",
    "    points = hv.Points(gv.Dataset(data, kdims=['x', 'y'], vdims=[agg_name]))\n",
    "    agg = datashade(points, element_type=gv.Image, aggregator=agg_data, cmap=cmap)\n",
    "    zip_codes = dynspread(agg, threshold=T, max_px=PX)\n",
    "    hover = hv.util.Dynamic(rasterize(points, aggregator=agg_data, width=50, height=25, streams=[RangeXY]), operation=hv.QuadMesh)\n",
    "    hover = hover.options(cmap=cmap)\n",
    "    img = geomap * zip_codes * hover\n",
    "    img = img.relabel(label)\n",
    "    return img"
   ]
  },
  {
   "cell_type": "code",
   "execution_count": null,
   "metadata": {},
   "outputs": [],
   "source": []
  }
 ],
 "metadata": {
  "kernelspec": {
   "display_name": "Python 3",
   "language": "python",
   "name": "python3"
  },
  "language_info": {
   "codemirror_mode": {
    "name": "ipython",
    "version": 3
   },
   "file_extension": ".py",
   "mimetype": "text/x-python",
   "name": "python",
   "nbconvert_exporter": "python",
   "pygments_lexer": "ipython3",
   "version": "3.7.3"
  }
 },
 "nbformat": 4,
 "nbformat_minor": 2
}
