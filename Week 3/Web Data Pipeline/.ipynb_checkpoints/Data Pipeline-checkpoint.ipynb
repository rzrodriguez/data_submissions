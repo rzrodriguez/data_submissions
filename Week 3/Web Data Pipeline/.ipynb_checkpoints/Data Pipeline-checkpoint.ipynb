{
 "cells": [
  {
   "cell_type": "code",
   "execution_count": 1,
   "metadata": {},
   "outputs": [],
   "source": [
    "#Lab Web Data Pipeline"
   ]
  },
  {
   "cell_type": "code",
   "execution_count": 2,
   "metadata": {},
   "outputs": [],
   "source": [
    "#Context\n",
    "#The Economic Freedom Index is poised to help readers track over two decades of the advancement in economic freedom, prosperity, and opportunity and promote these ideas in their homes, schools, and communities. The Index covers 12 freedoms – from property rights to financial freedom – in 186 countries."
   ]
  },
  {
   "cell_type": "code",
   "execution_count": 3,
   "metadata": {},
   "outputs": [],
   "source": [
    "#Import de blibliotecas necessarias\n",
    "import pandas as pd\n",
    "import matplotlib.pyplot as plt"
   ]
  },
  {
   "cell_type": "code",
   "execution_count": 4,
   "metadata": {},
   "outputs": [],
   "source": [
    "#import da base de dados\n",
    "ecof = pd.read_csv(\"economic_freedom_index2019_data.csv\", encoding='latin1')"
   ]
  },
  {
   "cell_type": "code",
   "execution_count": 5,
   "metadata": {},
   "outputs": [
    {
     "data": {
      "text/html": [
       "<div>\n",
       "<style scoped>\n",
       "    .dataframe tbody tr th:only-of-type {\n",
       "        vertical-align: middle;\n",
       "    }\n",
       "\n",
       "    .dataframe tbody tr th {\n",
       "        vertical-align: top;\n",
       "    }\n",
       "\n",
       "    .dataframe thead th {\n",
       "        text-align: right;\n",
       "    }\n",
       "</style>\n",
       "<table border=\"1\" class=\"dataframe\">\n",
       "  <thead>\n",
       "    <tr style=\"text-align: right;\">\n",
       "      <th></th>\n",
       "      <th>CountryID</th>\n",
       "      <th>Country Name</th>\n",
       "      <th>WEBNAME</th>\n",
       "      <th>Region</th>\n",
       "      <th>World Rank</th>\n",
       "      <th>Region Rank</th>\n",
       "      <th>2019 Score</th>\n",
       "      <th>Property Rights</th>\n",
       "      <th>Judical Effectiveness</th>\n",
       "      <th>Government Integrity</th>\n",
       "      <th>...</th>\n",
       "      <th>Country</th>\n",
       "      <th>Population (Millions)</th>\n",
       "      <th>GDP (Billions, PPP)</th>\n",
       "      <th>GDP Growth Rate (%)</th>\n",
       "      <th>5 Year GDP Growth Rate (%)</th>\n",
       "      <th>GDP per Capita (PPP)</th>\n",
       "      <th>Unemployment (%)</th>\n",
       "      <th>Inflation (%)</th>\n",
       "      <th>FDI Inflow (Millions)</th>\n",
       "      <th>Public Debt (% of GDP)</th>\n",
       "    </tr>\n",
       "  </thead>\n",
       "  <tbody>\n",
       "    <tr>\n",
       "      <th>0</th>\n",
       "      <td>1</td>\n",
       "      <td>Afghanistan</td>\n",
       "      <td>Afghanistan</td>\n",
       "      <td>Asia-Pacific</td>\n",
       "      <td>152.0</td>\n",
       "      <td>39.0</td>\n",
       "      <td>51.5</td>\n",
       "      <td>19.6</td>\n",
       "      <td>29.6</td>\n",
       "      <td>25.2</td>\n",
       "      <td>...</td>\n",
       "      <td>Afghanistan</td>\n",
       "      <td>35.5</td>\n",
       "      <td>$69.6</td>\n",
       "      <td>2.5</td>\n",
       "      <td>2.9</td>\n",
       "      <td>$1,958</td>\n",
       "      <td>8.8</td>\n",
       "      <td>5.0</td>\n",
       "      <td>53.9</td>\n",
       "      <td>7.3</td>\n",
       "    </tr>\n",
       "    <tr>\n",
       "      <th>1</th>\n",
       "      <td>2</td>\n",
       "      <td>Albania</td>\n",
       "      <td>Albania</td>\n",
       "      <td>Europe</td>\n",
       "      <td>52.0</td>\n",
       "      <td>27.0</td>\n",
       "      <td>66.5</td>\n",
       "      <td>54.8</td>\n",
       "      <td>30.6</td>\n",
       "      <td>40.4</td>\n",
       "      <td>...</td>\n",
       "      <td>Albania</td>\n",
       "      <td>2.9</td>\n",
       "      <td>$36.0</td>\n",
       "      <td>3.9</td>\n",
       "      <td>2.5</td>\n",
       "      <td>$12,507</td>\n",
       "      <td>13.9</td>\n",
       "      <td>2.0</td>\n",
       "      <td>1,119.1</td>\n",
       "      <td>71.2</td>\n",
       "    </tr>\n",
       "    <tr>\n",
       "      <th>2</th>\n",
       "      <td>3</td>\n",
       "      <td>Algeria</td>\n",
       "      <td>Algeria</td>\n",
       "      <td>Middle East and North Africa</td>\n",
       "      <td>171.0</td>\n",
       "      <td>14.0</td>\n",
       "      <td>46.2</td>\n",
       "      <td>31.6</td>\n",
       "      <td>36.2</td>\n",
       "      <td>28.9</td>\n",
       "      <td>...</td>\n",
       "      <td>Algeria</td>\n",
       "      <td>41.5</td>\n",
       "      <td>$632.9</td>\n",
       "      <td>2.0</td>\n",
       "      <td>3.1</td>\n",
       "      <td>$15,237</td>\n",
       "      <td>10.0</td>\n",
       "      <td>5.6</td>\n",
       "      <td>1,203.0</td>\n",
       "      <td>25.8</td>\n",
       "    </tr>\n",
       "    <tr>\n",
       "      <th>3</th>\n",
       "      <td>4</td>\n",
       "      <td>Angola</td>\n",
       "      <td>Angola</td>\n",
       "      <td>Sub-Saharan Africa</td>\n",
       "      <td>156.0</td>\n",
       "      <td>33.0</td>\n",
       "      <td>50.6</td>\n",
       "      <td>35.9</td>\n",
       "      <td>26.6</td>\n",
       "      <td>20.5</td>\n",
       "      <td>...</td>\n",
       "      <td>Angola</td>\n",
       "      <td>28.2</td>\n",
       "      <td>$190.3</td>\n",
       "      <td>0.7</td>\n",
       "      <td>2.9</td>\n",
       "      <td>$6,753</td>\n",
       "      <td>8.2</td>\n",
       "      <td>31.7</td>\n",
       "      <td>-2,254.5</td>\n",
       "      <td>65.3</td>\n",
       "    </tr>\n",
       "    <tr>\n",
       "      <th>4</th>\n",
       "      <td>5</td>\n",
       "      <td>Argentina</td>\n",
       "      <td>Argentina</td>\n",
       "      <td>Americas</td>\n",
       "      <td>148.0</td>\n",
       "      <td>26.0</td>\n",
       "      <td>52.2</td>\n",
       "      <td>47.8</td>\n",
       "      <td>44.5</td>\n",
       "      <td>33.5</td>\n",
       "      <td>...</td>\n",
       "      <td>Argentina</td>\n",
       "      <td>44.1</td>\n",
       "      <td>$920.2</td>\n",
       "      <td>2.9</td>\n",
       "      <td>0.7</td>\n",
       "      <td>$20,876</td>\n",
       "      <td>8.7</td>\n",
       "      <td>25.7</td>\n",
       "      <td>11,857.0</td>\n",
       "      <td>52.6</td>\n",
       "    </tr>\n",
       "  </tbody>\n",
       "</table>\n",
       "<p>5 rows × 34 columns</p>\n",
       "</div>"
      ],
      "text/plain": [
       "   CountryID Country Name      WEBNAME                        Region  \\\n",
       "0          1  Afghanistan  Afghanistan                  Asia-Pacific   \n",
       "1          2      Albania      Albania                        Europe   \n",
       "2          3      Algeria      Algeria  Middle East and North Africa   \n",
       "3          4       Angola       Angola            Sub-Saharan Africa   \n",
       "4          5    Argentina    Argentina                      Americas   \n",
       "\n",
       "   World Rank  Region Rank  2019 Score  Property Rights  \\\n",
       "0       152.0         39.0        51.5             19.6   \n",
       "1        52.0         27.0        66.5             54.8   \n",
       "2       171.0         14.0        46.2             31.6   \n",
       "3       156.0         33.0        50.6             35.9   \n",
       "4       148.0         26.0        52.2             47.8   \n",
       "\n",
       "   Judical Effectiveness  Government Integrity  ...      Country  \\\n",
       "0                   29.6                  25.2  ...  Afghanistan   \n",
       "1                   30.6                  40.4  ...      Albania   \n",
       "2                   36.2                  28.9  ...      Algeria   \n",
       "3                   26.6                  20.5  ...       Angola   \n",
       "4                   44.5                  33.5  ...    Argentina   \n",
       "\n",
       "   Population (Millions)  GDP (Billions, PPP)  GDP Growth Rate (%)  \\\n",
       "0                   35.5               $69.6                   2.5   \n",
       "1                    2.9               $36.0                   3.9   \n",
       "2                   41.5              $632.9                   2.0   \n",
       "3                   28.2              $190.3                   0.7   \n",
       "4                   44.1              $920.2                   2.9   \n",
       "\n",
       "   5 Year GDP Growth Rate (%)  GDP per Capita (PPP)  Unemployment (%)  \\\n",
       "0                         2.9                $1,958               8.8   \n",
       "1                         2.5               $12,507              13.9   \n",
       "2                         3.1               $15,237              10.0   \n",
       "3                         2.9                $6,753               8.2   \n",
       "4                         0.7               $20,876               8.7   \n",
       "\n",
       "   Inflation (%)  FDI Inflow (Millions)  Public Debt (% of GDP)  \n",
       "0            5.0                   53.9                     7.3  \n",
       "1            2.0                1,119.1                    71.2  \n",
       "2            5.6                1,203.0                    25.8  \n",
       "3           31.7               -2,254.5                    65.3  \n",
       "4           25.7               11,857.0                    52.6  \n",
       "\n",
       "[5 rows x 34 columns]"
      ]
     },
     "execution_count": 5,
     "metadata": {},
     "output_type": "execute_result"
    }
   ],
   "source": [
    "#visualizando base de dados\n",
    "ecof.head()"
   ]
  },
  {
   "cell_type": "code",
   "execution_count": 6,
   "metadata": {},
   "outputs": [
    {
     "data": {
      "text/html": [
       "<div>\n",
       "<style scoped>\n",
       "    .dataframe tbody tr th:only-of-type {\n",
       "        vertical-align: middle;\n",
       "    }\n",
       "\n",
       "    .dataframe tbody tr th {\n",
       "        vertical-align: top;\n",
       "    }\n",
       "\n",
       "    .dataframe thead th {\n",
       "        text-align: right;\n",
       "    }\n",
       "</style>\n",
       "<table border=\"1\" class=\"dataframe\">\n",
       "  <thead>\n",
       "    <tr style=\"text-align: right;\">\n",
       "      <th></th>\n",
       "      <th>CountryID</th>\n",
       "      <th>Country Name</th>\n",
       "      <th>WEBNAME</th>\n",
       "      <th>Region</th>\n",
       "      <th>World Rank</th>\n",
       "      <th>Region Rank</th>\n",
       "      <th>2019 Score</th>\n",
       "      <th>Property Rights</th>\n",
       "      <th>Judical Effectiveness</th>\n",
       "      <th>Government Integrity</th>\n",
       "      <th>...</th>\n",
       "      <th>Country</th>\n",
       "      <th>Population (Millions)</th>\n",
       "      <th>GDP (Billions, PPP)</th>\n",
       "      <th>GDP Growth Rate (%)</th>\n",
       "      <th>5 Year GDP Growth Rate (%)</th>\n",
       "      <th>GDP per Capita (PPP)</th>\n",
       "      <th>Unemployment (%)</th>\n",
       "      <th>Inflation (%)</th>\n",
       "      <th>FDI Inflow (Millions)</th>\n",
       "      <th>Public Debt (% of GDP)</th>\n",
       "    </tr>\n",
       "  </thead>\n",
       "  <tbody>\n",
       "    <tr>\n",
       "      <th>181</th>\n",
       "      <td>179</td>\n",
       "      <td>Venezuela</td>\n",
       "      <td>Venezuela</td>\n",
       "      <td>Americas</td>\n",
       "      <td>179.0</td>\n",
       "      <td>32.0</td>\n",
       "      <td>25.9</td>\n",
       "      <td>7.6</td>\n",
       "      <td>13.1</td>\n",
       "      <td>7.9</td>\n",
       "      <td>...</td>\n",
       "      <td>Venezuela</td>\n",
       "      <td>31.4</td>\n",
       "      <td>$380.7</td>\n",
       "      <td>-14.0</td>\n",
       "      <td>-7.8</td>\n",
       "      <td>$12,114</td>\n",
       "      <td>7.7</td>\n",
       "      <td>1087.5</td>\n",
       "      <td>-68.0</td>\n",
       "      <td>34.9</td>\n",
       "    </tr>\n",
       "    <tr>\n",
       "      <th>182</th>\n",
       "      <td>180</td>\n",
       "      <td>Vietnam</td>\n",
       "      <td>Vietnam</td>\n",
       "      <td>Asia-Pacific</td>\n",
       "      <td>128.0</td>\n",
       "      <td>30.0</td>\n",
       "      <td>55.3</td>\n",
       "      <td>49.8</td>\n",
       "      <td>40.3</td>\n",
       "      <td>34.0</td>\n",
       "      <td>...</td>\n",
       "      <td>Vietnam</td>\n",
       "      <td>93.6</td>\n",
       "      <td>$647.4</td>\n",
       "      <td>6.8</td>\n",
       "      <td>6.2</td>\n",
       "      <td>$6,913</td>\n",
       "      <td>2.1</td>\n",
       "      <td>3.5</td>\n",
       "      <td>14,100.0</td>\n",
       "      <td>58.2</td>\n",
       "    </tr>\n",
       "    <tr>\n",
       "      <th>183</th>\n",
       "      <td>181</td>\n",
       "      <td>Yemen</td>\n",
       "      <td>Yemen</td>\n",
       "      <td>Middle East and North Africa</td>\n",
       "      <td>NaN</td>\n",
       "      <td>NaN</td>\n",
       "      <td>NaN</td>\n",
       "      <td>19.6</td>\n",
       "      <td>22.2</td>\n",
       "      <td>20.3</td>\n",
       "      <td>...</td>\n",
       "      <td>Yemen</td>\n",
       "      <td>30.0</td>\n",
       "      <td>$38.6</td>\n",
       "      <td>-13.8</td>\n",
       "      <td>-16.1</td>\n",
       "      <td>$1,287</td>\n",
       "      <td>14.0</td>\n",
       "      <td>4.9</td>\n",
       "      <td>-269.9</td>\n",
       "      <td>141.0</td>\n",
       "    </tr>\n",
       "    <tr>\n",
       "      <th>184</th>\n",
       "      <td>182</td>\n",
       "      <td>Zambia</td>\n",
       "      <td>Zambia</td>\n",
       "      <td>Sub-Saharan Africa</td>\n",
       "      <td>138.0</td>\n",
       "      <td>27.0</td>\n",
       "      <td>53.6</td>\n",
       "      <td>45.0</td>\n",
       "      <td>35.6</td>\n",
       "      <td>32.3</td>\n",
       "      <td>...</td>\n",
       "      <td>Zambia</td>\n",
       "      <td>17.2</td>\n",
       "      <td>$68.9</td>\n",
       "      <td>3.6</td>\n",
       "      <td>4.0</td>\n",
       "      <td>$3,996</td>\n",
       "      <td>7.8</td>\n",
       "      <td>6.6</td>\n",
       "      <td>1,091.2</td>\n",
       "      <td>62.2</td>\n",
       "    </tr>\n",
       "    <tr>\n",
       "      <th>185</th>\n",
       "      <td>183</td>\n",
       "      <td>Zimbabwe</td>\n",
       "      <td>Zimbabwe</td>\n",
       "      <td>Sub-Saharan Africa</td>\n",
       "      <td>175.0</td>\n",
       "      <td>45.0</td>\n",
       "      <td>40.4</td>\n",
       "      <td>29.7</td>\n",
       "      <td>24.8</td>\n",
       "      <td>15.8</td>\n",
       "      <td>...</td>\n",
       "      <td>Zimbabwe</td>\n",
       "      <td>14.9</td>\n",
       "      <td>$34.0</td>\n",
       "      <td>3.0</td>\n",
       "      <td>2.6</td>\n",
       "      <td>$2,283</td>\n",
       "      <td>5.0</td>\n",
       "      <td>1.3</td>\n",
       "      <td>289.4</td>\n",
       "      <td>78.4</td>\n",
       "    </tr>\n",
       "  </tbody>\n",
       "</table>\n",
       "<p>5 rows × 34 columns</p>\n",
       "</div>"
      ],
      "text/plain": [
       "     CountryID Country Name    WEBNAME                        Region  \\\n",
       "181        179    Venezuela  Venezuela                      Americas   \n",
       "182        180      Vietnam    Vietnam                  Asia-Pacific   \n",
       "183        181        Yemen      Yemen  Middle East and North Africa   \n",
       "184        182       Zambia     Zambia            Sub-Saharan Africa   \n",
       "185        183     Zimbabwe   Zimbabwe            Sub-Saharan Africa   \n",
       "\n",
       "     World Rank  Region Rank  2019 Score  Property Rights  \\\n",
       "181       179.0         32.0        25.9              7.6   \n",
       "182       128.0         30.0        55.3             49.8   \n",
       "183         NaN          NaN         NaN             19.6   \n",
       "184       138.0         27.0        53.6             45.0   \n",
       "185       175.0         45.0        40.4             29.7   \n",
       "\n",
       "     Judical Effectiveness  Government Integrity  ...    Country  \\\n",
       "181                   13.1                   7.9  ...  Venezuela   \n",
       "182                   40.3                  34.0  ...    Vietnam   \n",
       "183                   22.2                  20.3  ...      Yemen   \n",
       "184                   35.6                  32.3  ...     Zambia   \n",
       "185                   24.8                  15.8  ...   Zimbabwe   \n",
       "\n",
       "     Population (Millions)  GDP (Billions, PPP)  GDP Growth Rate (%)  \\\n",
       "181                   31.4              $380.7                 -14.0   \n",
       "182                   93.6              $647.4                   6.8   \n",
       "183                   30.0               $38.6                 -13.8   \n",
       "184                   17.2               $68.9                   3.6   \n",
       "185                   14.9               $34.0                   3.0   \n",
       "\n",
       "     5 Year GDP Growth Rate (%)  GDP per Capita (PPP)  Unemployment (%)  \\\n",
       "181                        -7.8               $12,114               7.7   \n",
       "182                         6.2                $6,913               2.1   \n",
       "183                       -16.1                $1,287              14.0   \n",
       "184                         4.0                $3,996               7.8   \n",
       "185                         2.6                $2,283               5.0   \n",
       "\n",
       "     Inflation (%)  FDI Inflow (Millions)  Public Debt (% of GDP)  \n",
       "181         1087.5                  -68.0                    34.9  \n",
       "182            3.5               14,100.0                    58.2  \n",
       "183            4.9                 -269.9                   141.0  \n",
       "184            6.6                1,091.2                    62.2  \n",
       "185            1.3                  289.4                    78.4  \n",
       "\n",
       "[5 rows x 34 columns]"
      ]
     },
     "execution_count": 6,
     "metadata": {},
     "output_type": "execute_result"
    }
   ],
   "source": [
    "ecof.tail()"
   ]
  },
  {
   "cell_type": "code",
   "execution_count": 7,
   "metadata": {},
   "outputs": [
    {
     "data": {
      "text/plain": [
       "(186, 34)"
      ]
     },
     "execution_count": 7,
     "metadata": {},
     "output_type": "execute_result"
    }
   ],
   "source": [
    "ecof.shape"
   ]
  },
  {
   "cell_type": "code",
   "execution_count": 8,
   "metadata": {},
   "outputs": [
    {
     "data": {
      "text/html": [
       "<div>\n",
       "<style scoped>\n",
       "    .dataframe tbody tr th:only-of-type {\n",
       "        vertical-align: middle;\n",
       "    }\n",
       "\n",
       "    .dataframe tbody tr th {\n",
       "        vertical-align: top;\n",
       "    }\n",
       "\n",
       "    .dataframe thead th {\n",
       "        text-align: right;\n",
       "    }\n",
       "</style>\n",
       "<table border=\"1\" class=\"dataframe\">\n",
       "  <thead>\n",
       "    <tr style=\"text-align: right;\">\n",
       "      <th></th>\n",
       "      <th>count</th>\n",
       "      <th>mean</th>\n",
       "      <th>std</th>\n",
       "      <th>min</th>\n",
       "      <th>25%</th>\n",
       "      <th>50%</th>\n",
       "      <th>75%</th>\n",
       "      <th>max</th>\n",
       "    </tr>\n",
       "  </thead>\n",
       "  <tbody>\n",
       "    <tr>\n",
       "      <th>CountryID</th>\n",
       "      <td>186.0</td>\n",
       "      <td>93.500000</td>\n",
       "      <td>53.837719</td>\n",
       "      <td>1.0</td>\n",
       "      <td>47.250</td>\n",
       "      <td>93.50</td>\n",
       "      <td>139.750</td>\n",
       "      <td>186.0</td>\n",
       "    </tr>\n",
       "    <tr>\n",
       "      <th>World Rank</th>\n",
       "      <td>180.0</td>\n",
       "      <td>90.500000</td>\n",
       "      <td>52.105662</td>\n",
       "      <td>1.0</td>\n",
       "      <td>45.750</td>\n",
       "      <td>90.50</td>\n",
       "      <td>135.250</td>\n",
       "      <td>180.0</td>\n",
       "    </tr>\n",
       "    <tr>\n",
       "      <th>Region Rank</th>\n",
       "      <td>180.0</td>\n",
       "      <td>20.538889</td>\n",
       "      <td>12.738611</td>\n",
       "      <td>1.0</td>\n",
       "      <td>9.750</td>\n",
       "      <td>19.50</td>\n",
       "      <td>31.000</td>\n",
       "      <td>47.0</td>\n",
       "    </tr>\n",
       "    <tr>\n",
       "      <th>2019 Score</th>\n",
       "      <td>180.0</td>\n",
       "      <td>60.768333</td>\n",
       "      <td>11.255725</td>\n",
       "      <td>5.9</td>\n",
       "      <td>53.950</td>\n",
       "      <td>60.75</td>\n",
       "      <td>67.800</td>\n",
       "      <td>90.2</td>\n",
       "    </tr>\n",
       "    <tr>\n",
       "      <th>Property Rights</th>\n",
       "      <td>185.0</td>\n",
       "      <td>52.327568</td>\n",
       "      <td>19.608526</td>\n",
       "      <td>7.6</td>\n",
       "      <td>37.000</td>\n",
       "      <td>50.10</td>\n",
       "      <td>65.900</td>\n",
       "      <td>97.4</td>\n",
       "    </tr>\n",
       "    <tr>\n",
       "      <th>Judical Effectiveness</th>\n",
       "      <td>185.0</td>\n",
       "      <td>44.899459</td>\n",
       "      <td>18.104745</td>\n",
       "      <td>5.0</td>\n",
       "      <td>31.000</td>\n",
       "      <td>42.90</td>\n",
       "      <td>54.700</td>\n",
       "      <td>92.4</td>\n",
       "    </tr>\n",
       "    <tr>\n",
       "      <th>Government Integrity</th>\n",
       "      <td>185.0</td>\n",
       "      <td>41.470270</td>\n",
       "      <td>19.793193</td>\n",
       "      <td>7.9</td>\n",
       "      <td>27.200</td>\n",
       "      <td>35.50</td>\n",
       "      <td>50.300</td>\n",
       "      <td>96.7</td>\n",
       "    </tr>\n",
       "    <tr>\n",
       "      <th>Tax Burden</th>\n",
       "      <td>180.0</td>\n",
       "      <td>77.212778</td>\n",
       "      <td>13.208314</td>\n",
       "      <td>0.0</td>\n",
       "      <td>70.975</td>\n",
       "      <td>78.05</td>\n",
       "      <td>85.425</td>\n",
       "      <td>99.8</td>\n",
       "    </tr>\n",
       "    <tr>\n",
       "      <th>Gov't Spending</th>\n",
       "      <td>183.0</td>\n",
       "      <td>64.203825</td>\n",
       "      <td>23.150984</td>\n",
       "      <td>0.0</td>\n",
       "      <td>51.700</td>\n",
       "      <td>68.80</td>\n",
       "      <td>82.600</td>\n",
       "      <td>96.6</td>\n",
       "    </tr>\n",
       "    <tr>\n",
       "      <th>Fiscal Health</th>\n",
       "      <td>183.0</td>\n",
       "      <td>65.996721</td>\n",
       "      <td>31.764160</td>\n",
       "      <td>0.0</td>\n",
       "      <td>39.900</td>\n",
       "      <td>80.30</td>\n",
       "      <td>91.450</td>\n",
       "      <td>100.0</td>\n",
       "    </tr>\n",
       "    <tr>\n",
       "      <th>Business Freedom</th>\n",
       "      <td>185.0</td>\n",
       "      <td>63.514054</td>\n",
       "      <td>15.799326</td>\n",
       "      <td>5.0</td>\n",
       "      <td>54.100</td>\n",
       "      <td>64.30</td>\n",
       "      <td>75.000</td>\n",
       "      <td>96.4</td>\n",
       "    </tr>\n",
       "    <tr>\n",
       "      <th>Labor Freedom</th>\n",
       "      <td>184.0</td>\n",
       "      <td>59.442391</td>\n",
       "      <td>14.355747</td>\n",
       "      <td>5.0</td>\n",
       "      <td>50.700</td>\n",
       "      <td>59.90</td>\n",
       "      <td>68.475</td>\n",
       "      <td>91.0</td>\n",
       "    </tr>\n",
       "    <tr>\n",
       "      <th>Monetary Freedom</th>\n",
       "      <td>184.0</td>\n",
       "      <td>75.073913</td>\n",
       "      <td>11.224099</td>\n",
       "      <td>0.0</td>\n",
       "      <td>71.650</td>\n",
       "      <td>77.80</td>\n",
       "      <td>81.725</td>\n",
       "      <td>88.0</td>\n",
       "    </tr>\n",
       "    <tr>\n",
       "      <th>Trade Freedom</th>\n",
       "      <td>182.0</td>\n",
       "      <td>74.260989</td>\n",
       "      <td>12.261766</td>\n",
       "      <td>0.0</td>\n",
       "      <td>66.650</td>\n",
       "      <td>76.10</td>\n",
       "      <td>84.300</td>\n",
       "      <td>95.0</td>\n",
       "    </tr>\n",
       "    <tr>\n",
       "      <th>Investment Freedom</th>\n",
       "      <td>184.0</td>\n",
       "      <td>57.255435</td>\n",
       "      <td>22.572167</td>\n",
       "      <td>0.0</td>\n",
       "      <td>45.000</td>\n",
       "      <td>60.00</td>\n",
       "      <td>75.000</td>\n",
       "      <td>95.0</td>\n",
       "    </tr>\n",
       "    <tr>\n",
       "      <th>Financial Freedom</th>\n",
       "      <td>181.0</td>\n",
       "      <td>48.784530</td>\n",
       "      <td>19.483982</td>\n",
       "      <td>0.0</td>\n",
       "      <td>30.000</td>\n",
       "      <td>50.00</td>\n",
       "      <td>60.000</td>\n",
       "      <td>90.0</td>\n",
       "    </tr>\n",
       "    <tr>\n",
       "      <th>Tariff Rate (%)</th>\n",
       "      <td>182.0</td>\n",
       "      <td>5.986813</td>\n",
       "      <td>5.533568</td>\n",
       "      <td>0.0</td>\n",
       "      <td>2.000</td>\n",
       "      <td>4.30</td>\n",
       "      <td>8.775</td>\n",
       "      <td>50.0</td>\n",
       "    </tr>\n",
       "    <tr>\n",
       "      <th>Income Tax Rate (%)</th>\n",
       "      <td>183.0</td>\n",
       "      <td>28.183060</td>\n",
       "      <td>13.374339</td>\n",
       "      <td>0.0</td>\n",
       "      <td>20.000</td>\n",
       "      <td>30.00</td>\n",
       "      <td>35.000</td>\n",
       "      <td>60.0</td>\n",
       "    </tr>\n",
       "    <tr>\n",
       "      <th>Corporate Tax Rate (%)</th>\n",
       "      <td>183.0</td>\n",
       "      <td>23.891257</td>\n",
       "      <td>8.858207</td>\n",
       "      <td>0.0</td>\n",
       "      <td>20.000</td>\n",
       "      <td>25.00</td>\n",
       "      <td>30.000</td>\n",
       "      <td>50.0</td>\n",
       "    </tr>\n",
       "    <tr>\n",
       "      <th>Tax Burden % of GDP</th>\n",
       "      <td>179.0</td>\n",
       "      <td>22.157542</td>\n",
       "      <td>10.152671</td>\n",
       "      <td>1.6</td>\n",
       "      <td>14.250</td>\n",
       "      <td>20.70</td>\n",
       "      <td>29.850</td>\n",
       "      <td>47.0</td>\n",
       "    </tr>\n",
       "    <tr>\n",
       "      <th>Gov't Expenditure % of GDP</th>\n",
       "      <td>182.0</td>\n",
       "      <td>33.863736</td>\n",
       "      <td>15.476484</td>\n",
       "      <td>10.6</td>\n",
       "      <td>24.675</td>\n",
       "      <td>32.35</td>\n",
       "      <td>40.225</td>\n",
       "      <td>139.2</td>\n",
       "    </tr>\n",
       "    <tr>\n",
       "      <th>GDP Growth Rate (%)</th>\n",
       "      <td>184.0</td>\n",
       "      <td>3.470109</td>\n",
       "      <td>5.835732</td>\n",
       "      <td>-14.0</td>\n",
       "      <td>1.800</td>\n",
       "      <td>3.20</td>\n",
       "      <td>4.650</td>\n",
       "      <td>70.8</td>\n",
       "    </tr>\n",
       "    <tr>\n",
       "      <th>5 Year GDP Growth Rate (%)</th>\n",
       "      <td>183.0</td>\n",
       "      <td>2.984153</td>\n",
       "      <td>2.926503</td>\n",
       "      <td>-16.1</td>\n",
       "      <td>1.900</td>\n",
       "      <td>3.00</td>\n",
       "      <td>4.450</td>\n",
       "      <td>9.9</td>\n",
       "    </tr>\n",
       "    <tr>\n",
       "      <th>Inflation (%)</th>\n",
       "      <td>182.0</td>\n",
       "      <td>10.586264</td>\n",
       "      <td>80.507501</td>\n",
       "      <td>-0.9</td>\n",
       "      <td>1.300</td>\n",
       "      <td>2.75</td>\n",
       "      <td>5.450</td>\n",
       "      <td>1087.5</td>\n",
       "    </tr>\n",
       "    <tr>\n",
       "      <th>Public Debt (% of GDP)</th>\n",
       "      <td>182.0</td>\n",
       "      <td>56.469231</td>\n",
       "      <td>34.163855</td>\n",
       "      <td>0.0</td>\n",
       "      <td>34.950</td>\n",
       "      <td>49.90</td>\n",
       "      <td>70.125</td>\n",
       "      <td>236.4</td>\n",
       "    </tr>\n",
       "  </tbody>\n",
       "</table>\n",
       "</div>"
      ],
      "text/plain": [
       "                             count       mean        std   min     25%    50%  \\\n",
       "CountryID                    186.0  93.500000  53.837719   1.0  47.250  93.50   \n",
       "World Rank                   180.0  90.500000  52.105662   1.0  45.750  90.50   \n",
       "Region Rank                  180.0  20.538889  12.738611   1.0   9.750  19.50   \n",
       "2019 Score                   180.0  60.768333  11.255725   5.9  53.950  60.75   \n",
       "Property Rights              185.0  52.327568  19.608526   7.6  37.000  50.10   \n",
       "Judical Effectiveness        185.0  44.899459  18.104745   5.0  31.000  42.90   \n",
       "Government Integrity         185.0  41.470270  19.793193   7.9  27.200  35.50   \n",
       "Tax Burden                   180.0  77.212778  13.208314   0.0  70.975  78.05   \n",
       "Gov't Spending               183.0  64.203825  23.150984   0.0  51.700  68.80   \n",
       "Fiscal Health                183.0  65.996721  31.764160   0.0  39.900  80.30   \n",
       "Business Freedom             185.0  63.514054  15.799326   5.0  54.100  64.30   \n",
       "Labor Freedom                184.0  59.442391  14.355747   5.0  50.700  59.90   \n",
       "Monetary Freedom             184.0  75.073913  11.224099   0.0  71.650  77.80   \n",
       "Trade Freedom                182.0  74.260989  12.261766   0.0  66.650  76.10   \n",
       "Investment Freedom           184.0  57.255435  22.572167   0.0  45.000  60.00   \n",
       "Financial Freedom            181.0  48.784530  19.483982   0.0  30.000  50.00   \n",
       "Tariff Rate (%)              182.0   5.986813   5.533568   0.0   2.000   4.30   \n",
       "Income Tax Rate (%)          183.0  28.183060  13.374339   0.0  20.000  30.00   \n",
       "Corporate Tax Rate (%)       183.0  23.891257   8.858207   0.0  20.000  25.00   \n",
       "Tax Burden % of GDP          179.0  22.157542  10.152671   1.6  14.250  20.70   \n",
       "Gov't Expenditure % of GDP   182.0  33.863736  15.476484  10.6  24.675  32.35   \n",
       "GDP Growth Rate (%)          184.0   3.470109   5.835732 -14.0   1.800   3.20   \n",
       "5 Year GDP Growth Rate (%)   183.0   2.984153   2.926503 -16.1   1.900   3.00   \n",
       "Inflation (%)                182.0  10.586264  80.507501  -0.9   1.300   2.75   \n",
       "Public Debt (% of GDP)       182.0  56.469231  34.163855   0.0  34.950  49.90   \n",
       "\n",
       "                                 75%     max  \n",
       "CountryID                    139.750   186.0  \n",
       "World Rank                   135.250   180.0  \n",
       "Region Rank                   31.000    47.0  \n",
       "2019 Score                    67.800    90.2  \n",
       "Property Rights               65.900    97.4  \n",
       "Judical Effectiveness         54.700    92.4  \n",
       "Government Integrity          50.300    96.7  \n",
       "Tax Burden                    85.425    99.8  \n",
       "Gov't Spending                82.600    96.6  \n",
       "Fiscal Health                 91.450   100.0  \n",
       "Business Freedom              75.000    96.4  \n",
       "Labor Freedom                 68.475    91.0  \n",
       "Monetary Freedom              81.725    88.0  \n",
       "Trade Freedom                 84.300    95.0  \n",
       "Investment Freedom            75.000    95.0  \n",
       "Financial Freedom             60.000    90.0  \n",
       "Tariff Rate (%)                8.775    50.0  \n",
       "Income Tax Rate (%)           35.000    60.0  \n",
       "Corporate Tax Rate (%)        30.000    50.0  \n",
       "Tax Burden % of GDP           29.850    47.0  \n",
       "Gov't Expenditure % of GDP    40.225   139.2  \n",
       "GDP Growth Rate (%)            4.650    70.8  \n",
       "5 Year GDP Growth Rate (%)     4.450     9.9  \n",
       "Inflation (%)                  5.450  1087.5  \n",
       "Public Debt (% of GDP)        70.125   236.4  "
      ]
     },
     "execution_count": 8,
     "metadata": {},
     "output_type": "execute_result"
    }
   ],
   "source": [
    "#analisando carateristicas gerais dos dados\n",
    "ecof.describe().transpose()"
   ]
  },
  {
   "cell_type": "code",
   "execution_count": 9,
   "metadata": {},
   "outputs": [
    {
     "data": {
      "text/plain": [
       "False    180\n",
       "True       6\n",
       "Name: World Rank, dtype: int64"
      ]
     },
     "execution_count": 9,
     "metadata": {},
     "output_type": "execute_result"
    }
   ],
   "source": [
    "#como a analise se baseia no ranking de Economic Freedom, vou checar se alguma linha (pais) possui dado nulo nesta coluna\n",
    "ecof['World Rank'].isnull().value_counts()"
   ]
  },
  {
   "cell_type": "code",
   "execution_count": 10,
   "metadata": {},
   "outputs": [
    {
     "data": {
      "text/plain": [
       "78              Iraq\n",
       "98             Libya\n",
       "99     Liechtenstein\n",
       "153          Somalia\n",
       "161            Syria\n",
       "183            Yemen\n",
       "Name: Country Name, dtype: object"
      ]
     },
     "execution_count": 10,
     "metadata": {},
     "output_type": "execute_result"
    }
   ],
   "source": [
    "#6 linhas (paises) possuem raking nulo, listando esses paises\n",
    "ecof[ecof['World Rank'].isnull() == True]['Country Name']"
   ]
  },
  {
   "cell_type": "code",
   "execution_count": 11,
   "metadata": {},
   "outputs": [],
   "source": [
    "#dropando os paises listados a cima\n",
    "ecof.dropna(axis=0, subset=['World Rank'], inplace=True)"
   ]
  },
  {
   "cell_type": "code",
   "execution_count": 12,
   "metadata": {},
   "outputs": [
    {
     "data": {
      "text/plain": [
       "(180, 34)"
      ]
     },
     "execution_count": 12,
     "metadata": {},
     "output_type": "execute_result"
    }
   ],
   "source": [
    "ecof.shape"
   ]
  },
  {
   "cell_type": "code",
   "execution_count": 13,
   "metadata": {},
   "outputs": [
    {
     "data": {
      "text/plain": [
       "Index(['CountryID', 'Country Name', 'WEBNAME', 'Region', 'World Rank',\n",
       "       'Region Rank', '2019 Score', 'Property Rights', 'Judical Effectiveness',\n",
       "       'Government Integrity', 'Tax Burden', 'Gov't Spending', 'Fiscal Health',\n",
       "       'Business Freedom', 'Labor Freedom', 'Monetary Freedom',\n",
       "       'Trade Freedom', 'Investment Freedom ', 'Financial Freedom',\n",
       "       'Tariff Rate (%)', 'Income Tax Rate (%)', 'Corporate Tax Rate (%)',\n",
       "       'Tax Burden % of GDP', 'Gov't Expenditure % of GDP ', 'Country',\n",
       "       'Population (Millions)', 'GDP (Billions, PPP)', 'GDP Growth Rate (%)',\n",
       "       '5 Year GDP Growth Rate (%)', 'GDP per Capita (PPP)',\n",
       "       'Unemployment (%)', 'Inflation (%)', 'FDI Inflow (Millions)',\n",
       "       'Public Debt (% of GDP)'],\n",
       "      dtype='object')"
      ]
     },
     "execution_count": 13,
     "metadata": {},
     "output_type": "execute_result"
    }
   ],
   "source": [
    "#listando todas as colunas\n",
    "ecof.columns"
   ]
  },
  {
   "cell_type": "code",
   "execution_count": 14,
   "metadata": {},
   "outputs": [],
   "source": [
    "#dropando colunas desnecessarias para a analise\n",
    "cols_drop = ['CountryID', 'WEBNAME', 'Country']\n",
    "ecof.drop(cols_drop, axis=1, inplace=True)"
   ]
  },
  {
   "cell_type": "code",
   "execution_count": 15,
   "metadata": {},
   "outputs": [],
   "source": [
    "#ordenando as linhas de acordo com o ranking de liberdade economica\n",
    "ecof.sort_values('World Rank', ascending=True, inplace=True)"
   ]
  },
  {
   "cell_type": "code",
   "execution_count": 81,
   "metadata": {},
   "outputs": [
    {
     "data": {
      "text/html": [
       "<div>\n",
       "<style scoped>\n",
       "    .dataframe tbody tr th:only-of-type {\n",
       "        vertical-align: middle;\n",
       "    }\n",
       "\n",
       "    .dataframe tbody tr th {\n",
       "        vertical-align: top;\n",
       "    }\n",
       "\n",
       "    .dataframe thead th {\n",
       "        text-align: right;\n",
       "    }\n",
       "</style>\n",
       "<table border=\"1\" class=\"dataframe\">\n",
       "  <thead>\n",
       "    <tr style=\"text-align: right;\">\n",
       "      <th></th>\n",
       "      <th>Country Name</th>\n",
       "      <th>World Rank</th>\n",
       "    </tr>\n",
       "  </thead>\n",
       "  <tbody>\n",
       "    <tr>\n",
       "      <th>72</th>\n",
       "      <td>Hong Kong</td>\n",
       "      <td>1.0</td>\n",
       "    </tr>\n",
       "    <tr>\n",
       "      <th>149</th>\n",
       "      <td>Singapore</td>\n",
       "      <td>2.0</td>\n",
       "    </tr>\n",
       "    <tr>\n",
       "      <th>122</th>\n",
       "      <td>New Zealand</td>\n",
       "      <td>3.0</td>\n",
       "    </tr>\n",
       "    <tr>\n",
       "      <th>160</th>\n",
       "      <td>Switzerland</td>\n",
       "      <td>4.0</td>\n",
       "    </tr>\n",
       "    <tr>\n",
       "      <th>6</th>\n",
       "      <td>Australia</td>\n",
       "      <td>5.0</td>\n",
       "    </tr>\n",
       "    <tr>\n",
       "      <th>79</th>\n",
       "      <td>Ireland</td>\n",
       "      <td>6.0</td>\n",
       "    </tr>\n",
       "    <tr>\n",
       "      <th>176</th>\n",
       "      <td>United Kingdom</td>\n",
       "      <td>7.0</td>\n",
       "    </tr>\n",
       "    <tr>\n",
       "      <th>29</th>\n",
       "      <td>Canada</td>\n",
       "      <td>8.0</td>\n",
       "    </tr>\n",
       "    <tr>\n",
       "      <th>175</th>\n",
       "      <td>United Arab Emirates</td>\n",
       "      <td>9.0</td>\n",
       "    </tr>\n",
       "    <tr>\n",
       "      <th>162</th>\n",
       "      <td>Taiwan</td>\n",
       "      <td>10.0</td>\n",
       "    </tr>\n",
       "  </tbody>\n",
       "</table>\n",
       "</div>"
      ],
      "text/plain": [
       "             Country Name  World Rank\n",
       "72              Hong Kong         1.0\n",
       "149             Singapore         2.0\n",
       "122           New Zealand         3.0\n",
       "160           Switzerland         4.0\n",
       "6               Australia         5.0\n",
       "79                Ireland         6.0\n",
       "176        United Kingdom         7.0\n",
       "29                 Canada         8.0\n",
       "175  United Arab Emirates         9.0\n",
       "162               Taiwan         10.0"
      ]
     },
     "execution_count": 81,
     "metadata": {},
     "output_type": "execute_result"
    }
   ],
   "source": [
    "#top 10 paises em liberdade economica\n",
    "ecof_top10 = ecof[['Country Name', 'World Rank']]\n",
    "ecof_top10.head(10)"
   ]
  },
  {
   "cell_type": "code",
   "execution_count": 23,
   "metadata": {},
   "outputs": [
    {
     "data": {
      "text/plain": [
       "2019 Score                     1.000000\n",
       "Property Rights                0.830409\n",
       "Business Freedom               0.812523\n",
       "Judical Effectiveness          0.804253\n",
       "Financial Freedom              0.790032\n",
       "Government Integrity           0.763715\n",
       "Investment Freedom             0.754252\n",
       "Trade Freedom                  0.753086\n",
       "Monetary Freedom               0.645076\n",
       "Labor Freedom                  0.579635\n",
       "Fiscal Health                  0.563171\n",
       "Tax Burden % of GDP            0.298399\n",
       "GDP Growth Rate (%)            0.188446\n",
       "Tax Burden                     0.137279\n",
       "5 Year GDP Growth Rate (%)     0.063560\n",
       "Gov't Spending                 0.045461\n",
       "Income Tax Rate (%)            0.009201\n",
       "Public Debt (% of GDP)        -0.036412\n",
       "Gov't Expenditure % of GDP    -0.129428\n",
       "Inflation (%)                 -0.276533\n",
       "Corporate Tax Rate (%)        -0.327574\n",
       "Tariff Rate (%)               -0.636272\n",
       "Region Rank                   -0.713517\n",
       "World Rank                    -0.938328\n",
       "Name: 2019 Score, dtype: float64"
      ]
     },
     "execution_count": 23,
     "metadata": {},
     "output_type": "execute_result"
    }
   ],
   "source": [
    "#correlacoes entre Score 2019 e demais variaveis macro\n",
    "score_corrs = ecof.corr()['2019 Score'].sort_values(ascending=False)\n",
    "score_corrs"
   ]
  },
  {
   "cell_type": "code",
   "execution_count": null,
   "metadata": {},
   "outputs": [],
   "source": [
    "#Os resultados são coerentes com o esperado.\n",
    "#A correlação é forte e positiva para liberdades de negocios, financeiras, investimentos, comercio, monetaria e trabalhista\n",
    "#Direitos de propriedade, eficiencia judiciaria, integridade do governo e saude fiscal tambem são fortemente correlacionadas\n",
    "#Crescimento do PIB são correlacionados positivamente mas com correlação mais fraca\n",
    "#Tambem como esperado, maior participacao do governo no economia são negativamente correlacionados, por meio de aumento de gastos e aumento de impostos\n",
    "#Destaque para a forte correlacao negativa para tarifas de importacao, que aumenta o protecionismo, fechando mais a economia do pais para produtos e tecnologias externas"
   ]
  },
  {
   "cell_type": "code",
   "execution_count": 43,
   "metadata": {},
   "outputs": [],
   "source": [
    "#graficos\n",
    "#2019 score x Countries\n",
    "#2019 score x variaveis macro"
   ]
  },
  {
   "cell_type": "code",
   "execution_count": 18,
   "metadata": {},
   "outputs": [
    {
     "data": {
      "text/plain": [
       "<matplotlib.axes._subplots.AxesSubplot at 0x249cec92780>"
      ]
     },
     "execution_count": 18,
     "metadata": {},
     "output_type": "execute_result"
    },
    {
     "data": {
      "image/png": "[encoded data removed]",
      "text/plain": [
       "<Figure size 432x288 with 1 Axes>"
      ]
     },
     "metadata": {
      "needs_background": "light"
     },
     "output_type": "display_data"
    }
   ],
   "source": [
    "ecof.plot.scatter(x='2019 Score',y='Property Rights')"
   ]
  },
  {
   "cell_type": "code",
   "execution_count": 19,
   "metadata": {},
   "outputs": [
    {
     "data": {
      "text/plain": [
       "<matplotlib.axes._subplots.AxesSubplot at 0x249cefacd68>"
      ]
     },
     "execution_count": 19,
     "metadata": {},
     "output_type": "execute_result"
    },
    {
     "data": {
      "image/png": "[encoded data removed]",
      "text/plain": [
       "<Figure size 432x288 with 1 Axes>"
      ]
     },
     "metadata": {
      "needs_background": "light"
     },
     "output_type": "display_data"
    }
   ],
   "source": [
    "ecof.plot.scatter(x='2019 Score',y='Business Freedom')"
   ]
  },
  {
   "cell_type": "code",
   "execution_count": 20,
   "metadata": {},
   "outputs": [
    {
     "data": {
      "text/plain": [
       "<matplotlib.axes._subplots.AxesSubplot at 0x249cf016b00>"
      ]
     },
     "execution_count": 20,
     "metadata": {},
     "output_type": "execute_result"
    },
    {
     "data": {
      "image/png": "[encoded data removed]",
      "text/plain": [
       "<Figure size 432x288 with 1 Axes>"
      ]
     },
     "metadata": {
      "needs_background": "light"
     },
     "output_type": "display_data"
    }
   ],
   "source": [
    "ecof.plot.scatter(x='2019 Score',y='Judical Effectiveness')"
   ]
  },
  {
   "cell_type": "code",
   "execution_count": 21,
   "metadata": {},
   "outputs": [
    {
     "data": {
      "text/plain": [
       "<matplotlib.axes._subplots.AxesSubplot at 0x249cf065b70>"
      ]
     },
     "execution_count": 21,
     "metadata": {},
     "output_type": "execute_result"
    },
    {
     "data": {
      "image/png": "[encoded data removed]",
      "text/plain": [
       "<Figure size 432x288 with 1 Axes>"
      ]
     },
     "metadata": {
      "needs_background": "light"
     },
     "output_type": "display_data"
    }
   ],
   "source": [
    "ecof.plot.scatter(x='2019 Score',y='Financial Freedom')"
   ]
  },
  {
   "cell_type": "code",
   "execution_count": 31,
   "metadata": {},
   "outputs": [
    {
     "data": {
      "text/plain": [
       "<matplotlib.axes._subplots.AxesSubplot at 0x249cf325860>"
      ]
     },
     "execution_count": 31,
     "metadata": {},
     "output_type": "execute_result"
    },
    {
     "data": {
      "image/png": "[encoded data removed]",
      "text/plain": [
       "<Figure size 432x288 with 1 Axes>"
      ]
     },
     "metadata": {
      "needs_background": "light"
     },
     "output_type": "display_data"
    }
   ],
   "source": [
    "ecof.plot.scatter(x='2019 Score',y='Government Integrity')"
   ]
  },
  {
   "cell_type": "code",
   "execution_count": 33,
   "metadata": {},
   "outputs": [
    {
     "data": {
      "text/plain": [
       "<matplotlib.axes._subplots.AxesSubplot at 0x249cf35da58>"
      ]
     },
     "execution_count": 33,
     "metadata": {},
     "output_type": "execute_result"
    },
    {
     "data": {
      "image/png": "[encoded data removed]",
      "text/plain": [
       "<Figure size 432x288 with 1 Axes>"
      ]
     },
     "metadata": {
      "needs_background": "light"
     },
     "output_type": "display_data"
    }
   ],
   "source": [
    "ecof.plot.scatter(x='2019 Score',y='Investment Freedom ')"
   ]
  },
  {
   "cell_type": "code",
   "execution_count": 34,
   "metadata": {},
   "outputs": [
    {
     "data": {
      "text/plain": [
       "<matplotlib.axes._subplots.AxesSubplot at 0x249cf517828>"
      ]
     },
     "execution_count": 34,
     "metadata": {},
     "output_type": "execute_result"
    },
    {
     "data": {
      "image/png": "[encoded data removed]",
      "text/plain": [
       "<Figure size 432x288 with 1 Axes>"
      ]
     },
     "metadata": {
      "needs_background": "light"
     },
     "output_type": "display_data"
    }
   ],
   "source": [
    "ecof.plot.scatter(x='2019 Score',y='Trade Freedom')"
   ]
  },
  {
   "cell_type": "code",
   "execution_count": 44,
   "metadata": {},
   "outputs": [
    {
     "data": {
      "text/plain": [
       "<matplotlib.axes._subplots.AxesSubplot at 0x249d0ca5a20>"
      ]
     },
     "execution_count": 44,
     "metadata": {},
     "output_type": "execute_result"
    },
    {
     "data": {
      "image/png": "[encoded data removed]",
      "text/plain": [
       "<Figure size 432x288 with 1 Axes>"
      ]
     },
     "metadata": {
      "needs_background": "light"
     },
     "output_type": "display_data"
    }
   ],
   "source": [
    "ecof.plot.scatter(x='2019 Score',y='Monetary Freedom')"
   ]
  },
  {
   "cell_type": "code",
   "execution_count": 45,
   "metadata": {},
   "outputs": [
    {
     "data": {
      "text/plain": [
       "<matplotlib.axes._subplots.AxesSubplot at 0x249d1d55cf8>"
      ]
     },
     "execution_count": 45,
     "metadata": {},
     "output_type": "execute_result"
    },
    {
     "data": {
      "image/png": "[encoded data removed]",
      "text/plain": [
       "<Figure size 432x288 with 1 Axes>"
      ]
     },
     "metadata": {
      "needs_background": "light"
     },
     "output_type": "display_data"
    }
   ],
   "source": [
    "ecof.plot.scatter(x='2019 Score',y='Labor Freedom')"
   ]
  },
  {
   "cell_type": "code",
   "execution_count": 46,
   "metadata": {},
   "outputs": [
    {
     "data": {
      "text/plain": [
       "<matplotlib.axes._subplots.AxesSubplot at 0x249d1da8cc0>"
      ]
     },
     "execution_count": 46,
     "metadata": {},
     "output_type": "execute_result"
    },
    {
     "data": {
      "image/png": "[encoded data removed]",
      "text/plain": [
       "<Figure size 432x288 with 1 Axes>"
      ]
     },
     "metadata": {
      "needs_background": "light"
     },
     "output_type": "display_data"
    }
   ],
   "source": [
    "ecof.plot.scatter(x='2019 Score',y='Fiscal Health')"
   ]
  },
  {
   "cell_type": "code",
   "execution_count": 47,
   "metadata": {},
   "outputs": [
    {
     "data": {
      "text/plain": [
       "<matplotlib.axes._subplots.AxesSubplot at 0x249d1dfa240>"
      ]
     },
     "execution_count": 47,
     "metadata": {},
     "output_type": "execute_result"
    },
    {
     "data": {
      "image/png": "[encoded data removed]",
      "text/plain": [
       "<Figure size 432x288 with 1 Axes>"
      ]
     },
     "metadata": {
      "needs_background": "light"
     },
     "output_type": "display_data"
    }
   ],
   "source": [
    "ecof.plot.scatter(x='2019 Score',y='Tax Burden % of GDP')"
   ]
  },
  {
   "cell_type": "code",
   "execution_count": 48,
   "metadata": {},
   "outputs": [
    {
     "data": {
      "text/plain": [
       "<matplotlib.axes._subplots.AxesSubplot at 0x249d1e53080>"
      ]
     },
     "execution_count": 48,
     "metadata": {},
     "output_type": "execute_result"
    },
    {
     "data": {
      "image/png": "[encoded data removed]",
      "text/plain": [
       "<Figure size 432x288 with 1 Axes>"
      ]
     },
     "metadata": {
      "needs_background": "light"
     },
     "output_type": "display_data"
    }
   ],
   "source": [
    "ecof.plot.scatter(x='2019 Score',y='GDP Growth Rate (%)')"
   ]
  },
  {
   "cell_type": "code",
   "execution_count": 49,
   "metadata": {},
   "outputs": [
    {
     "data": {
      "text/plain": [
       "<matplotlib.axes._subplots.AxesSubplot at 0x249d1ea7d30>"
      ]
     },
     "execution_count": 49,
     "metadata": {},
     "output_type": "execute_result"
    },
    {
     "data": {
      "image/png": "[encoded data removed]",
      "text/plain": [
       "<Figure size 432x288 with 1 Axes>"
      ]
     },
     "metadata": {
      "needs_background": "light"
     },
     "output_type": "display_data"
    }
   ],
   "source": [
    "ecof.plot.scatter(x='2019 Score',y='Tax Burden')"
   ]
  },
  {
   "cell_type": "code",
   "execution_count": 50,
   "metadata": {},
   "outputs": [
    {
     "data": {
      "text/plain": [
       "<matplotlib.axes._subplots.AxesSubplot at 0x249d1efa2b0>"
      ]
     },
     "execution_count": 50,
     "metadata": {},
     "output_type": "execute_result"
    },
    {
     "data": {
      "image/png": "[encoded data removed]",
      "text/plain": [
       "<Figure size 432x288 with 1 Axes>"
      ]
     },
     "metadata": {
      "needs_background": "light"
     },
     "output_type": "display_data"
    }
   ],
   "source": [
    "ecof.plot.scatter(x='2019 Score',y='5 Year GDP Growth Rate (%)')"
   ]
  },
  {
   "cell_type": "code",
   "execution_count": 52,
   "metadata": {},
   "outputs": [
    {
     "data": {
      "text/plain": [
       "<matplotlib.axes._subplots.AxesSubplot at 0x249d1f61cf8>"
      ]
     },
     "execution_count": 52,
     "metadata": {},
     "output_type": "execute_result"
    },
    {
     "data": {
      "image/png": "[encoded data removed]",
      "text/plain": [
       "<Figure size 432x288 with 1 Axes>"
      ]
     },
     "metadata": {
      "needs_background": "light"
     },
     "output_type": "display_data"
    }
   ],
   "source": [
    "ecof.plot.scatter(x='2019 Score',y=\"Gov't Spending\")"
   ]
  },
  {
   "cell_type": "code",
   "execution_count": 53,
   "metadata": {},
   "outputs": [
    {
     "data": {
      "text/plain": [
       "<matplotlib.axes._subplots.AxesSubplot at 0x249d1fa9b70>"
      ]
     },
     "execution_count": 53,
     "metadata": {},
     "output_type": "execute_result"
    },
    {
     "data": {
      "image/png": "[encoded data removed]",
      "text/plain": [
       "<Figure size 432x288 with 1 Axes>"
      ]
     },
     "metadata": {
      "needs_background": "light"
     },
     "output_type": "display_data"
    }
   ],
   "source": [
    "ecof.plot.scatter(x='2019 Score',y=\"Income Tax Rate (%)\")"
   ]
  },
  {
   "cell_type": "code",
   "execution_count": 54,
   "metadata": {},
   "outputs": [
    {
     "data": {
      "text/plain": [
       "<matplotlib.axes._subplots.AxesSubplot at 0x249d200fba8>"
      ]
     },
     "execution_count": 54,
     "metadata": {},
     "output_type": "execute_result"
    },
    {
     "data": {
      "image/png": "[encoded data removed]",
      "text/plain": [
       "<Figure size 432x288 with 1 Axes>"
      ]
     },
     "metadata": {
      "needs_background": "light"
     },
     "output_type": "display_data"
    }
   ],
   "source": [
    "ecof.plot.scatter(x='2019 Score',y=\"Public Debt (% of GDP)\")"
   ]
  },
  {
   "cell_type": "code",
   "execution_count": 55,
   "metadata": {},
   "outputs": [
    {
     "data": {
      "text/plain": [
       "<matplotlib.axes._subplots.AxesSubplot at 0x249d2079860>"
      ]
     },
     "execution_count": 55,
     "metadata": {},
     "output_type": "execute_result"
    },
    {
     "data": {
      "image/png": "[encoded data removed]",
      "text/plain": [
       "<Figure size 432x288 with 1 Axes>"
      ]
     },
     "metadata": {
      "needs_background": "light"
     },
     "output_type": "display_data"
    }
   ],
   "source": [
    "ecof.plot.scatter(x='2019 Score',y=\"Gov't Expenditure % of GDP \")"
   ]
  },
  {
   "cell_type": "code",
   "execution_count": 56,
   "metadata": {},
   "outputs": [
    {
     "data": {
      "text/plain": [
       "<matplotlib.axes._subplots.AxesSubplot at 0x249d20c6208>"
      ]
     },
     "execution_count": 56,
     "metadata": {},
     "output_type": "execute_result"
    },
    {
     "data": {
      "image/png": "[encoded data removed]",
      "text/plain": [
       "<Figure size 432x288 with 1 Axes>"
      ]
     },
     "metadata": {
      "needs_background": "light"
     },
     "output_type": "display_data"
    }
   ],
   "source": [
    "#grafico com outlier\n",
    "ecof.plot.scatter(x='2019 Score',y=\"Inflation (%)\")"
   ]
  },
  {
   "cell_type": "code",
   "execution_count": 68,
   "metadata": {},
   "outputs": [
    {
     "data": {
      "text/plain": [
       "181    Venezuela\n",
       "Name: Country Name, dtype: object"
      ]
     },
     "execution_count": 68,
     "metadata": {},
     "output_type": "execute_result"
    }
   ],
   "source": [
    "ecof.sort_values('Inflation (%)', ascending=False).head(1)['Country Name']"
   ]
  },
  {
   "cell_type": "code",
   "execution_count": 57,
   "metadata": {},
   "outputs": [
    {
     "data": {
      "text/plain": [
       "<matplotlib.axes._subplots.AxesSubplot at 0x249d2127128>"
      ]
     },
     "execution_count": 57,
     "metadata": {},
     "output_type": "execute_result"
    },
    {
     "data": {
      "image/png": "[encoded data removed]",
      "text/plain": [
       "<Figure size 432x288 with 1 Axes>"
      ]
     },
     "metadata": {
      "needs_background": "light"
     },
     "output_type": "display_data"
    }
   ],
   "source": [
    "ecof.plot.scatter(x='2019 Score',y=\"Corporate Tax Rate (%)\")"
   ]
  },
  {
   "cell_type": "code",
   "execution_count": 60,
   "metadata": {},
   "outputs": [
    {
     "data": {
      "text/plain": [
       "<matplotlib.axes._subplots.AxesSubplot at 0x249d2235940>"
      ]
     },
     "execution_count": 60,
     "metadata": {},
     "output_type": "execute_result"
    },
    {
     "data": {
      "image/png": "[encoded data removed]",
      "text/plain": [
       "<Figure size 432x288 with 1 Axes>"
      ]
     },
     "metadata": {
      "needs_background": "light"
     },
     "output_type": "display_data"
    }
   ],
   "source": [
    "ecof.plot.scatter(x='2019 Score',y=\"Tariff Rate (%)\")"
   ]
  }
 ],
 "metadata": {
  "kernelspec": {
   "display_name": "Python 3",
   "language": "python",
   "name": "python3"
  },
  "language_info": {
   "codemirror_mode": {
    "name": "ipython",
    "version": 3
   },
   "file_extension": ".py",
   "mimetype": "text/x-python",
   "name": "python",
   "nbconvert_exporter": "python",
   "pygments_lexer": "ipython3",
   "version": "3.7.3"
  }
 },
 "nbformat": 4,
 "nbformat_minor": 2
}
