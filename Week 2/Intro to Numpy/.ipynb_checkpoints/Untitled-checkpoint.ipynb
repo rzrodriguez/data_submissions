{
 "cells": [
  {
   "cell_type": "code",
   "execution_count": 1,
   "metadata": {},
   "outputs": [],
   "source": [
    "#1. Import the NUMPY package under the name np.\n",
    "import numpy as np"
   ]
  },
  {
   "cell_type": "code",
   "execution_count": 9,
   "metadata": {},
   "outputs": [
    {
     "name": "stdout",
     "output_type": "stream",
     "text": [
      "1.16.2\n"
     ]
    }
   ],
   "source": [
    "#2. Print the NUMPY version and the configuration.\n",
    "print(np.__version__)"
   ]
  },
  {
   "cell_type": "code",
   "execution_count": 17,
   "metadata": {},
   "outputs": [],
   "source": [
    "#3. Generate a 2x3x5 3-dimensional array with random values. Assign the array to variable \"a\"\n",
    "# Challenge: there are at least three easy ways that use numpy to generate random arrays. How many ways can you find?\n",
    "a = np.random.random([2,3,5])"
   ]
  },
  {
   "cell_type": "code",
   "execution_count": 11,
   "metadata": {},
   "outputs": [],
   "source": [
    "a = np.random.rand(2,3,5)"
   ]
  },
  {
   "cell_type": "code",
   "execution_count": 15,
   "metadata": {},
   "outputs": [],
   "source": [
    "a = np.arange(30).reshape((2,3,5))\n",
    "np.random.shuffle(a)"
   ]
  },
  {
   "cell_type": "code",
   "execution_count": 18,
   "metadata": {},
   "outputs": [
    {
     "name": "stdout",
     "output_type": "stream",
     "text": [
      "[[[0.17367456 0.85506993 0.37285889 0.17089715 0.81394647]\n",
      "  [0.57214047 0.49786624 0.44336884 0.95936017 0.59719083]\n",
      "  [0.08120629 0.63907439 0.48937444 0.0824491  0.11993954]]\n",
      "\n",
      " [[0.67444539 0.17951697 0.3218945  0.51671557 0.93891374]\n",
      "  [0.69762227 0.06998297 0.51980389 0.19333661 0.33515894]\n",
      "  [0.0165038  0.65224353 0.61343268 0.30391098 0.75633779]]]\n"
     ]
    }
   ],
   "source": [
    "#4. Print a.\n",
    "print(a)"
   ]
  },
  {
   "cell_type": "code",
   "execution_count": 20,
   "metadata": {},
   "outputs": [],
   "source": [
    "#5. Create a 5x2x3 3-dimensional array with all values equaling 1.\n",
    "#Assign the array to variable \"b\"\n",
    "b = np.ones([5,2,3])"
   ]
  },
  {
   "cell_type": "code",
   "execution_count": 21,
   "metadata": {},
   "outputs": [
    {
     "name": "stdout",
     "output_type": "stream",
     "text": [
      "[[[1. 1. 1.]\n",
      "  [1. 1. 1.]]\n",
      "\n",
      " [[1. 1. 1.]\n",
      "  [1. 1. 1.]]\n",
      "\n",
      " [[1. 1. 1.]\n",
      "  [1. 1. 1.]]\n",
      "\n",
      " [[1. 1. 1.]\n",
      "  [1. 1. 1.]]\n",
      "\n",
      " [[1. 1. 1.]\n",
      "  [1. 1. 1.]]]\n"
     ]
    }
   ],
   "source": [
    "#6. Print b.\n",
    "print(b)"
   ]
  },
  {
   "cell_type": "code",
   "execution_count": 22,
   "metadata": {},
   "outputs": [
    {
     "name": "stdout",
     "output_type": "stream",
     "text": [
      "a and b have the same size\n"
     ]
    }
   ],
   "source": [
    "#7. Do a and b have the same size? How do you prove that in Python code?\n",
    "\n",
    "if np.size(a) == np.size(b):\n",
    "    print(\"a and b have the same size\")\n",
    "else: \n",
    "    print(\"a and b does not have the same size\")"
   ]
  },
  {
   "cell_type": "code",
   "execution_count": 23,
   "metadata": {},
   "outputs": [
    {
     "ename": "ValueError",
     "evalue": "operands could not be broadcast together with shapes (2,3,5) (5,2,3) ",
     "output_type": "error",
     "traceback": [
      "\u001b[1;31m---------------------------------------------------------------------------\u001b[0m",
      "\u001b[1;31mValueError\u001b[0m                                Traceback (most recent call last)",
      "\u001b[1;32m<ipython-input-23-ae20e8e1257f>\u001b[0m in \u001b[0;36m<module>\u001b[1;34m\u001b[0m\n\u001b[0;32m      1\u001b[0m \u001b[1;31m#8. Are you able to add a and b? Why or why not?\u001b[0m\u001b[1;33m\u001b[0m\u001b[1;33m\u001b[0m\u001b[1;33m\u001b[0m\u001b[0m\n\u001b[1;32m----> 2\u001b[1;33m \u001b[0mnp\u001b[0m\u001b[1;33m.\u001b[0m\u001b[0madd\u001b[0m\u001b[1;33m(\u001b[0m\u001b[0ma\u001b[0m\u001b[1;33m,\u001b[0m\u001b[0mb\u001b[0m\u001b[1;33m)\u001b[0m\u001b[1;33m\u001b[0m\u001b[1;33m\u001b[0m\u001b[0m\n\u001b[0m",
      "\u001b[1;31mValueError\u001b[0m: operands could not be broadcast together with shapes (2,3,5) (5,2,3) "
     ]
    }
   ],
   "source": [
    "#8. Are you able to add a and b? Why or why not?\n",
    "np.add(a,b)\n",
    "#não é possível somar pois as matrizes são de dimensoes diferentes"
   ]
  },
  {
   "cell_type": "code",
   "execution_count": 31,
   "metadata": {},
   "outputs": [],
   "source": [
    "#9. Transpose b so that it has the same structure of a (i.e. become a 2x3x5 array). Assign the transposed array to varialbe \"c\".\n",
    "c = b.reshape(2,3,5)"
   ]
  },
  {
   "cell_type": "code",
   "execution_count": 25,
   "metadata": {},
   "outputs": [
    {
     "name": "stdout",
     "output_type": "stream",
     "text": [
      "[[[1. 1. 1. 1. 1.]\n",
      "  [1. 1. 1. 1. 1.]\n",
      "  [1. 1. 1. 1. 1.]]\n",
      "\n",
      " [[1. 1. 1. 1. 1.]\n",
      "  [1. 1. 1. 1. 1.]\n",
      "  [1. 1. 1. 1. 1.]]]\n"
     ]
    }
   ],
   "source": [
    "print(c)"
   ]
  },
  {
   "cell_type": "code",
   "execution_count": 26,
   "metadata": {},
   "outputs": [],
   "source": [
    "#10. Try to add a and c. Now it should work. Assign the sum to varialbe \"d\". But why does it work now?\n",
    "d = np.add(a,c)\n",
    "#Funciona agora porque as matrizes são de mesma dimensao"
   ]
  },
  {
   "cell_type": "code",
   "execution_count": 27,
   "metadata": {},
   "outputs": [
    {
     "name": "stdout",
     "output_type": "stream",
     "text": [
      "[[[0.17367456 0.85506993 0.37285889 0.17089715 0.81394647]\n",
      "  [0.57214047 0.49786624 0.44336884 0.95936017 0.59719083]\n",
      "  [0.08120629 0.63907439 0.48937444 0.0824491  0.11993954]]\n",
      "\n",
      " [[0.67444539 0.17951697 0.3218945  0.51671557 0.93891374]\n",
      "  [0.69762227 0.06998297 0.51980389 0.19333661 0.33515894]\n",
      "  [0.0165038  0.65224353 0.61343268 0.30391098 0.75633779]]]\n"
     ]
    }
   ],
   "source": [
    "#11. Print a and d. Notice the difference and relation of the two array in terms of the values? Explain.\n",
    "print(a)"
   ]
  },
  {
   "cell_type": "code",
   "execution_count": 28,
   "metadata": {},
   "outputs": [
    {
     "name": "stdout",
     "output_type": "stream",
     "text": [
      "[[[1.17367456 1.85506993 1.37285889 1.17089715 1.81394647]\n",
      "  [1.57214047 1.49786624 1.44336884 1.95936017 1.59719083]\n",
      "  [1.08120629 1.63907439 1.48937444 1.0824491  1.11993954]]\n",
      "\n",
      " [[1.67444539 1.17951697 1.3218945  1.51671557 1.93891374]\n",
      "  [1.69762227 1.06998297 1.51980389 1.19333661 1.33515894]\n",
      "  [1.0165038  1.65224353 1.61343268 1.30391098 1.75633779]]]\n"
     ]
    }
   ],
   "source": [
    "print(d)"
   ]
  },
  {
   "cell_type": "code",
   "execution_count": null,
   "metadata": {},
   "outputs": [],
   "source": [
    "#A matriz 'd' é igual a matriz 'a' acrescida de 1, devia a operacao feita no item #10."
   ]
  },
  {
   "cell_type": "code",
   "execution_count": 29,
   "metadata": {},
   "outputs": [],
   "source": [
    "#12. Multiply a and c. Assign the result to e.\n",
    "e = np.multiply(a,c)"
   ]
  },
  {
   "cell_type": "code",
   "execution_count": 32,
   "metadata": {},
   "outputs": [
    {
     "name": "stdout",
     "output_type": "stream",
     "text": [
      "[[[0.17367456 0.85506993 0.37285889 0.17089715 0.81394647]\n",
      "  [0.57214047 0.49786624 0.44336884 0.95936017 0.59719083]\n",
      "  [0.08120629 0.63907439 0.48937444 0.0824491  0.11993954]]\n",
      "\n",
      " [[0.67444539 0.17951697 0.3218945  0.51671557 0.93891374]\n",
      "  [0.69762227 0.06998297 0.51980389 0.19333661 0.33515894]\n",
      "  [0.0165038  0.65224353 0.61343268 0.30391098 0.75633779]]]\n"
     ]
    }
   ],
   "source": [
    "#13. Does e equal to a? Why or why not?\n",
    "print(e)"
   ]
  },
  {
   "cell_type": "code",
   "execution_count": 33,
   "metadata": {},
   "outputs": [
    {
     "name": "stdout",
     "output_type": "stream",
     "text": [
      "[[[0.17367456 0.85506993 0.37285889 0.17089715 0.81394647]\n",
      "  [0.57214047 0.49786624 0.44336884 0.95936017 0.59719083]\n",
      "  [0.08120629 0.63907439 0.48937444 0.0824491  0.11993954]]\n",
      "\n",
      " [[0.67444539 0.17951697 0.3218945  0.51671557 0.93891374]\n",
      "  [0.69762227 0.06998297 0.51980389 0.19333661 0.33515894]\n",
      "  [0.0165038  0.65224353 0.61343268 0.30391098 0.75633779]]]\n"
     ]
    }
   ],
   "source": [
    "print(a)"
   ]
  },
  {
   "cell_type": "code",
   "execution_count": null,
   "metadata": {},
   "outputs": [],
   "source": [
    "#São iguais porque multiplicamos a matriz 'a' por 1 (matriz 'c')"
   ]
  },
  {
   "cell_type": "code",
   "execution_count": 39,
   "metadata": {},
   "outputs": [],
   "source": [
    "#14. Identify the max, min, and mean values in d. Assign those values to variables \"d_max\", \"d_min\", and \"d_mean\"\n",
    "d_max = d.max()\n",
    "d_min = d.min()\n",
    "d_mean = d.mean()"
   ]
  },
  {
   "cell_type": "code",
   "execution_count": 40,
   "metadata": {},
   "outputs": [
    {
     "name": "stdout",
     "output_type": "stream",
     "text": [
      "1.9593601737756876\n",
      "1.016503799389942\n",
      "1.4552745643223697\n"
     ]
    }
   ],
   "source": [
    "print(d_max)\n",
    "print(d_min)\n",
    "print(d_mean)"
   ]
  },
  {
   "cell_type": "code",
   "execution_count": 42,
   "metadata": {},
   "outputs": [],
   "source": [
    "#15. Now we want to label the values in d. First create an empty array \"f\" with the same shape (i.e. 2x3x5) as d using `np.empty`.\n",
    "f = np.empty([2,3,5])"
   ]
  },
  {
   "cell_type": "code",
   "execution_count": null,
   "metadata": {},
   "outputs": [],
   "source": [
    "#16. Populate the values in f. For each value in d, if it's larger than d_min but smaller than d_mean, assign 25 to the corresponding value in f.\n",
    "If a value in d is larger than d_mean but smaller than d_max, assign 75 to the corresponding value in f.\n",
    "If a value equals to d_mean, assign 50 to the corresponding value in f.\n",
    "Assign 0 to the corresponding value(s) in f for d_min in d.\n",
    "Assign 100 to the corresponding value(s) in f for d_max in d.\n",
    "In the end, f should have only the following values: 0, 25, 50, 75, and 100.\n",
    "Note: you don't have to use Numpy in this question.\n",
    "\"\"\""
   ]
  },
  {
   "cell_type": "code",
   "execution_count": 43,
   "metadata": {},
   "outputs": [
    {
     "name": "stdout",
     "output_type": "stream",
     "text": [
      "[[[1.17367456 1.85506993 1.37285889 1.17089715 1.81394647]\n",
      "  [1.57214047 1.49786624 1.44336884 1.95936017 1.59719083]\n",
      "  [1.08120629 1.63907439 1.48937444 1.0824491  1.11993954]]\n",
      "\n",
      " [[1.67444539 1.17951697 1.3218945  1.51671557 1.93891374]\n",
      "  [1.69762227 1.06998297 1.51980389 1.19333661 1.33515894]\n",
      "  [1.0165038  1.65224353 1.61343268 1.30391098 1.75633779]]]\n"
     ]
    }
   ],
   "source": [
    "print(d)"
   ]
  },
  {
   "cell_type": "code",
   "execution_count": 47,
   "metadata": {},
   "outputs": [
    {
     "data": {
      "text/plain": [
       "1.1736745621486377"
      ]
     },
     "execution_count": 47,
     "metadata": {},
     "output_type": "execute_result"
    }
   ],
   "source": [
    "d[0,0,0]"
   ]
  },
  {
   "cell_type": "code",
   "execution_count": 51,
   "metadata": {},
   "outputs": [],
   "source": [
    "lin = 0\n",
    "col = 0\n",
    "dim = 0\n",
    "\n",
    "for i in d:\n",
    "    for j in i:\n",
    "        for k in j:\n",
    "            if k > d_mean and k < d_max:\n",
    "                f[lin,col,dim] = 75\n",
    "            elif k == d_mean:\n",
    "                f[lin,col,dim] = 50\n",
    "            elif k == d_min:\n",
    "                f[lin,col,dim] = 0\n",
    "            elif k == d_max:\n",
    "                f[lin,col,dim] = 100\n",
    "            else:\n",
    "                f[lin,col,dim] = 25 \n",
    "            dim += 1\n",
    "        dim = 0\n",
    "        col += 1\n",
    "    col = 0    \n",
    "    lin += 1"
   ]
  },
  {
   "cell_type": "code",
   "execution_count": null,
   "metadata": {},
   "outputs": [],
   "source": [
    "#17. Print d and f. Do you have your expected f?\n",
    "For instance, if your d is:\n",
    "array([[[1.85836099, 1.67064465, 1.62576044, 1.40243961, 1.88454931],\n",
    "        [1.75354326, 1.69403643, 1.36729252, 1.61415071, 1.12104981],\n",
    "        [1.72201435, 1.1862918 , 1.87078449, 1.7726778 , 1.88180042]],\n",
    "\n",
    "       [[1.44747908, 1.31673383, 1.02000951, 1.52218947, 1.97066381],\n",
    "        [1.79129243, 1.74983003, 1.96028037, 1.85166831, 1.65450881],\n",
    "        [1.18068344, 1.9587381 , 1.00656599, 1.93402165, 1.73514584]]])\n",
    "\n",
    "Your f should be:\n",
    "array([[[ 75.,  75.,  75.,  25.,  75.],\n",
    "        [ 75.,  75.,  25.,  25.,  25.],\n",
    "        [ 75.,  25.,  75.,  75.,  75.]],\n",
    "\n",
    "       [[ 25.,  25.,  25.,  25., 100.],\n",
    "        [ 75.,  75.,  75.,  75.,  75.],\n",
    "        [ 25.,  75.,   0.,  75.,  75.]]])"
   ]
  },
  {
   "cell_type": "code",
   "execution_count": 53,
   "metadata": {},
   "outputs": [
    {
     "name": "stdout",
     "output_type": "stream",
     "text": [
      "[[[ 25.  75.  25.  25.  75.]\n",
      "  [ 75.  75.  25. 100.  75.]\n",
      "  [ 25.  75.  75.  25.  25.]]\n",
      "\n",
      " [[ 75.  25.  25.  75.  75.]\n",
      "  [ 75.  25.  75.  25.  25.]\n",
      "  [  0.  75.  75.  25.  75.]]]\n"
     ]
    }
   ],
   "source": [
    "print(f)"
   ]
  },
  {
   "cell_type": "code",
   "execution_count": null,
   "metadata": {},
   "outputs": [],
   "source": [
    "#18. Bonus question: instead of using numbers (i.e. 0, 25, 50, 75, and 100), how to use string values \n",
    "(\"A\", \"B\", \"C\", \"D\", and \"E\") to label the array elements? You are expecting the result to be:\n",
    "array([[[ 'D',  'D',  'D',  'B',  'D'],\n",
    "        [ 'D',  'D',  'B',  'B',  'B'],\n",
    "        [ 'D',  'B',  'D',  'D',  'D']],\n",
    "\n",
    "       [[ 'B',  'B',  'B',  'B',  'E'],\n",
    "        [ 'D',  'D',  'D',  'D',  'D'],\n",
    "        [ 'B',  'D',   'A',  'D', 'D']]])\n",
    "Again, you don't need Numpy in this question."
   ]
  },
  {
   "cell_type": "code",
   "execution_count": 54,
   "metadata": {},
   "outputs": [],
   "source": [
    "g = np.empty([2,3,5], dtype = \"str\")"
   ]
  },
  {
   "cell_type": "code",
   "execution_count": 56,
   "metadata": {},
   "outputs": [],
   "source": [
    "lin = 0\n",
    "col = 0\n",
    "dim = 0\n",
    "\n",
    "for i in d:\n",
    "    for j in i:\n",
    "        for k in j:\n",
    "            if k > d_mean and k < d_max:\n",
    "                g[lin,col,dim] = \"D\"\n",
    "            elif k == d_mean:\n",
    "                g[lin,col,dim] = \"C\"\n",
    "            elif k == d_min:\n",
    "                g[lin,col,dim] = \"A\"\n",
    "            elif k == d_max:\n",
    "                g[lin,col,dim] = \"E\"\n",
    "            else:\n",
    "                g[lin,col,dim] = \"B\" \n",
    "            dim += 1\n",
    "        dim = 0\n",
    "        col += 1\n",
    "    col = 0    \n",
    "    lin += 1"
   ]
  },
  {
   "cell_type": "code",
   "execution_count": 57,
   "metadata": {},
   "outputs": [
    {
     "name": "stdout",
     "output_type": "stream",
     "text": [
      "[[['B' 'D' 'B' 'B' 'D']\n",
      "  ['D' 'D' 'B' 'E' 'D']\n",
      "  ['B' 'D' 'D' 'B' 'B']]\n",
      "\n",
      " [['D' 'B' 'B' 'D' 'D']\n",
      "  ['D' 'B' 'D' 'B' 'B']\n",
      "  ['A' 'D' 'D' 'B' 'D']]]\n"
     ]
    }
   ],
   "source": [
    "print(g)"
   ]
  }
 ],
 "metadata": {
  "kernelspec": {
   "display_name": "Python 3",
   "language": "python",
   "name": "python3"
  },
  "language_info": {
   "codemirror_mode": {
    "name": "ipython",
    "version": 3
   },
   "file_extension": ".py",
   "mimetype": "text/x-python",
   "name": "python",
   "nbconvert_exporter": "python",
   "pygments_lexer": "ipython3",
   "version": "3.7.3"
  }
 },
 "nbformat": 4,
 "nbformat_minor": 2
}
