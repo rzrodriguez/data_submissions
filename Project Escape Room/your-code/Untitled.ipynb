{
 "cells": [
  {
   "cell_type": "code",
   "execution_count": 7,
   "metadata": {},
   "outputs": [],
   "source": [
    "#variaveis\n",
    "\n",
    "def comeco_jogo():\n",
    "    print(\"Você está perdido, tente sair da casa.\")\n",
    "    return\n",
    "\n",
    "def acao():\n",
    "    \"\"\"\n",
    "    lista ações dispoíveis\n",
    "    \"\"\"\n",
    "    acao = input(\"Você pode 'explorar' o quarto ou 'examinar' algum item. O que deseja fazer? \")\n",
    "    if acao == \"explorar\":\n",
    "        explorar(local)\n",
    "    elif acao == \"examinar\":\n",
    "        examinar(item)\n",
    "    else:\n",
    "        print(\"Opção inválida. Digite uma das duas opções.\")\n",
    "        acao()\n",
    "    return\n",
    "    "
   ]
  },
  {
   "cell_type": "code",
   "execution_count": 9,
   "metadata": {},
   "outputs": [
    {
     "name": "stdout",
     "output_type": "stream",
     "text": [
      "Você pode 'explorar' o quarto ou 'examinar' algum item. O que deseja fazer? explorar\n"
     ]
    },
    {
     "ename": "NameError",
     "evalue": "name 'explorar' is not defined",
     "output_type": "error",
     "traceback": [
      "\u001b[1;31m---------------------------------------------------------------------------\u001b[0m",
      "\u001b[1;31mNameError\u001b[0m                                 Traceback (most recent call last)",
      "\u001b[1;32m<ipython-input-9-8cfcb7e2e044>\u001b[0m in \u001b[0;36m<module>\u001b[1;34m\u001b[0m\n\u001b[1;32m----> 1\u001b[1;33m \u001b[0macao\u001b[0m\u001b[1;33m(\u001b[0m\u001b[1;33m)\u001b[0m\u001b[1;33m\u001b[0m\u001b[1;33m\u001b[0m\u001b[0m\n\u001b[0m",
      "\u001b[1;32m<ipython-input-7-a45b0e42b576>\u001b[0m in \u001b[0;36macao\u001b[1;34m()\u001b[0m\n\u001b[0;32m     11\u001b[0m     \u001b[0macao\u001b[0m \u001b[1;33m=\u001b[0m \u001b[0minput\u001b[0m\u001b[1;33m(\u001b[0m\u001b[1;34m\"Você pode 'explorar' o quarto ou 'examinar' algum item. O que deseja fazer? \"\u001b[0m\u001b[1;33m)\u001b[0m\u001b[1;33m\u001b[0m\u001b[1;33m\u001b[0m\u001b[0m\n\u001b[0;32m     12\u001b[0m     \u001b[1;32mif\u001b[0m \u001b[0macao\u001b[0m \u001b[1;33m==\u001b[0m \u001b[1;34m\"explorar\"\u001b[0m\u001b[1;33m:\u001b[0m\u001b[1;33m\u001b[0m\u001b[1;33m\u001b[0m\u001b[0m\n\u001b[1;32m---> 13\u001b[1;33m         \u001b[0mexplorar\u001b[0m\u001b[1;33m(\u001b[0m\u001b[0mlocal\u001b[0m\u001b[1;33m)\u001b[0m\u001b[1;33m\u001b[0m\u001b[1;33m\u001b[0m\u001b[0m\n\u001b[0m\u001b[0;32m     14\u001b[0m     \u001b[1;32melif\u001b[0m \u001b[0macao\u001b[0m \u001b[1;33m==\u001b[0m \u001b[1;34m\"examinar\"\u001b[0m\u001b[1;33m:\u001b[0m\u001b[1;33m\u001b[0m\u001b[1;33m\u001b[0m\u001b[0m\n\u001b[0;32m     15\u001b[0m         \u001b[0mexaminar\u001b[0m\u001b[1;33m(\u001b[0m\u001b[0mitem\u001b[0m\u001b[1;33m)\u001b[0m\u001b[1;33m\u001b[0m\u001b[1;33m\u001b[0m\u001b[0m\n",
      "\u001b[1;31mNameError\u001b[0m: name 'explorar' is not defined"
     ]
    }
   ],
   "source": [
    "acao()"
   ]
  },
  {
   "cell_type": "code",
   "execution_count": null,
   "metadata": {},
   "outputs": [],
   "source": []
  }
 ],
 "metadata": {
  "kernelspec": {
   "display_name": "Python 3",
   "language": "python",
   "name": "python3"
  },
  "language_info": {
   "codemirror_mode": {
    "name": "ipython",
    "version": 3
   },
   "file_extension": ".py",
   "mimetype": "text/x-python",
   "name": "python",
   "nbconvert_exporter": "python",
   "pygments_lexer": "ipython3",
   "version": "3.7.3"
  }
 },
 "nbformat": 4,
 "nbformat_minor": 2
}
